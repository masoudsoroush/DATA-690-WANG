{
 "cells": [
  {
   "cell_type": "markdown",
   "metadata": {},
   "source": [
    "# Homework 3"
   ]
  },
  {
   "cell_type": "markdown",
   "metadata": {},
   "source": [
    "## Useful Functions for the Main Task"
   ]
  },
  {
   "cell_type": "code",
   "execution_count": 1,
   "metadata": {},
   "outputs": [],
   "source": [
    "import random"
   ]
  },
  {
   "cell_type": "code",
   "execution_count": 2,
   "metadata": {},
   "outputs": [],
   "source": [
    "# This function generates 10 random integers between 0 and 9 in a list.\n",
    "\n",
    "def RandFunc():\n",
    "    a=[];\n",
    "    for i in range(10):\n",
    "        a.append(random.randint(0,9))\n",
    "    return a"
   ]
  },
  {
   "cell_type": "code",
   "execution_count": 3,
   "metadata": {},
   "outputs": [],
   "source": [
    "# This function finds the sum of the entries of a list.\n",
    "\n",
    "def Sum(L):\n",
    "    a=0;\n",
    "    for k in range(len(L)):\n",
    "        a += L[k]\n",
    "    return a"
   ]
  },
  {
   "cell_type": "markdown",
   "metadata": {},
   "source": [
    "## Tasks of Homework 3"
   ]
  },
  {
   "cell_type": "markdown",
   "metadata": {},
   "source": [
    "### Print a 10x10 Matrix of Random Integers between 0 and 9"
   ]
  },
  {
   "cell_type": "code",
   "execution_count": 4,
   "metadata": {},
   "outputs": [
    {
     "name": "stdout",
     "output_type": "stream",
     "text": [
      "6 5 5 0 8 4 6 1 8 2  \n",
      "4 7 3 7 4 0 0 2 3 2  \n",
      "2 0 8 4 7 7 4 2 8 5  \n",
      "9 2 6 7 2 8 9 0 9 1  \n",
      "6 0 7 4 8 9 9 9 3 0  \n",
      "8 4 7 7 2 3 8 9 5 1  \n",
      "6 0 2 8 6 8 1 2 6 8  \n",
      "2 2 7 1 9 6 0 5 6 0  \n",
      "8 1 8 5 6 8 5 0 9 8  \n",
      "8 0 4 7 7 0 6 0 1 9  \n"
     ]
    }
   ],
   "source": [
    "# This block generates and prints the 10x10 matrix.\n",
    "\n",
    "for l in range(10):\n",
    "    b=RandFunc();\n",
    "    for k in range(10):\n",
    "        print(b[k],end=' ')\n",
    "        \n",
    "    print(' ')"
   ]
  },
  {
   "cell_type": "markdown",
   "metadata": {},
   "source": [
    "### Print a 10x10 Matrix of Random Integers with @ in Place of All Odd Entries"
   ]
  },
  {
   "cell_type": "code",
   "execution_count": 5,
   "metadata": {},
   "outputs": [
    {
     "name": "stdout",
     "output_type": "stream",
     "text": [
      "@ 8 4 @ @ 2 0 8 4 @  \n",
      "6 0 @ 4 0 @ 6 2 2 4  \n",
      "@ @ @ 4 0 @ @ @ 4 6  \n",
      "@ @ 4 @ @ 8 8 4 @ 2  \n",
      "@ 2 @ 2 0 @ 8 @ @ 4  \n",
      "0 2 4 @ @ @ 0 @ @ 4  \n",
      "4 0 @ @ 8 @ @ @ 6 @  \n",
      "@ @ 6 6 6 @ @ @ @ @  \n",
      "6 0 @ 4 @ @ 8 6 0 4  \n",
      "6 6 8 @ @ @ 0 2 8 6  \n"
     ]
    }
   ],
   "source": [
    "# This block generates and prints the 10x10 matrix of integers with @ in position of all odd entries.\n",
    "\n",
    "for l in range(10):\n",
    "    b=RandFunc();\n",
    "    for k in range(10):\n",
    "        if b[k]%2==0:\n",
    "            print(b[k],end=' ')\n",
    "        else:\n",
    "            print('@',end=' ')\n",
    "    print(' ')"
   ]
  },
  {
   "cell_type": "markdown",
   "metadata": {},
   "source": [
    "### Print a 10x10 Matrix of Integers with the Sum of Each Row at the End"
   ]
  },
  {
   "cell_type": "code",
   "execution_count": 6,
   "metadata": {},
   "outputs": [
    {
     "name": "stdout",
     "output_type": "stream",
     "text": [
      "8 4 2 7 8 7 1 4 7 7  *  55\n",
      "7 3 3 3 3 0 2 0 7 9  *  37\n",
      "5 7 5 0 5 2 5 9 9 4  *  51\n",
      "4 1 3 2 3 3 5 2 3 3  *  29\n",
      "1 9 9 5 4 2 1 2 6 2  *  41\n",
      "0 6 6 9 7 8 1 4 8 9  *  58\n",
      "9 0 5 4 4 0 6 1 4 3  *  36\n",
      "0 0 2 4 0 5 0 8 5 6  *  30\n",
      "0 0 7 0 5 3 9 1 3 8  *  36\n",
      "3 7 9 4 6 5 4 6 7 1  *  52\n"
     ]
    }
   ],
   "source": [
    "# This block prints a 10x10 matrix of random integers with the sum of each row at the end of the row after *.\n",
    "\n",
    "for l in range(10):\n",
    "    b=RandFunc();\n",
    "    for k in range(10):\n",
    "        print(b[k],end=' ')\n",
    "        \n",
    "    print(' * ',Sum(b))"
   ]
  },
  {
   "cell_type": "markdown",
   "metadata": {},
   "source": [
    "### Print a 10x10 Matrix of Random Integers and Surround by *"
   ]
  },
  {
   "cell_type": "code",
   "execution_count": 7,
   "metadata": {},
   "outputs": [
    {
     "name": "stdout",
     "output_type": "stream",
     "text": [
      "***********************\n",
      "* 9 7 6 0 9 9 5 1 0 0 * \n",
      "* 9 0 8 5 7 8 4 5 9 3 * \n",
      "* 5 5 5 4 3 9 0 1 9 0 * \n",
      "* 5 4 6 7 5 0 0 3 1 3 * \n",
      "* 6 6 1 8 3 3 5 2 1 5 * \n",
      "* 3 8 3 7 0 4 6 7 7 4 * \n",
      "* 2 4 9 4 5 4 7 5 4 8 * \n",
      "* 5 5 2 3 1 7 9 1 7 6 * \n",
      "* 0 0 8 5 1 1 8 8 5 7 * \n",
      "* 6 0 0 1 1 8 0 9 8 6 * \n",
      "***********************\n"
     ]
    }
   ],
   "source": [
    "# This block generates a 10x10 matrix of random integers surrounded by *.\n",
    "\n",
    "print('***********************')\n",
    "for l in range(10):\n",
    "    b=RandFunc();\n",
    "    print('*',end=' ')\n",
    "    for k in range(10):\n",
    "        print(b[k],end=' ')\n",
    "    \n",
    "    print('* ')\n",
    "    \n",
    "print('***********************')"
   ]
  },
  {
   "cell_type": "markdown",
   "metadata": {},
   "source": [
    "### Print a 10x10 Matrix of Random Integers with the Sum of Each Row and Column"
   ]
  },
  {
   "cell_type": "code",
   "execution_count": 8,
   "metadata": {},
   "outputs": [
    {
     "name": "stdout",
     "output_type": "stream",
     "text": [
      "1  4  0  9  3  1  3  8  2  2   *  33\n",
      "4  7  9  2  7  6  7  6  8  3   *  59\n",
      "9  2  3  7  5  2  1  6  3  4   *  42\n",
      "8  2  2  5  7  8  9  1  3  6   *  51\n",
      "6  4  3  9  6  9  7  9  9  9   *  71\n",
      "2  6  6  1  8  2  8  0  5  0   *  38\n",
      "8  9  9  0  1  0  6  6  5  6   *  50\n",
      "7  5  9  1  4  7  7  3  9  3   *  55\n",
      "9  5  8  4  9  3  8  4  8  3   *  61\n",
      "5  2  7  8  4  2  3  4  3  3   *  41\n",
      "*  *  *  *  *  *  *  *  *  *\n",
      "59 46 56 46 54 40 59 47 55 39 "
     ]
    }
   ],
   "source": [
    "# This block creates a 10x10 matrix of random integers with the sum of each row and column. The basic idea we used \n",
    "# here is the notion of the transposed matrix to take care of the sum of the columns.\n",
    "\n",
    "Mat=[RandFunc() for v in range(10)];\n",
    "MatTran=[[0 for u in range(10)] for v in range(10)]\n",
    "\n",
    "for l in range(10):\n",
    "    for k in range(10):\n",
    "        MatTran[k][l]=Mat[l][k]\n",
    "        print(Mat[l][k],end='  ')\n",
    "        \n",
    "    print(' * ',Sum(Mat[l]))\n",
    "    \n",
    "print('*  *  *  *  *  *  *  *  *  *')\n",
    "\n",
    "for m in range(10):\n",
    "    print(Sum(MatTran[m]),end=' ')"
   ]
  },
  {
   "cell_type": "code",
   "execution_count": null,
   "metadata": {},
   "outputs": [],
   "source": []
  }
 ],
 "metadata": {
  "kernelspec": {
   "display_name": "Python 3",
   "language": "python",
   "name": "python3"
  },
  "language_info": {
   "codemirror_mode": {
    "name": "ipython",
    "version": 3
   },
   "file_extension": ".py",
   "mimetype": "text/x-python",
   "name": "python",
   "nbconvert_exporter": "python",
   "pygments_lexer": "ipython3",
   "version": "3.7.2"
  }
 },
 "nbformat": 4,
 "nbformat_minor": 2
}
