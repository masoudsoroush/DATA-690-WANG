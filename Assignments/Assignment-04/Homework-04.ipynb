{
 "cells": [
  {
   "cell_type": "markdown",
   "metadata": {},
   "source": [
    "# Assignment 04\n",
    "1. Write code to open the text file [census_cost.txt](census_cost.txt) and read all lines into a list named **\"line_list\"**. Print line_list.\n",
    "2. Extract the first two lines and put them in a different list named \"top2_list\". You will need to use them later. Print the top2_list.\n",
    "3. Put the rest of the lines (containing useful data elements) in a new list named \"data_list\". Print data_list.\n",
    "4. Extract the column **\"Census Year\"** from data_list and assign them to a list named **year_list**. Remove the \"*\" from the last element \"2010*\". Print the cleansed year_list.\n",
    "5. Extract the **\"Total Population\"** column from the data_list and assign them to a list named **\"pop_list\"**. Remove the \",\" from the numbers since Python doesn't recognize them. Print the cleansed \"pop_list\".\n",
    "6. Extract the **\"Census Cost\"** column from the data_list and assign them to a list named **\"cost_list\"**. Remove the \",\", and \"$\", and \"Billion\".\n",
    "\n",
    "   Make sure to add the \"0\"s to the numbers from which you removed \"Billion\". Print the cleansed cost_list.  \n",
    "7. Extract the **\"Average Cost per Person\"** column from the data_list and assign them to a list named **\"avg_list\"**. Remove the \"cents\", and \"$\".\n",
    "Make sure to divide the numbers in cents by 100 so that all numbers are measured in dollar. Print the cleansed avg_list.\n",
    "8. Coalesce the cleansed data and save them to a text file named \"census_cost.csv\". The new file should look similar to the original source file except that it is in \n",
    "comma-delimited format and the numbers have been cleansed. The top two lines from the original file should be retained in the new file.\n",
    "9. Open the newly-created file \"census_cost.csv\", read all lines and display them. How does it look?"
   ]
  },
  {
   "cell_type": "markdown",
   "metadata": {},
   "source": [
    "1. Write code to open the text file [census_cost.txt](census_cost.txt) and read all lines into a list named **\"line_list\"**. Print line_list."
   ]
  },
  {
   "cell_type": "code",
   "execution_count": 1,
   "metadata": {},
   "outputs": [],
   "source": [
    "path='/Users/masoud/Dropbox/Private/UMBC-DataScience/DATA-690/census_cost.txt'\n",
    "with open(path,'rt') as f:\n",
    "    line_list=f.readlines()"
   ]
  },
  {
   "cell_type": "markdown",
   "metadata": {},
   "source": [
    "2. Extract the first two lines and put them in a different list named \"top2_list\". You will need to use them later. Print the top2_list."
   ]
  },
  {
   "cell_type": "code",
   "execution_count": 2,
   "metadata": {},
   "outputs": [],
   "source": [
    "top2_list=line_list[0:2]"
   ]
  },
  {
   "cell_type": "code",
   "execution_count": 3,
   "metadata": {},
   "outputs": [
    {
     "data": {
      "text/plain": [
       "['Source: https://www.genealogybranches.com/censuscosts.html\\n',\n",
       " 'Census Year\\tTotal Population\\tCensus Cost\\tAverage Cost Per Person\\n']"
      ]
     },
     "execution_count": 3,
     "metadata": {},
     "output_type": "execute_result"
    }
   ],
   "source": [
    "top2_list"
   ]
  },
  {
   "cell_type": "markdown",
   "metadata": {},
   "source": [
    "3. Put the rest of the lines (containing useful data elements) in a new list named \"data_list\". Print data_list."
   ]
  },
  {
   "cell_type": "code",
   "execution_count": 4,
   "metadata": {},
   "outputs": [
    {
     "data": {
      "text/plain": [
       "['1790\\t3,929,214\\t$44,377\\t1.13 cents\\n',\n",
       " '1800\\t5,308,483\\t$66,109\\t1.24 cents\\n',\n",
       " '1810\\t7,239,881\\t$178,445\\t2.46 cents\\n',\n",
       " '1820\\t9,633,822\\t$208,526\\t2.16 cents\\n',\n",
       " '1830\\t12,866,020\\t$378,545\\t2.94 cents\\n',\n",
       " '1840\\t17,069,458\\t$833,371\\t4.88 cents\\n',\n",
       " '1850\\t23,191,876\\t$1,423,351\\t6.14 cents\\n',\n",
       " '1860\\t31,443,321\\t$1,969,377\\t6.26 cents\\n',\n",
       " '1870\\t38,558,371\\t$3,421,198\\t8.87 cents\\n',\n",
       " '1880\\t50,155,783\\t$5,790,678\\t11.54 cents\\n',\n",
       " '1890\\t62,979,766\\t$11,547,127\\t18.33 cents\\n',\n",
       " '1900\\t76,303,387\\t$11,854,000\\t15.54 cents\\n',\n",
       " '1910\\t91,972,266\\t$15,968,000\\t17.07 cents\\n',\n",
       " '1920\\t105,710,620\\t$25,117,000\\t23.76 cents\\n',\n",
       " '1930\\t122,775,046\\t$40,156,000\\t32.71 cents\\n',\n",
       " '1940\\t131,669,275\\t$67,527,000\\t51.29 cents\\n',\n",
       " '1950\\t151,325,798\\t$91,462,000\\t60.44 cents\\n',\n",
       " '1960\\t179,323,175\\t$127,934,000\\t71.34 cents\\n',\n",
       " '1970\\t203,302,031\\t$247,653,000\\t$1.22\\n',\n",
       " '1980\\t226,542,199\\t$1,078,488,000\\t$4.76\\n',\n",
       " '1990\\t248,718,301\\t$2,492,830,000\\t$10.02\\n',\n",
       " '2000\\t281,421,906\\t$4.5 Billion\\t$15.99\\n',\n",
       " '2010*\\t308,745,538\\t$13 Billion\\t$42.11']"
      ]
     },
     "execution_count": 4,
     "metadata": {},
     "output_type": "execute_result"
    }
   ],
   "source": [
    "data_list=line_list[2:]\n",
    "data_list"
   ]
  },
  {
   "cell_type": "markdown",
   "metadata": {},
   "source": [
    "4. Extract the column **\"Census Year\"** from data_list and assign them to a list named **year_list**. Remove the \"*\" from the last element \"2010*\". Print the cleansed year_list."
   ]
  },
  {
   "cell_type": "code",
   "execution_count": 5,
   "metadata": {},
   "outputs": [
    {
     "name": "stdout",
     "output_type": "stream",
     "text": [
      "[1790, 1800, 1810, 1820, 1830, 1840, 1850, 1860, 1870, 1880, 1890, 1900, 1910, 1920, 1930, 1940, 1950, 1960, 1970, 1980, 1990, 2000, 2010]\n"
     ]
    }
   ],
   "source": [
    "year_list=[int(data_list[k].split('\\t')[0].replace('*','')) for k in range(len(data_list))]\n",
    "print(year_list)"
   ]
  },
  {
   "cell_type": "markdown",
   "metadata": {},
   "source": [
    "5. Extract the **\"Total Population\"** column from the data_list and assign them to a list named **\"pop_list\"**. Remove the \",\" from the numbers since Python doesn't recognize them. Print the cleansed \"pop_list\"."
   ]
  },
  {
   "cell_type": "code",
   "execution_count": 6,
   "metadata": {},
   "outputs": [
    {
     "name": "stdout",
     "output_type": "stream",
     "text": [
      "[3929214, 5308483, 7239881, 9633822, 12866020, 17069458, 23191876, 31443321, 38558371, 50155783, 62979766, 76303387, 91972266, 105710620, 122775046, 131669275, 151325798, 179323175, 203302031, 226542199, 248718301, 281421906, 308745538]\n"
     ]
    }
   ],
   "source": [
    "pop_list=[int(data_list[k].split('\\t')[1].replace(',','')) for k in range(len(data_list))]\n",
    "print(pop_list)"
   ]
  },
  {
   "cell_type": "markdown",
   "metadata": {},
   "source": [
    "6. Extract the **\"Census Cost\"** column from the data_list and assign them to a list named **\"cost_list\"**. Remove the \",\", and \"$\", and \"Billion\". Make sure to add the \"0\"s to the numbers from which you removed \"Billion\". Print the cleansed cost_list."
   ]
  },
  {
   "cell_type": "markdown",
   "metadata": {},
   "source": [
    "##### Method 1: The ugly way! Changing one of the elements of the list by hand. "
   ]
  },
  {
   "cell_type": "code",
   "execution_count": 7,
   "metadata": {},
   "outputs": [
    {
     "name": "stdout",
     "output_type": "stream",
     "text": [
      "[44377, 66109, 178445, 208526, 378545, 833371, 1423351, 1969377, 3421198, 5790678, 11547127, 11854000, 15968000, 25117000, 40156000, 67527000, 91462000, 127934000, 247653000, 1078488000, 2492830000, 4500000000.0, 13000000000]\n"
     ]
    }
   ],
   "source": [
    "# In this way, we eliminate '.' in one of the entries by hand.\n",
    "\n",
    "cost_list=[int(data_list[k].split('\\t')[2].replace(',','').replace('$','').replace('.','').\n",
    "               replace(' Billion','000000000')) for k in range(len(data_list))]\n",
    "cost_list[21]/=10\n",
    "\n",
    "print(cost_list)"
   ]
  },
  {
   "cell_type": "markdown",
   "metadata": {},
   "source": [
    "##### Method 2: The elegant way!"
   ]
  },
  {
   "cell_type": "code",
   "execution_count": 8,
   "metadata": {},
   "outputs": [],
   "source": [
    "# This function automatically removes the '.' uniformly.\n",
    "\n",
    "def RemoveDot (string):\n",
    "    a=0; x=string;\n",
    "    b=x.find('.')\n",
    "    if b !=-1: \n",
    "        for k in range(len(x)-b):\n",
    "            if x[len(x)-k-1]=='0':\n",
    "                a += 1\n",
    "            else:\n",
    "                break\n",
    "        y=x.replace('.','')[:a+b] + '.' + x.replace('.','')[a+b:]\n",
    "    else:\n",
    "        y=x\n",
    "    return y"
   ]
  },
  {
   "cell_type": "code",
   "execution_count": 9,
   "metadata": {},
   "outputs": [
    {
     "name": "stdout",
     "output_type": "stream",
     "text": [
      "[44377, 66109, 178445, 208526, 378545, 833371, 1423351, 1969377, 3421198, 5790678, 11547127, 11854000, 15968000, 25117000, 40156000, 67527000, 91462000, 127934000, 247653000, 1078488000, 2492830000, 4500000000, 13000000000]\n"
     ]
    }
   ],
   "source": [
    "cost_list=[int(float(RemoveDot(data_list[k].split('\\t')[2].replace(',','').replace('$','').\n",
    "               replace(' Billion','000000000')))) for k in range(len(data_list))]\n",
    "print(cost_list)"
   ]
  },
  {
   "cell_type": "markdown",
   "metadata": {},
   "source": [
    "7. Extract the **\"Average Cost per Person\"** column from the data_list and assign them to a list named **\"avg_list\"**. Remove the \"cents\", and \"$\".\n",
    "Make sure to divide the numbers in cents by 100 so that all numbers are measured in dollar. Print the cleansed avg_list."
   ]
  },
  {
   "cell_type": "code",
   "execution_count": 10,
   "metadata": {},
   "outputs": [],
   "source": [
    "# The following function removes 'cents' and divides by 100.\n",
    "\n",
    "def RemoveCents (string):\n",
    "    x=string\n",
    "    b=x.find(' cents')\n",
    "    if b !=-1: \n",
    "        y=float(x.replace(' cents','')) * 0.01\n",
    "    else:\n",
    "        y=float(x)\n",
    "    return y"
   ]
  },
  {
   "cell_type": "code",
   "execution_count": 11,
   "metadata": {},
   "outputs": [
    {
     "name": "stdout",
     "output_type": "stream",
     "text": [
      "[0.0113, 0.0124, 0.0246, 0.0216, 0.0294, 0.0488, 0.0614, 0.0626, 0.0887, 0.1154, 0.1833, 0.1554, 0.1707, 0.2376, 0.3271, 0.5129, 0.6044, 0.7134, 1.22, 4.76, 10.02, 15.99, 42.11]\n"
     ]
    }
   ],
   "source": [
    "avg_list=[round(RemoveCents(data_list[k].split('\\t')[3].replace('$','').replace('\\n','')),4) for k in \n",
    "          range(len(data_list))]\n",
    "print(avg_list)"
   ]
  },
  {
   "cell_type": "markdown",
   "metadata": {},
   "source": [
    "8. Coalesce the cleansed data and save them to a text file named \"census_cost.csv\". The new file should look similar to the original source file except that it is in \n",
    "comma-delimited format and the numbers have been cleansed. The top two lines from the original file should be retained in the new file."
   ]
  },
  {
   "cell_type": "code",
   "execution_count": 12,
   "metadata": {},
   "outputs": [],
   "source": [
    "rows=[[top2_list[0]],[top2_list[1]]]+[[year_list[k],pop_list[k],cost_list[k],avg_list[k]] \n",
    "                                  for k in range(len(data_list))]"
   ]
  },
  {
   "cell_type": "code",
   "execution_count": 13,
   "metadata": {},
   "outputs": [],
   "source": [
    "import csv\n",
    "\n",
    "with open('census_cost.csv', 'w') as csv_f:\n",
    "    csvwriter=csv.writer(csv_f)\n",
    "    csvwriter.writerows(rows)"
   ]
  },
  {
   "cell_type": "markdown",
   "metadata": {},
   "source": [
    "9. Open the newly-created file \"census_cost.csv\", read all lines and display them. How does it look?"
   ]
  },
  {
   "cell_type": "code",
   "execution_count": 14,
   "metadata": {},
   "outputs": [],
   "source": [
    "path_2='/Users/masoud/Dropbox/Private/UMBC-DataScience/DATA-690/census_cost.csv'\n",
    "with open(path_2,'r') as fcsv:\n",
    "    line_list_new=fcsv.readlines()"
   ]
  },
  {
   "cell_type": "code",
   "execution_count": 15,
   "metadata": {},
   "outputs": [
    {
     "data": {
      "text/plain": [
       "['\"Source: https://www.genealogybranches.com/censuscosts.html\\n',\n",
       " '\"\\n',\n",
       " '\"Census Year\\tTotal Population\\tCensus Cost\\tAverage Cost Per Person\\n',\n",
       " '\"\\n',\n",
       " '1790,3929214,44377,0.0113\\n',\n",
       " '1800,5308483,66109,0.0124\\n',\n",
       " '1810,7239881,178445,0.0246\\n',\n",
       " '1820,9633822,208526,0.0216\\n',\n",
       " '1830,12866020,378545,0.0294\\n',\n",
       " '1840,17069458,833371,0.0488\\n',\n",
       " '1850,23191876,1423351,0.0614\\n',\n",
       " '1860,31443321,1969377,0.0626\\n',\n",
       " '1870,38558371,3421198,0.0887\\n',\n",
       " '1880,50155783,5790678,0.1154\\n',\n",
       " '1890,62979766,11547127,0.1833\\n',\n",
       " '1900,76303387,11854000,0.1554\\n',\n",
       " '1910,91972266,15968000,0.1707\\n',\n",
       " '1920,105710620,25117000,0.2376\\n',\n",
       " '1930,122775046,40156000,0.3271\\n',\n",
       " '1940,131669275,67527000,0.5129\\n',\n",
       " '1950,151325798,91462000,0.6044\\n',\n",
       " '1960,179323175,127934000,0.7134\\n',\n",
       " '1970,203302031,247653000,1.22\\n',\n",
       " '1980,226542199,1078488000,4.76\\n',\n",
       " '1990,248718301,2492830000,10.02\\n',\n",
       " '2000,281421906,4500000000,15.99\\n',\n",
       " '2010,308745538,13000000000,42.11\\n']"
      ]
     },
     "execution_count": 15,
     "metadata": {},
     "output_type": "execute_result"
    }
   ],
   "source": [
    "line_list_new"
   ]
  },
  {
   "cell_type": "code",
   "execution_count": null,
   "metadata": {},
   "outputs": [],
   "source": []
  }
 ],
 "metadata": {
  "kernelspec": {
   "display_name": "Python 3",
   "language": "python",
   "name": "python3"
  },
  "language_info": {
   "codemirror_mode": {
    "name": "ipython",
    "version": 3
   },
   "file_extension": ".py",
   "mimetype": "text/x-python",
   "name": "python",
   "nbconvert_exporter": "python",
   "pygments_lexer": "ipython3",
   "version": "3.7.2"
  }
 },
 "nbformat": 4,
 "nbformat_minor": 2
}
