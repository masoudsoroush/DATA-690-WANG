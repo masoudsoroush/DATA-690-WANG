{
  "nbformat": 4,
  "nbformat_minor": 0,
  "metadata": {
    "colab": {
      "name": "Untitled1.ipynb",
      "provenance": [],
      "collapsed_sections": [],
      "authorship_tag": "ABX9TyMPVzBSpo88xcuOnyQAr7q+",
      "include_colab_link": true
    },
    "kernelspec": {
      "name": "python3",
      "display_name": "Python 3"
    }
  },
  "cells": [
    {
      "cell_type": "markdown",
      "metadata": {
        "id": "view-in-github",
        "colab_type": "text"
      },
      "source": [
        "<a href=\"https://colab.research.google.com/github/masoudsoroush/DATA-690-WANG/blob/master/Assignments/Assignment-06/Homework-06.ipynb\" target=\"_parent\"><img src=\"https://colab.research.google.com/assets/colab-badge.svg\" alt=\"Open In Colab\"/></a>"
      ]
    },
    {
      "cell_type": "markdown",
      "metadata": {
        "id": "z7noCWcj0yh5"
      },
      "source": [
        "# Assignment 06 - Using Pandas\n",
        "## Instructions\n",
        "- This assignment is a re-do of assignment 04. We use Pandas and functions instead. It is due Wednesday, Sept 30th.\n",
        "- WYou get to use the simple and convenient read_html() from Pandas to extract **HTML tables** from web pages. \n",
        "- We had walked through the process during last sesssion. The sample solution is here:\n",
        "- https://github.com/wcj365/python-stats-dataviz/blob/master/pandas_apply.ipynb\n",
        "- You will try to do it on your own and use the sample solution when you get stuck. \n",
        "- Make sure you user **Markdown cells** to document the process and its steps.\n",
        "## Requirements\n",
        "1. Use Pandas read_html() function to retrive the HTML tables as dataframes from the web page: https://www.genealogybranches.com/censuscosts.html\n",
        "2. Find out how many HTML tables Pandas retrieves from the web page. Find out which dataframe contain the data and use it for further processing.\n",
        "3. Display and explore the data (rows, columns, etc.) and determine the data quality (bad rows, bad columns, bad elements, null values, etc.)\n",
        "4. Document the data quality issues using a Markdown cell so the reader understands what the problems are.\n",
        "5. Write a function named cleanse_year() that takes a string as input and removes any asterisks in the string and return the cleansed string. Test the function by using test strings (for example, \"1989*\", \"20*10\")\n",
        "6. Cleanse the column \"Census Year\" using the function cleanse_year() and Pandas's apply() function.\n",
        "7. Repeat this process for column \"Total Population\", \t\"Census Cost\", \t\"Average Cost Per Person\". (define, test, and apply the function)\n",
        "8. After all columns are cleansed, save the clenased dataframe to a file named \"census_cost_cleansed.csv\" using CSV format.\n",
        "9. Use Pandas to read the saved cleansed file and explore to make sure it is clean. \n",
        "10. Updload both the Jupyter notebook and the cleanse data file to GitHub and submit the GitHub link in BlackBoard.\n",
        "\n",
        "> Give yourself a pad on the back. Now you get a feel of how wonderful Pandas is and \n",
        "> how powerful the combination of apply() and user-defined functions are.\n"
      ]
    },
    {
      "cell_type": "code",
      "metadata": {
        "id": "1q63wVIV0wKv"
      },
      "source": [
        "import pandas as pd"
      ],
      "execution_count": 1,
      "outputs": []
    },
    {
      "cell_type": "markdown",
      "metadata": {
        "id": "6zuGf0Im2f4H"
      },
      "source": [
        "Reading the tables directly from the given website "
      ]
    },
    {
      "cell_type": "code",
      "metadata": {
        "id": "SgsiFzI61UqZ"
      },
      "source": [
        "list_census=pd.read_html('https://www.genealogybranches.com/censuscosts.html')"
      ],
      "execution_count": 2,
      "outputs": []
    },
    {
      "cell_type": "markdown",
      "metadata": {
        "id": "K_S2crAq2xfW"
      },
      "source": [
        "Figuring out how many tables are read from the website"
      ]
    },
    {
      "cell_type": "code",
      "metadata": {
        "id": "ikTFWqPV2Bqd",
        "outputId": "2561cf8e-53ee-49a4-ee42-d4e9191876d8",
        "colab": {
          "base_uri": "https://localhost:8080/",
          "height": 34
        }
      },
      "source": [
        "len(list_census)"
      ],
      "execution_count": 3,
      "outputs": [
        {
          "output_type": "execute_result",
          "data": {
            "text/plain": [
              "2"
            ]
          },
          "metadata": {
            "tags": []
          },
          "execution_count": 3
        }
      ]
    },
    {
      "cell_type": "markdown",
      "metadata": {
        "id": "n8Lo-WIZ3Nbo"
      },
      "source": [
        "It is realized that the second table is not relevant for our analysis"
      ]
    },
    {
      "cell_type": "code",
      "metadata": {
        "id": "883GxjTa2Mzp",
        "outputId": "a752de8e-5a70-481a-bb99-32edd3194838",
        "colab": {
          "base_uri": "https://localhost:8080/",
          "height": 81
        }
      },
      "source": [
        "list_census[1]"
      ],
      "execution_count": 4,
      "outputs": [
        {
          "output_type": "execute_result",
          "data": {
            "text/html": [
              "<div>\n",
              "<style scoped>\n",
              "    .dataframe tbody tr th:only-of-type {\n",
              "        vertical-align: middle;\n",
              "    }\n",
              "\n",
              "    .dataframe tbody tr th {\n",
              "        vertical-align: top;\n",
              "    }\n",
              "\n",
              "    .dataframe thead th {\n",
              "        text-align: right;\n",
              "    }\n",
              "</style>\n",
              "<table border=\"1\" class=\"dataframe\">\n",
              "  <thead>\n",
              "    <tr style=\"text-align: right;\">\n",
              "      <th></th>\n",
              "      <th>0</th>\n",
              "    </tr>\n",
              "  </thead>\n",
              "  <tbody>\n",
              "    <tr>\n",
              "      <th>0</th>\n",
              "      <td>The U.S. population reached 300,000,000 on 17 ...</td>\n",
              "    </tr>\n",
              "  </tbody>\n",
              "</table>\n",
              "</div>"
            ],
            "text/plain": [
              "                                                   0\n",
              "0  The U.S. population reached 300,000,000 on 17 ..."
            ]
          },
          "metadata": {
            "tags": []
          },
          "execution_count": 4
        }
      ]
    },
    {
      "cell_type": "markdown",
      "metadata": {
        "id": "bfz9Whcj3eJ7"
      },
      "source": [
        "We focus on the first table to analyze the data."
      ]
    },
    {
      "cell_type": "code",
      "metadata": {
        "id": "e3q49zEx2_bF",
        "outputId": "3194a1e2-d322-4b07-d8d0-02a1ed3913ce",
        "colab": {
          "base_uri": "https://localhost:8080/",
          "height": 206
        }
      },
      "source": [
        "df=list_census[0]\n",
        "df.head()"
      ],
      "execution_count": 5,
      "outputs": [
        {
          "output_type": "execute_result",
          "data": {
            "text/html": [
              "<div>\n",
              "<style scoped>\n",
              "    .dataframe tbody tr th:only-of-type {\n",
              "        vertical-align: middle;\n",
              "    }\n",
              "\n",
              "    .dataframe tbody tr th {\n",
              "        vertical-align: top;\n",
              "    }\n",
              "\n",
              "    .dataframe thead th {\n",
              "        text-align: right;\n",
              "    }\n",
              "</style>\n",
              "<table border=\"1\" class=\"dataframe\">\n",
              "  <thead>\n",
              "    <tr style=\"text-align: right;\">\n",
              "      <th></th>\n",
              "      <th>0</th>\n",
              "      <th>1</th>\n",
              "      <th>2</th>\n",
              "      <th>3</th>\n",
              "    </tr>\n",
              "  </thead>\n",
              "  <tbody>\n",
              "    <tr>\n",
              "      <th>0</th>\n",
              "      <td>Census Year</td>\n",
              "      <td>Total Population</td>\n",
              "      <td>Census Cost</td>\n",
              "      <td>Average Cost Per Person</td>\n",
              "    </tr>\n",
              "    <tr>\n",
              "      <th>1</th>\n",
              "      <td>1790</td>\n",
              "      <td>3929214</td>\n",
              "      <td>$44,377</td>\n",
              "      <td>1.13 cents</td>\n",
              "    </tr>\n",
              "    <tr>\n",
              "      <th>2</th>\n",
              "      <td>1800</td>\n",
              "      <td>5308483</td>\n",
              "      <td>$66,109</td>\n",
              "      <td>1.24 cents</td>\n",
              "    </tr>\n",
              "    <tr>\n",
              "      <th>3</th>\n",
              "      <td>1810</td>\n",
              "      <td>7239881</td>\n",
              "      <td>$178,445</td>\n",
              "      <td>2.46 cents</td>\n",
              "    </tr>\n",
              "    <tr>\n",
              "      <th>4</th>\n",
              "      <td>1820</td>\n",
              "      <td>9633822</td>\n",
              "      <td>$208,526</td>\n",
              "      <td>2.16 cents</td>\n",
              "    </tr>\n",
              "  </tbody>\n",
              "</table>\n",
              "</div>"
            ],
            "text/plain": [
              "             0                 1            2                        3\n",
              "0  Census Year  Total Population  Census Cost  Average Cost Per Person\n",
              "1         1790           3929214      $44,377               1.13 cents\n",
              "2         1800           5308483      $66,109               1.24 cents\n",
              "3         1810           7239881     $178,445               2.46 cents\n",
              "4         1820           9633822     $208,526               2.16 cents"
            ]
          },
          "metadata": {
            "tags": []
          },
          "execution_count": 5
        }
      ]
    },
    {
      "cell_type": "code",
      "metadata": {
        "id": "5faSFqds3rqW",
        "outputId": "a85e0520-dffc-4f11-a6c6-7ac67b85ed8b",
        "colab": {
          "base_uri": "https://localhost:8080/",
          "height": 104
        }
      },
      "source": [
        "df.iloc[0]"
      ],
      "execution_count": 6,
      "outputs": [
        {
          "output_type": "execute_result",
          "data": {
            "text/plain": [
              "0                Census Year\n",
              "1           Total Population\n",
              "2                Census Cost\n",
              "3    Average Cost Per Person\n",
              "Name: 0, dtype: object"
            ]
          },
          "metadata": {
            "tags": []
          },
          "execution_count": 6
        }
      ]
    },
    {
      "cell_type": "markdown",
      "metadata": {
        "id": "_kjVpV904LOr"
      },
      "source": [
        "Replacing the columns by the first row, and getting rid of the first row."
      ]
    },
    {
      "cell_type": "code",
      "metadata": {
        "id": "-yLApUYR3-42",
        "outputId": "eb5cd2a0-199e-4ed1-fc58-dd5e215c6deb",
        "colab": {
          "base_uri": "https://localhost:8080/",
          "height": 206
        }
      },
      "source": [
        "df.columns=df.iloc[0]\n",
        "df.head()"
      ],
      "execution_count": 7,
      "outputs": [
        {
          "output_type": "execute_result",
          "data": {
            "text/html": [
              "<div>\n",
              "<style scoped>\n",
              "    .dataframe tbody tr th:only-of-type {\n",
              "        vertical-align: middle;\n",
              "    }\n",
              "\n",
              "    .dataframe tbody tr th {\n",
              "        vertical-align: top;\n",
              "    }\n",
              "\n",
              "    .dataframe thead th {\n",
              "        text-align: right;\n",
              "    }\n",
              "</style>\n",
              "<table border=\"1\" class=\"dataframe\">\n",
              "  <thead>\n",
              "    <tr style=\"text-align: right;\">\n",
              "      <th></th>\n",
              "      <th>Census Year</th>\n",
              "      <th>Total Population</th>\n",
              "      <th>Census Cost</th>\n",
              "      <th>Average Cost Per Person</th>\n",
              "    </tr>\n",
              "  </thead>\n",
              "  <tbody>\n",
              "    <tr>\n",
              "      <th>0</th>\n",
              "      <td>Census Year</td>\n",
              "      <td>Total Population</td>\n",
              "      <td>Census Cost</td>\n",
              "      <td>Average Cost Per Person</td>\n",
              "    </tr>\n",
              "    <tr>\n",
              "      <th>1</th>\n",
              "      <td>1790</td>\n",
              "      <td>3929214</td>\n",
              "      <td>$44,377</td>\n",
              "      <td>1.13 cents</td>\n",
              "    </tr>\n",
              "    <tr>\n",
              "      <th>2</th>\n",
              "      <td>1800</td>\n",
              "      <td>5308483</td>\n",
              "      <td>$66,109</td>\n",
              "      <td>1.24 cents</td>\n",
              "    </tr>\n",
              "    <tr>\n",
              "      <th>3</th>\n",
              "      <td>1810</td>\n",
              "      <td>7239881</td>\n",
              "      <td>$178,445</td>\n",
              "      <td>2.46 cents</td>\n",
              "    </tr>\n",
              "    <tr>\n",
              "      <th>4</th>\n",
              "      <td>1820</td>\n",
              "      <td>9633822</td>\n",
              "      <td>$208,526</td>\n",
              "      <td>2.16 cents</td>\n",
              "    </tr>\n",
              "  </tbody>\n",
              "</table>\n",
              "</div>"
            ],
            "text/plain": [
              "0  Census Year  Total Population  Census Cost  Average Cost Per Person\n",
              "0  Census Year  Total Population  Census Cost  Average Cost Per Person\n",
              "1         1790           3929214      $44,377               1.13 cents\n",
              "2         1800           5308483      $66,109               1.24 cents\n",
              "3         1810           7239881     $178,445               2.46 cents\n",
              "4         1820           9633822     $208,526               2.16 cents"
            ]
          },
          "metadata": {
            "tags": []
          },
          "execution_count": 7
        }
      ]
    },
    {
      "cell_type": "code",
      "metadata": {
        "id": "vrBBWvnk4cZY",
        "outputId": "90216b47-abee-47f6-d8ac-d5647810c574",
        "colab": {
          "base_uri": "https://localhost:8080/",
          "height": 206
        }
      },
      "source": [
        "df.drop([0],inplace=True)\n",
        "df.head()"
      ],
      "execution_count": 8,
      "outputs": [
        {
          "output_type": "execute_result",
          "data": {
            "text/html": [
              "<div>\n",
              "<style scoped>\n",
              "    .dataframe tbody tr th:only-of-type {\n",
              "        vertical-align: middle;\n",
              "    }\n",
              "\n",
              "    .dataframe tbody tr th {\n",
              "        vertical-align: top;\n",
              "    }\n",
              "\n",
              "    .dataframe thead th {\n",
              "        text-align: right;\n",
              "    }\n",
              "</style>\n",
              "<table border=\"1\" class=\"dataframe\">\n",
              "  <thead>\n",
              "    <tr style=\"text-align: right;\">\n",
              "      <th></th>\n",
              "      <th>Census Year</th>\n",
              "      <th>Total Population</th>\n",
              "      <th>Census Cost</th>\n",
              "      <th>Average Cost Per Person</th>\n",
              "    </tr>\n",
              "  </thead>\n",
              "  <tbody>\n",
              "    <tr>\n",
              "      <th>1</th>\n",
              "      <td>1790</td>\n",
              "      <td>3929214</td>\n",
              "      <td>$44,377</td>\n",
              "      <td>1.13 cents</td>\n",
              "    </tr>\n",
              "    <tr>\n",
              "      <th>2</th>\n",
              "      <td>1800</td>\n",
              "      <td>5308483</td>\n",
              "      <td>$66,109</td>\n",
              "      <td>1.24 cents</td>\n",
              "    </tr>\n",
              "    <tr>\n",
              "      <th>3</th>\n",
              "      <td>1810</td>\n",
              "      <td>7239881</td>\n",
              "      <td>$178,445</td>\n",
              "      <td>2.46 cents</td>\n",
              "    </tr>\n",
              "    <tr>\n",
              "      <th>4</th>\n",
              "      <td>1820</td>\n",
              "      <td>9633822</td>\n",
              "      <td>$208,526</td>\n",
              "      <td>2.16 cents</td>\n",
              "    </tr>\n",
              "    <tr>\n",
              "      <th>5</th>\n",
              "      <td>1830</td>\n",
              "      <td>12866020</td>\n",
              "      <td>$378,545</td>\n",
              "      <td>2.94 cents</td>\n",
              "    </tr>\n",
              "  </tbody>\n",
              "</table>\n",
              "</div>"
            ],
            "text/plain": [
              "0 Census Year Total Population Census Cost Average Cost Per Person\n",
              "1        1790          3929214     $44,377              1.13 cents\n",
              "2        1800          5308483     $66,109              1.24 cents\n",
              "3        1810          7239881    $178,445              2.46 cents\n",
              "4        1820          9633822    $208,526              2.16 cents\n",
              "5        1830         12866020    $378,545              2.94 cents"
            ]
          },
          "metadata": {
            "tags": []
          },
          "execution_count": 8
        }
      ]
    },
    {
      "cell_type": "markdown",
      "metadata": {
        "id": "6v4n7rJJ7thi"
      },
      "source": [
        "Write a function named cleanse_year() that takes a string as input and removes any asterisks in the string and return the cleansed string. Test the function by using test strings (for example, \"1989*\", \"20*10\")"
      ]
    },
    {
      "cell_type": "code",
      "metadata": {
        "id": "SGFTRuK3C1qP"
      },
      "source": [
        "# The 'Total Population' column is already clean. We only convert the values to integers.\n",
        "\n",
        "df['Total Population']=df['Total Population'].apply(int)"
      ],
      "execution_count": 9,
      "outputs": []
    },
    {
      "cell_type": "code",
      "metadata": {
        "id": "8nDdaNDP5x3b"
      },
      "source": [
        "# The following function gets rid of any asterisks, and converts the value to an integer.\n",
        "\n",
        "def cleanse_year(x):\n",
        "  y=x\n",
        "  for k in x:\n",
        "    if k=='*':\n",
        "      y=int(x.replace('*',''))\n",
        "  return y"
      ],
      "execution_count": 10,
      "outputs": []
    },
    {
      "cell_type": "code",
      "metadata": {
        "id": "GU9rh96I6ySl",
        "outputId": "935d4353-b45d-4d84-c078-e82bcfeed4a7",
        "colab": {
          "base_uri": "https://localhost:8080/",
          "height": 52
        }
      },
      "source": [
        "# Testing the 'cleanse_year' function.\n",
        "\n",
        "print(cleanse_year('1989*'))\n",
        "print(cleanse_year('21*10'))"
      ],
      "execution_count": 11,
      "outputs": [
        {
          "output_type": "stream",
          "text": [
            "1989\n",
            "2110\n"
          ],
          "name": "stdout"
        }
      ]
    },
    {
      "cell_type": "markdown",
      "metadata": {
        "id": "CYghWnLN8e0L"
      },
      "source": [
        "Cleanse the column \"Census Year\" using the function cleanse_year() and Pandas's apply() function."
      ]
    },
    {
      "cell_type": "code",
      "metadata": {
        "id": "ycsrq9eD7G7r"
      },
      "source": [
        "# Cleansing the 'Census Year' column of the dataframe.\n",
        "\n",
        "df['Census Year']=df['Census Year'].apply(cleanse_year)"
      ],
      "execution_count": 12,
      "outputs": []
    },
    {
      "cell_type": "markdown",
      "metadata": {
        "id": "e6_r-Xvv-m0x"
      },
      "source": [
        "Repeat this process for column \"Total Population\", \t\"Census Cost\", \t\"Average Cost Per Person\". (define, test, and apply the function)"
      ]
    },
    {
      "cell_type": "code",
      "metadata": {
        "id": "fTMbMtPcADM7"
      },
      "source": [
        "# This function automatically removes the '.' uniformly (I used the same function I had defined in HW-04).\n",
        "\n",
        "def RemoveDot (string):\n",
        "    a=0; x=string;\n",
        "    b=x.find('.')\n",
        "    if b !=-1: \n",
        "        for k in range(len(x)-b):\n",
        "            if x[len(x)-k-1]=='0':\n",
        "                a += 1\n",
        "            else:\n",
        "                break\n",
        "        y=x.replace('.','')[:a+b] + '.' + x.replace('.','')[a+b:]\n",
        "    else:\n",
        "        y=x\n",
        "    return y"
      ],
      "execution_count": 13,
      "outputs": []
    },
    {
      "cell_type": "code",
      "metadata": {
        "id": "o7kYGCGu-0vf"
      },
      "source": [
        "# The following function cleanse the cost.\n",
        "\n",
        "def cleanse_cost(x):\n",
        "  y=x.replace('$','').replace(',','').replace(' Billion','000000000')\n",
        "  y=int(float(RemoveDot(y))) \n",
        "  return y"
      ],
      "execution_count": 14,
      "outputs": []
    },
    {
      "cell_type": "code",
      "metadata": {
        "id": "8sV0wOjW_Pk8",
        "outputId": "5b87f6d6-3eb9-493f-abb0-594030c1991b",
        "colab": {
          "base_uri": "https://localhost:8080/",
          "height": 69
        }
      },
      "source": [
        "# Testing the above function.\n",
        "\n",
        "print(cleanse_cost('$3,421,198'))\n",
        "print(cleanse_cost('$3.345237 Billion'))\n",
        "print(cleanse_cost('$13 Billion'))"
      ],
      "execution_count": 15,
      "outputs": [
        {
          "output_type": "stream",
          "text": [
            "3421198\n",
            "3345237000\n",
            "13000000000\n"
          ],
          "name": "stdout"
        }
      ]
    },
    {
      "cell_type": "code",
      "metadata": {
        "id": "KnbDhOBa-O_E"
      },
      "source": [
        "# Cleansing the 'Census Cost' column of the dataframe.\n",
        "\n",
        "df['Census Cost']=df['Census Cost'].apply(cleanse_cost)"
      ],
      "execution_count": 16,
      "outputs": []
    },
    {
      "cell_type": "code",
      "metadata": {
        "id": "ZbCCv0v6AVhu"
      },
      "source": [
        "# The following function removes 'cents' and divides by 100.\n",
        "\n",
        "def RemoveCents (string):\n",
        "    x=string.replace('$','')\n",
        "    b=x.find(' cents')\n",
        "    if b !=-1: \n",
        "        y=float(x.replace(' cents','')) * 0.01\n",
        "    else:\n",
        "        y=float(x)\n",
        "    return y"
      ],
      "execution_count": 17,
      "outputs": []
    },
    {
      "cell_type": "code",
      "metadata": {
        "id": "XFQpp9lJDDq6",
        "outputId": "29bc3a7d-ce16-4d9c-ebc4-00c18b53914f",
        "colab": {
          "base_uri": "https://localhost:8080/",
          "height": 52
        }
      },
      "source": [
        "# Testing the above function.\n",
        "\n",
        "print(RemoveCents('2.16 cents'))\n",
        "print(RemoveCents('$4.76'))"
      ],
      "execution_count": 18,
      "outputs": [
        {
          "output_type": "stream",
          "text": [
            "0.0216\n",
            "4.76\n"
          ],
          "name": "stdout"
        }
      ]
    },
    {
      "cell_type": "code",
      "metadata": {
        "id": "oEHd5cyiDzLR"
      },
      "source": [
        "# Cleansing the 'Average Cost Per Person' column of the dataframe.\n",
        "\n",
        "df['Average Cost Per Person']=df['Average Cost Per Person'].apply(RemoveCents)"
      ],
      "execution_count": 19,
      "outputs": []
    },
    {
      "cell_type": "markdown",
      "metadata": {
        "id": "Mqm9kZr0FOYm"
      },
      "source": [
        "After all columns are cleansed, save the clenased dataframe to a file named \"census_cost_cleansed.csv\" using CSV format."
      ]
    },
    {
      "cell_type": "code",
      "metadata": {
        "id": "zlEzlvIjD1VC"
      },
      "source": [
        "# Saving the cleansed dataframe as a csv file.\n",
        "\n",
        "df.to_csv('census_cost_cleansed.csv')"
      ],
      "execution_count": 20,
      "outputs": []
    },
    {
      "cell_type": "markdown",
      "metadata": {
        "id": "cxa2CGVkFfxj"
      },
      "source": [
        "Use Pandas to read the saved cleansed file and explore to make sure it is clean."
      ]
    },
    {
      "cell_type": "code",
      "metadata": {
        "id": "KUO69Ek7Edhy"
      },
      "source": [
        "# Reading the saved csv file.\n",
        "\n",
        "New_df=pd.read_csv('census_cost_cleansed.csv')"
      ],
      "execution_count": 21,
      "outputs": []
    },
    {
      "cell_type": "code",
      "metadata": {
        "id": "13qq94SKGTrr"
      },
      "source": [
        "# I am not sure why a new column is added to the new dataframe when it is read from the csv file! I just get rid \n",
        "# of that unwanted column. Dr. Wang, any idea why this happens?\n",
        "\n",
        "New_df.drop(columns=['Unnamed: 0'],inplace=True)"
      ],
      "execution_count": 22,
      "outputs": []
    },
    {
      "cell_type": "code",
      "metadata": {
        "id": "0-hk8FhFHspL",
        "outputId": "41eb4709-aefc-4e13-8281-2600b1050d70",
        "colab": {
          "base_uri": "https://localhost:8080/",
          "height": 771
        }
      },
      "source": [
        "# Exploring for any anomalies. \n",
        "\n",
        "New_df"
      ],
      "execution_count": 23,
      "outputs": [
        {
          "output_type": "execute_result",
          "data": {
            "text/html": [
              "<div>\n",
              "<style scoped>\n",
              "    .dataframe tbody tr th:only-of-type {\n",
              "        vertical-align: middle;\n",
              "    }\n",
              "\n",
              "    .dataframe tbody tr th {\n",
              "        vertical-align: top;\n",
              "    }\n",
              "\n",
              "    .dataframe thead th {\n",
              "        text-align: right;\n",
              "    }\n",
              "</style>\n",
              "<table border=\"1\" class=\"dataframe\">\n",
              "  <thead>\n",
              "    <tr style=\"text-align: right;\">\n",
              "      <th></th>\n",
              "      <th>Census Year</th>\n",
              "      <th>Total Population</th>\n",
              "      <th>Census Cost</th>\n",
              "      <th>Average Cost Per Person</th>\n",
              "    </tr>\n",
              "  </thead>\n",
              "  <tbody>\n",
              "    <tr>\n",
              "      <th>0</th>\n",
              "      <td>1790</td>\n",
              "      <td>3929214</td>\n",
              "      <td>44377</td>\n",
              "      <td>0.0113</td>\n",
              "    </tr>\n",
              "    <tr>\n",
              "      <th>1</th>\n",
              "      <td>1800</td>\n",
              "      <td>5308483</td>\n",
              "      <td>66109</td>\n",
              "      <td>0.0124</td>\n",
              "    </tr>\n",
              "    <tr>\n",
              "      <th>2</th>\n",
              "      <td>1810</td>\n",
              "      <td>7239881</td>\n",
              "      <td>178445</td>\n",
              "      <td>0.0246</td>\n",
              "    </tr>\n",
              "    <tr>\n",
              "      <th>3</th>\n",
              "      <td>1820</td>\n",
              "      <td>9633822</td>\n",
              "      <td>208526</td>\n",
              "      <td>0.0216</td>\n",
              "    </tr>\n",
              "    <tr>\n",
              "      <th>4</th>\n",
              "      <td>1830</td>\n",
              "      <td>12866020</td>\n",
              "      <td>378545</td>\n",
              "      <td>0.0294</td>\n",
              "    </tr>\n",
              "    <tr>\n",
              "      <th>5</th>\n",
              "      <td>1840</td>\n",
              "      <td>17069458</td>\n",
              "      <td>833371</td>\n",
              "      <td>0.0488</td>\n",
              "    </tr>\n",
              "    <tr>\n",
              "      <th>6</th>\n",
              "      <td>1850</td>\n",
              "      <td>23191876</td>\n",
              "      <td>1423351</td>\n",
              "      <td>0.0614</td>\n",
              "    </tr>\n",
              "    <tr>\n",
              "      <th>7</th>\n",
              "      <td>1860</td>\n",
              "      <td>31443321</td>\n",
              "      <td>1969377</td>\n",
              "      <td>0.0626</td>\n",
              "    </tr>\n",
              "    <tr>\n",
              "      <th>8</th>\n",
              "      <td>1870</td>\n",
              "      <td>38558371</td>\n",
              "      <td>3421198</td>\n",
              "      <td>0.0887</td>\n",
              "    </tr>\n",
              "    <tr>\n",
              "      <th>9</th>\n",
              "      <td>1880</td>\n",
              "      <td>50155783</td>\n",
              "      <td>5790678</td>\n",
              "      <td>0.1154</td>\n",
              "    </tr>\n",
              "    <tr>\n",
              "      <th>10</th>\n",
              "      <td>1890</td>\n",
              "      <td>62979766</td>\n",
              "      <td>11547127</td>\n",
              "      <td>0.1833</td>\n",
              "    </tr>\n",
              "    <tr>\n",
              "      <th>11</th>\n",
              "      <td>1900</td>\n",
              "      <td>76303387</td>\n",
              "      <td>11854000</td>\n",
              "      <td>0.1554</td>\n",
              "    </tr>\n",
              "    <tr>\n",
              "      <th>12</th>\n",
              "      <td>1910</td>\n",
              "      <td>91972266</td>\n",
              "      <td>15968000</td>\n",
              "      <td>0.1707</td>\n",
              "    </tr>\n",
              "    <tr>\n",
              "      <th>13</th>\n",
              "      <td>1920</td>\n",
              "      <td>105710620</td>\n",
              "      <td>25117000</td>\n",
              "      <td>0.2376</td>\n",
              "    </tr>\n",
              "    <tr>\n",
              "      <th>14</th>\n",
              "      <td>1930</td>\n",
              "      <td>122775046</td>\n",
              "      <td>40156000</td>\n",
              "      <td>0.3271</td>\n",
              "    </tr>\n",
              "    <tr>\n",
              "      <th>15</th>\n",
              "      <td>1940</td>\n",
              "      <td>131669275</td>\n",
              "      <td>67527000</td>\n",
              "      <td>0.5129</td>\n",
              "    </tr>\n",
              "    <tr>\n",
              "      <th>16</th>\n",
              "      <td>1950</td>\n",
              "      <td>151325798</td>\n",
              "      <td>91462000</td>\n",
              "      <td>0.6044</td>\n",
              "    </tr>\n",
              "    <tr>\n",
              "      <th>17</th>\n",
              "      <td>1960</td>\n",
              "      <td>179323175</td>\n",
              "      <td>127934000</td>\n",
              "      <td>0.7134</td>\n",
              "    </tr>\n",
              "    <tr>\n",
              "      <th>18</th>\n",
              "      <td>1970</td>\n",
              "      <td>203302031</td>\n",
              "      <td>247653000</td>\n",
              "      <td>1.2200</td>\n",
              "    </tr>\n",
              "    <tr>\n",
              "      <th>19</th>\n",
              "      <td>1980</td>\n",
              "      <td>226542199</td>\n",
              "      <td>1078488000</td>\n",
              "      <td>4.7600</td>\n",
              "    </tr>\n",
              "    <tr>\n",
              "      <th>20</th>\n",
              "      <td>1990</td>\n",
              "      <td>248718301</td>\n",
              "      <td>2492830000</td>\n",
              "      <td>10.0200</td>\n",
              "    </tr>\n",
              "    <tr>\n",
              "      <th>21</th>\n",
              "      <td>2000</td>\n",
              "      <td>281421906</td>\n",
              "      <td>4500000000</td>\n",
              "      <td>15.9900</td>\n",
              "    </tr>\n",
              "    <tr>\n",
              "      <th>22</th>\n",
              "      <td>2010</td>\n",
              "      <td>308745538</td>\n",
              "      <td>13000000000</td>\n",
              "      <td>42.1100</td>\n",
              "    </tr>\n",
              "  </tbody>\n",
              "</table>\n",
              "</div>"
            ],
            "text/plain": [
              "    Census Year  Total Population  Census Cost  Average Cost Per Person\n",
              "0          1790           3929214        44377                   0.0113\n",
              "1          1800           5308483        66109                   0.0124\n",
              "2          1810           7239881       178445                   0.0246\n",
              "3          1820           9633822       208526                   0.0216\n",
              "4          1830          12866020       378545                   0.0294\n",
              "5          1840          17069458       833371                   0.0488\n",
              "6          1850          23191876      1423351                   0.0614\n",
              "7          1860          31443321      1969377                   0.0626\n",
              "8          1870          38558371      3421198                   0.0887\n",
              "9          1880          50155783      5790678                   0.1154\n",
              "10         1890          62979766     11547127                   0.1833\n",
              "11         1900          76303387     11854000                   0.1554\n",
              "12         1910          91972266     15968000                   0.1707\n",
              "13         1920         105710620     25117000                   0.2376\n",
              "14         1930         122775046     40156000                   0.3271\n",
              "15         1940         131669275     67527000                   0.5129\n",
              "16         1950         151325798     91462000                   0.6044\n",
              "17         1960         179323175    127934000                   0.7134\n",
              "18         1970         203302031    247653000                   1.2200\n",
              "19         1980         226542199   1078488000                   4.7600\n",
              "20         1990         248718301   2492830000                  10.0200\n",
              "21         2000         281421906   4500000000                  15.9900\n",
              "22         2010         308745538  13000000000                  42.1100"
            ]
          },
          "metadata": {
            "tags": []
          },
          "execution_count": 23
        }
      ]
    },
    {
      "cell_type": "code",
      "metadata": {
        "id": "5uPG-k-sGVUd",
        "outputId": "99b2a818-2d38-4c6a-96c3-a8eb66c9f789",
        "colab": {
          "base_uri": "https://localhost:8080/",
          "height": 300
        }
      },
      "source": [
        "# Statistical indicators of all columns are displayed!\n",
        "\n",
        "New_df.describe()"
      ],
      "execution_count": 24,
      "outputs": [
        {
          "output_type": "execute_result",
          "data": {
            "text/html": [
              "<div>\n",
              "<style scoped>\n",
              "    .dataframe tbody tr th:only-of-type {\n",
              "        vertical-align: middle;\n",
              "    }\n",
              "\n",
              "    .dataframe tbody tr th {\n",
              "        vertical-align: top;\n",
              "    }\n",
              "\n",
              "    .dataframe thead th {\n",
              "        text-align: right;\n",
              "    }\n",
              "</style>\n",
              "<table border=\"1\" class=\"dataframe\">\n",
              "  <thead>\n",
              "    <tr style=\"text-align: right;\">\n",
              "      <th></th>\n",
              "      <th>Census Year</th>\n",
              "      <th>Total Population</th>\n",
              "      <th>Census Cost</th>\n",
              "      <th>Average Cost Per Person</th>\n",
              "    </tr>\n",
              "  </thead>\n",
              "  <tbody>\n",
              "    <tr>\n",
              "      <th>count</th>\n",
              "      <td>23.0000</td>\n",
              "      <td>2.300000e+01</td>\n",
              "      <td>2.300000e+01</td>\n",
              "      <td>23.000000</td>\n",
              "    </tr>\n",
              "    <tr>\n",
              "      <th>mean</th>\n",
              "      <td>1900.0000</td>\n",
              "      <td>1.039211e+08</td>\n",
              "      <td>9.445587e+08</td>\n",
              "      <td>3.368739</td>\n",
              "    </tr>\n",
              "    <tr>\n",
              "      <th>std</th>\n",
              "      <td>67.8233</td>\n",
              "      <td>9.622629e+07</td>\n",
              "      <td>2.830037e+09</td>\n",
              "      <td>9.278241</td>\n",
              "    </tr>\n",
              "    <tr>\n",
              "      <th>min</th>\n",
              "      <td>1790.0000</td>\n",
              "      <td>3.929214e+06</td>\n",
              "      <td>4.437700e+04</td>\n",
              "      <td>0.011300</td>\n",
              "    </tr>\n",
              "    <tr>\n",
              "      <th>25%</th>\n",
              "      <td>1845.0000</td>\n",
              "      <td>2.013067e+07</td>\n",
              "      <td>1.128361e+06</td>\n",
              "      <td>0.055100</td>\n",
              "    </tr>\n",
              "    <tr>\n",
              "      <th>50%</th>\n",
              "      <td>1900.0000</td>\n",
              "      <td>7.630339e+07</td>\n",
              "      <td>1.185400e+07</td>\n",
              "      <td>0.170700</td>\n",
              "    </tr>\n",
              "    <tr>\n",
              "      <th>75%</th>\n",
              "      <td>1955.0000</td>\n",
              "      <td>1.653245e+08</td>\n",
              "      <td>1.096980e+08</td>\n",
              "      <td>0.658900</td>\n",
              "    </tr>\n",
              "    <tr>\n",
              "      <th>max</th>\n",
              "      <td>2010.0000</td>\n",
              "      <td>3.087455e+08</td>\n",
              "      <td>1.300000e+10</td>\n",
              "      <td>42.110000</td>\n",
              "    </tr>\n",
              "  </tbody>\n",
              "</table>\n",
              "</div>"
            ],
            "text/plain": [
              "       Census Year  Total Population   Census Cost  Average Cost Per Person\n",
              "count      23.0000      2.300000e+01  2.300000e+01                23.000000\n",
              "mean     1900.0000      1.039211e+08  9.445587e+08                 3.368739\n",
              "std        67.8233      9.622629e+07  2.830037e+09                 9.278241\n",
              "min      1790.0000      3.929214e+06  4.437700e+04                 0.011300\n",
              "25%      1845.0000      2.013067e+07  1.128361e+06                 0.055100\n",
              "50%      1900.0000      7.630339e+07  1.185400e+07                 0.170700\n",
              "75%      1955.0000      1.653245e+08  1.096980e+08                 0.658900\n",
              "max      2010.0000      3.087455e+08  1.300000e+10                42.110000"
            ]
          },
          "metadata": {
            "tags": []
          },
          "execution_count": 24
        }
      ]
    },
    {
      "cell_type": "code",
      "metadata": {
        "id": "Ke_SlbvRGcIA"
      },
      "source": [
        ""
      ],
      "execution_count": 24,
      "outputs": []
    }
  ]
}