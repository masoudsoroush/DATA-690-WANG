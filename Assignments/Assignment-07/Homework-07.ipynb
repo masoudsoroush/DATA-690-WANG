{
 "cells": [
  {
   "cell_type": "markdown",
   "metadata": {},
   "source": [
    "# Assignment 07"
   ]
  },
  {
   "cell_type": "markdown",
   "metadata": {},
   "source": [
    "## Section 1"
   ]
  },
  {
   "cell_type": "code",
   "execution_count": 1,
   "metadata": {},
   "outputs": [],
   "source": [
    "# <1> \n",
    "# Import libraries\n",
    "\n",
    "import os\n",
    "import numpy as np\n",
    "import pandas as pd\n",
    "import matplotlib.pyplot as plt"
   ]
  },
  {
   "cell_type": "markdown",
   "metadata": {},
   "source": [
    "## Section 2"
   ]
  },
  {
   "cell_type": "code",
   "execution_count": 2,
   "metadata": {},
   "outputs": [
    {
     "data": {
      "text/plain": [
       "'/Users/masoud'"
      ]
     },
     "execution_count": 2,
     "metadata": {},
     "output_type": "execute_result"
    }
   ],
   "source": [
    "# <2> \n",
    "# Display the current workin directory using os.getcwd()\n",
    "# you would need to import a standard Python library called os which stands for operating system,\n",
    "# so place that import statement in the previous cell.\n",
    "# Since your notebook and your data files are not in # the same folder, \n",
    "# you want to make sure what is the current working folder and \n",
    "# how to access a data file in a different folder\n",
    "\n",
    "os.getcwd()"
   ]
  },
  {
   "cell_type": "markdown",
   "metadata": {},
   "source": [
    "## Section 3"
   ]
  },
  {
   "cell_type": "code",
   "execution_count": 4,
   "metadata": {},
   "outputs": [
    {
     "data": {
      "text/plain": [
       "['MERGED2011_12_PP.csv',\n",
       " 'MERGED1999_00_PP.csv',\n",
       " 'MERGED2006_07_PP.csv',\n",
       " 'MERGED2014_15_PP.csv',\n",
       " '.DS_Store',\n",
       " 'MERGED2003_04_PP.csv',\n",
       " 'MERGED1996_97_PP.csv',\n",
       " 'FieldOfStudyData1516_1617_PP.csv',\n",
       " 'MERGED2012_13_PP.csv',\n",
       " 'MERGED2005_06_PP.csv',\n",
       " 'MERGED2009_10_PP.csv',\n",
       " 'MERGED2018_19_PP.csv',\n",
       " 'MERGED2017_18_PP.csv',\n",
       " 'Crosswalks.zip',\n",
       " 'MERGED2000_01_PP.csv',\n",
       " 'MERGED2001_02_PP.csv',\n",
       " 'MERGED2016_17_PP.csv',\n",
       " 'MERGED1997_98_PP.csv',\n",
       " 'MERGED1998_99_PP.csv',\n",
       " 'data.yaml',\n",
       " 'MERGED2004_05_PP.csv',\n",
       " 'MERGED2002_03_PP.csv',\n",
       " 'MERGED2015_16_PP.csv',\n",
       " 'MERGED2013_14_PP.csv',\n",
       " 'MERGED2007_08_PP.csv',\n",
       " 'MERGED2008_09_PP.csv',\n",
       " 'MERGED2010_11_PP.csv',\n",
       " 'FieldOfStudyData1415_1516_PP.csv']"
      ]
     },
     "execution_count": 4,
     "metadata": {},
     "output_type": "execute_result"
    }
   ],
   "source": [
    "# <3> \n",
    "# os library has a method call listdir which generates a list of files in a directory/folder.\n",
    "# use this method to assign the contents (list of file names) of the data folder to a variable and display it.\n",
    "# # You can use ../ construct to traverse to the parent folder and then to another foloder parallel to the current folder\n",
    "\n",
    "path='/Users/masoud/Documents/CollegeScorecard_Raw_Data/'\n",
    "file_names=os.listdir(path)\n",
    "file_names"
   ]
  },
  {
   "cell_type": "markdown",
   "metadata": {},
   "source": [
    "## Section 4"
   ]
  },
  {
   "cell_type": "code",
   "execution_count": 20,
   "metadata": {},
   "outputs": [
    {
     "data": {
      "text/plain": [
       "['MERGED2011_12_PP.csv',\n",
       " 'MERGED1999_00_PP.csv',\n",
       " 'MERGED2006_07_PP.csv',\n",
       " 'MERGED2014_15_PP.csv',\n",
       " 'MERGED2003_04_PP.csv',\n",
       " 'MERGED1996_97_PP.csv',\n",
       " 'MERGED2012_13_PP.csv',\n",
       " 'MERGED2005_06_PP.csv',\n",
       " 'MERGED2009_10_PP.csv',\n",
       " 'MERGED2018_19_PP.csv',\n",
       " 'MERGED2017_18_PP.csv',\n",
       " 'MERGED2000_01_PP.csv',\n",
       " 'MERGED2001_02_PP.csv',\n",
       " 'MERGED2016_17_PP.csv',\n",
       " 'MERGED1997_98_PP.csv',\n",
       " 'MERGED1998_99_PP.csv',\n",
       " 'MERGED2004_05_PP.csv',\n",
       " 'MERGED2002_03_PP.csv',\n",
       " 'MERGED2015_16_PP.csv',\n",
       " 'MERGED2013_14_PP.csv',\n",
       " 'MERGED2007_08_PP.csv',\n",
       " 'MERGED2008_09_PP.csv',\n",
       " 'MERGED2010_11_PP.csv']"
      ]
     },
     "execution_count": 20,
     "metadata": {},
     "output_type": "execute_result"
    }
   ],
   "source": [
    "# <4> \n",
    "# The folder contains files that are not the yearly data files\n",
    "# write code to remove the unwanted files from the list vsriable \n",
    "# Note: don't remove/delete these files from the folder in your drive\n",
    "# For example, use the file extension to only keep the csv files \n",
    "# or use the name patter - data file name begins with \"MERGED\"\n",
    "# You can use the concept of list comprehension to write just \n",
    "# one line of code as well as using a for loop, your choice.\n",
    "\n",
    "cleansed_file_names=[k for k in file_names if k.find('MERGED') != -1]\n",
    "cleansed_file_names"
   ]
  },
  {
   "cell_type": "markdown",
   "metadata": {},
   "source": [
    "## Section 5"
   ]
  },
  {
   "cell_type": "code",
   "execution_count": 38,
   "metadata": {},
   "outputs": [],
   "source": [
    "# <5> \n",
    "# Now that you have a clean list of the yearly files, you want to loop through them\n",
    "# and read them into a dataframe one at a time. You only load six columns: \n",
    "# [\"UNITID\", \"INSTNM\", \"STABBR\", \"REGION\", \"ADM_RATE\", \"TUITIONFEE_IN\"].\n",
    "# You should use \"usecols\" option of Pandas to avoid reading unwanted columns.\n",
    "# You also want to add a new column call \"YEAR\" to differentiate the data frames from each other.\n",
    "# The YEAR variable should be yyyy format so tht you can convert them into integer.\n",
    "# if you use the format yyyy-yy (such as 1997-98 school year), you will not be able to convert them directly to integer\n",
    "# if you use scatter plot, the YEAR needs to be converted to integer or float. \n",
    "# \n",
    "# You would use an empty list and append the yearly dataframes to the list.\n",
    "# After all data files are loaded and appended to the list, you would use Pandas to concatenate them into a \n",
    "# new single data frame.\n",
    "# Note: this exercise incorporates many techques we learned before\n",
    "# - list (creating an empty, append an item to the list)\n",
    "# - for loop \n",
    "# - read only the needed columns from a file (using usecols option)\n",
    "# - add a new column to a data frame\n",
    "# - concatenate multiple dataframes into a single one\n",
    "# This exercise may appear a big challenging but it worths the effort. You will learn a lot and  love it. I promise.\n",
    "\n",
    "# The following function extracts the year of each file from its name.\n",
    "def Extract_Year(x):\n",
    "    b=x.find('_')\n",
    "    y=int(x[:b].replace('MERGED',''))\n",
    "    return y\n",
    "\n",
    "cols=[\"UNITID\", \"INSTNM\", \"STABBR\", \"REGION\", \"ADM_RATE\", \"TUITIONFEE_IN\"]\n",
    "df=[]\n",
    "\n",
    "for k in cleansed_file_names:\n",
    "    year=Extract_Year(k)\n",
    "    Dframe=pd.read_csv(path+k, usecols=cols)\n",
    "    Dframe['Year']=year\n",
    "    df.append(Dframe)"
   ]
  },
  {
   "cell_type": "code",
   "execution_count": 45,
   "metadata": {},
   "outputs": [],
   "source": [
    "Final_df=pd.concat(df)"
   ]
  },
  {
   "cell_type": "markdown",
   "metadata": {},
   "source": [
    "## Section 6"
   ]
  },
  {
   "cell_type": "code",
   "execution_count": 65,
   "metadata": {},
   "outputs": [
    {
     "name": "stdout",
     "output_type": "stream",
     "text": [
      "(163331, 7)\n",
      "Index(['UNITID', 'INSTNM', 'STABBR', 'REGION', 'ADM_RATE', 'TUITIONFEE_IN',\n",
      "       'Year'],\n",
      "      dtype='object')\n"
     ]
    }
   ],
   "source": [
    "# <6> \n",
    "# explore the new dataframe (# of observations, varibles, head, tail, sample, missing values, statistics,etc.)\n",
    "\n",
    "print(Final_df.shape)\n",
    "\n",
    "print(Final_df.columns)"
   ]
  },
  {
   "cell_type": "code",
   "execution_count": 66,
   "metadata": {},
   "outputs": [
    {
     "data": {
      "text/html": [
       "<div>\n",
       "<style scoped>\n",
       "    .dataframe tbody tr th:only-of-type {\n",
       "        vertical-align: middle;\n",
       "    }\n",
       "\n",
       "    .dataframe tbody tr th {\n",
       "        vertical-align: top;\n",
       "    }\n",
       "\n",
       "    .dataframe thead th {\n",
       "        text-align: right;\n",
       "    }\n",
       "</style>\n",
       "<table border=\"1\" class=\"dataframe\">\n",
       "  <thead>\n",
       "    <tr style=\"text-align: right;\">\n",
       "      <th></th>\n",
       "      <th>UNITID</th>\n",
       "      <th>INSTNM</th>\n",
       "      <th>STABBR</th>\n",
       "      <th>REGION</th>\n",
       "      <th>ADM_RATE</th>\n",
       "      <th>TUITIONFEE_IN</th>\n",
       "      <th>Year</th>\n",
       "    </tr>\n",
       "  </thead>\n",
       "  <tbody>\n",
       "    <tr>\n",
       "      <th>0</th>\n",
       "      <td>100654</td>\n",
       "      <td>Alabama A &amp; M University</td>\n",
       "      <td>AL</td>\n",
       "      <td>5.0</td>\n",
       "      <td>0.5010</td>\n",
       "      <td>6828.0</td>\n",
       "      <td>2011</td>\n",
       "    </tr>\n",
       "    <tr>\n",
       "      <th>1</th>\n",
       "      <td>100663</td>\n",
       "      <td>University of Alabama at Birmingham</td>\n",
       "      <td>AL</td>\n",
       "      <td>5.0</td>\n",
       "      <td>0.7223</td>\n",
       "      <td>6264.0</td>\n",
       "      <td>2011</td>\n",
       "    </tr>\n",
       "    <tr>\n",
       "      <th>2</th>\n",
       "      <td>100690</td>\n",
       "      <td>Amridge University</td>\n",
       "      <td>AL</td>\n",
       "      <td>5.0</td>\n",
       "      <td>NaN</td>\n",
       "      <td>8720.0</td>\n",
       "      <td>2011</td>\n",
       "    </tr>\n",
       "    <tr>\n",
       "      <th>3</th>\n",
       "      <td>100706</td>\n",
       "      <td>University of Alabama in Huntsville</td>\n",
       "      <td>AL</td>\n",
       "      <td>5.0</td>\n",
       "      <td>0.6368</td>\n",
       "      <td>8094.0</td>\n",
       "      <td>2011</td>\n",
       "    </tr>\n",
       "    <tr>\n",
       "      <th>4</th>\n",
       "      <td>100724</td>\n",
       "      <td>Alabama State University</td>\n",
       "      <td>AL</td>\n",
       "      <td>5.0</td>\n",
       "      <td>0.5080</td>\n",
       "      <td>8082.0</td>\n",
       "      <td>2011</td>\n",
       "    </tr>\n",
       "  </tbody>\n",
       "</table>\n",
       "</div>"
      ],
      "text/plain": [
       "   UNITID                               INSTNM STABBR  REGION  ADM_RATE  \\\n",
       "0  100654             Alabama A & M University     AL     5.0    0.5010   \n",
       "1  100663  University of Alabama at Birmingham     AL     5.0    0.7223   \n",
       "2  100690                   Amridge University     AL     5.0       NaN   \n",
       "3  100706  University of Alabama in Huntsville     AL     5.0    0.6368   \n",
       "4  100724             Alabama State University     AL     5.0    0.5080   \n",
       "\n",
       "   TUITIONFEE_IN  Year  \n",
       "0         6828.0  2011  \n",
       "1         6264.0  2011  \n",
       "2         8720.0  2011  \n",
       "3         8094.0  2011  \n",
       "4         8082.0  2011  "
      ]
     },
     "execution_count": 66,
     "metadata": {},
     "output_type": "execute_result"
    }
   ],
   "source": [
    "Final_df.head()"
   ]
  },
  {
   "cell_type": "code",
   "execution_count": 53,
   "metadata": {},
   "outputs": [
    {
     "data": {
      "text/html": [
       "<div>\n",
       "<style scoped>\n",
       "    .dataframe tbody tr th:only-of-type {\n",
       "        vertical-align: middle;\n",
       "    }\n",
       "\n",
       "    .dataframe tbody tr th {\n",
       "        vertical-align: top;\n",
       "    }\n",
       "\n",
       "    .dataframe thead th {\n",
       "        text-align: right;\n",
       "    }\n",
       "</style>\n",
       "<table border=\"1\" class=\"dataframe\">\n",
       "  <thead>\n",
       "    <tr style=\"text-align: right;\">\n",
       "      <th></th>\n",
       "      <th>UNITID</th>\n",
       "      <th>INSTNM</th>\n",
       "      <th>STABBR</th>\n",
       "      <th>REGION</th>\n",
       "      <th>ADM_RATE</th>\n",
       "      <th>TUITIONFEE_IN</th>\n",
       "      <th>Year</th>\n",
       "    </tr>\n",
       "  </thead>\n",
       "  <tbody>\n",
       "    <tr>\n",
       "      <th>7465</th>\n",
       "      <td>45896402</td>\n",
       "      <td>Strayer University-Charleston Campus</td>\n",
       "      <td>SC</td>\n",
       "      <td>5.0</td>\n",
       "      <td>NaN</td>\n",
       "      <td>14085.0</td>\n",
       "      <td>2010</td>\n",
       "    </tr>\n",
       "    <tr>\n",
       "      <th>7466</th>\n",
       "      <td>45897301</td>\n",
       "      <td>Strayer University-Irving</td>\n",
       "      <td>TX</td>\n",
       "      <td>6.0</td>\n",
       "      <td>NaN</td>\n",
       "      <td>14085.0</td>\n",
       "      <td>2010</td>\n",
       "    </tr>\n",
       "    <tr>\n",
       "      <th>7467</th>\n",
       "      <td>45897302</td>\n",
       "      <td>Strayer University-Katy</td>\n",
       "      <td>TX</td>\n",
       "      <td>6.0</td>\n",
       "      <td>NaN</td>\n",
       "      <td>14085.0</td>\n",
       "      <td>2010</td>\n",
       "    </tr>\n",
       "    <tr>\n",
       "      <th>7468</th>\n",
       "      <td>45897303</td>\n",
       "      <td>Strayer University-Northwest Houston</td>\n",
       "      <td>TX</td>\n",
       "      <td>6.0</td>\n",
       "      <td>NaN</td>\n",
       "      <td>14085.0</td>\n",
       "      <td>2010</td>\n",
       "    </tr>\n",
       "    <tr>\n",
       "      <th>7469</th>\n",
       "      <td>45897304</td>\n",
       "      <td>Strayer University-Plano</td>\n",
       "      <td>TX</td>\n",
       "      <td>6.0</td>\n",
       "      <td>NaN</td>\n",
       "      <td>14085.0</td>\n",
       "      <td>2010</td>\n",
       "    </tr>\n",
       "  </tbody>\n",
       "</table>\n",
       "</div>"
      ],
      "text/plain": [
       "        UNITID                                INSTNM STABBR  REGION  ADM_RATE  \\\n",
       "7465  45896402  Strayer University-Charleston Campus     SC     5.0       NaN   \n",
       "7466  45897301             Strayer University-Irving     TX     6.0       NaN   \n",
       "7467  45897302               Strayer University-Katy     TX     6.0       NaN   \n",
       "7468  45897303  Strayer University-Northwest Houston     TX     6.0       NaN   \n",
       "7469  45897304              Strayer University-Plano     TX     6.0       NaN   \n",
       "\n",
       "      TUITIONFEE_IN  Year  \n",
       "7465        14085.0  2010  \n",
       "7466        14085.0  2010  \n",
       "7467        14085.0  2010  \n",
       "7468        14085.0  2010  \n",
       "7469        14085.0  2010  "
      ]
     },
     "execution_count": 53,
     "metadata": {},
     "output_type": "execute_result"
    }
   ],
   "source": [
    "Final_df.tail()"
   ]
  },
  {
   "cell_type": "code",
   "execution_count": 55,
   "metadata": {},
   "outputs": [
    {
     "data": {
      "text/html": [
       "<div>\n",
       "<style scoped>\n",
       "    .dataframe tbody tr th:only-of-type {\n",
       "        vertical-align: middle;\n",
       "    }\n",
       "\n",
       "    .dataframe tbody tr th {\n",
       "        vertical-align: top;\n",
       "    }\n",
       "\n",
       "    .dataframe thead th {\n",
       "        text-align: right;\n",
       "    }\n",
       "</style>\n",
       "<table border=\"1\" class=\"dataframe\">\n",
       "  <thead>\n",
       "    <tr style=\"text-align: right;\">\n",
       "      <th></th>\n",
       "      <th>UNITID</th>\n",
       "      <th>INSTNM</th>\n",
       "      <th>STABBR</th>\n",
       "      <th>REGION</th>\n",
       "      <th>ADM_RATE</th>\n",
       "      <th>TUITIONFEE_IN</th>\n",
       "      <th>Year</th>\n",
       "    </tr>\n",
       "  </thead>\n",
       "  <tbody>\n",
       "    <tr>\n",
       "      <th>3990</th>\n",
       "      <td>228149</td>\n",
       "      <td>St. Mary's University</td>\n",
       "      <td>TX</td>\n",
       "      <td>6.0</td>\n",
       "      <td>0.6140</td>\n",
       "      <td>22576.0</td>\n",
       "      <td>2010</td>\n",
       "    </tr>\n",
       "    <tr>\n",
       "      <th>2675</th>\n",
       "      <td>190600</td>\n",
       "      <td>CUNY John Jay College of Criminal Justice</td>\n",
       "      <td>NY</td>\n",
       "      <td>2.0</td>\n",
       "      <td>0.8158</td>\n",
       "      <td>4279.0</td>\n",
       "      <td>2007</td>\n",
       "    </tr>\n",
       "    <tr>\n",
       "      <th>6376</th>\n",
       "      <td>434113</td>\n",
       "      <td>Rogies School of Beauty Culture-Caguas</td>\n",
       "      <td>PR</td>\n",
       "      <td>9.0</td>\n",
       "      <td>NaN</td>\n",
       "      <td>NaN</td>\n",
       "      <td>2001</td>\n",
       "    </tr>\n",
       "    <tr>\n",
       "      <th>825</th>\n",
       "      <td>133650</td>\n",
       "      <td>Florida Agricultural and Mechanical University</td>\n",
       "      <td>FL</td>\n",
       "      <td>5.0</td>\n",
       "      <td>0.7075</td>\n",
       "      <td>2852.0</td>\n",
       "      <td>2004</td>\n",
       "    </tr>\n",
       "    <tr>\n",
       "      <th>1278</th>\n",
       "      <td>157438</td>\n",
       "      <td>Gateway Community and Technical College</td>\n",
       "      <td>KY</td>\n",
       "      <td>5.0</td>\n",
       "      <td>NaN</td>\n",
       "      <td>4328.0</td>\n",
       "      <td>2018</td>\n",
       "    </tr>\n",
       "    <tr>\n",
       "      <th>1110</th>\n",
       "      <td>147396</td>\n",
       "      <td>Morrison Institute of Technology</td>\n",
       "      <td>IL</td>\n",
       "      <td>3.0</td>\n",
       "      <td>NaN</td>\n",
       "      <td>15590.0</td>\n",
       "      <td>2014</td>\n",
       "    </tr>\n",
       "    <tr>\n",
       "      <th>1234</th>\n",
       "      <td>145275</td>\n",
       "      <td>Garrett-Evangelical Theological Seminary</td>\n",
       "      <td>IL</td>\n",
       "      <td>3.0</td>\n",
       "      <td>NaN</td>\n",
       "      <td>NaN</td>\n",
       "      <td>2000</td>\n",
       "    </tr>\n",
       "    <tr>\n",
       "      <th>6003</th>\n",
       "      <td>447810</td>\n",
       "      <td>Blake Austin College</td>\n",
       "      <td>CA</td>\n",
       "      <td>8.0</td>\n",
       "      <td>NaN</td>\n",
       "      <td>NaN</td>\n",
       "      <td>2013</td>\n",
       "    </tr>\n",
       "    <tr>\n",
       "      <th>4586</th>\n",
       "      <td>240745</td>\n",
       "      <td>Guam Community College</td>\n",
       "      <td>GU</td>\n",
       "      <td>9.0</td>\n",
       "      <td>NaN</td>\n",
       "      <td>2100.0</td>\n",
       "      <td>2006</td>\n",
       "    </tr>\n",
       "    <tr>\n",
       "      <th>5669</th>\n",
       "      <td>440828</td>\n",
       "      <td>Oregon State University-Cascades Campus</td>\n",
       "      <td>OR</td>\n",
       "      <td>8.0</td>\n",
       "      <td>NaN</td>\n",
       "      <td>NaN</td>\n",
       "      <td>2012</td>\n",
       "    </tr>\n",
       "  </tbody>\n",
       "</table>\n",
       "</div>"
      ],
      "text/plain": [
       "      UNITID                                          INSTNM STABBR  REGION  \\\n",
       "3990  228149                           St. Mary's University     TX     6.0   \n",
       "2675  190600       CUNY John Jay College of Criminal Justice     NY     2.0   \n",
       "6376  434113          Rogies School of Beauty Culture-Caguas     PR     9.0   \n",
       "825   133650  Florida Agricultural and Mechanical University     FL     5.0   \n",
       "1278  157438         Gateway Community and Technical College     KY     5.0   \n",
       "1110  147396                Morrison Institute of Technology     IL     3.0   \n",
       "1234  145275        Garrett-Evangelical Theological Seminary     IL     3.0   \n",
       "6003  447810                            Blake Austin College     CA     8.0   \n",
       "4586  240745                          Guam Community College     GU     9.0   \n",
       "5669  440828         Oregon State University-Cascades Campus     OR     8.0   \n",
       "\n",
       "      ADM_RATE  TUITIONFEE_IN  Year  \n",
       "3990    0.6140        22576.0  2010  \n",
       "2675    0.8158         4279.0  2007  \n",
       "6376       NaN            NaN  2001  \n",
       "825     0.7075         2852.0  2004  \n",
       "1278       NaN         4328.0  2018  \n",
       "1110       NaN        15590.0  2014  \n",
       "1234       NaN            NaN  2000  \n",
       "6003       NaN            NaN  2013  \n",
       "4586       NaN         2100.0  2006  \n",
       "5669       NaN            NaN  2012  "
      ]
     },
     "execution_count": 55,
     "metadata": {},
     "output_type": "execute_result"
    }
   ],
   "source": [
    "Final_df.sample(10)"
   ]
  },
  {
   "cell_type": "code",
   "execution_count": 67,
   "metadata": {},
   "outputs": [
    {
     "data": {
      "text/html": [
       "<div>\n",
       "<style scoped>\n",
       "    .dataframe tbody tr th:only-of-type {\n",
       "        vertical-align: middle;\n",
       "    }\n",
       "\n",
       "    .dataframe tbody tr th {\n",
       "        vertical-align: top;\n",
       "    }\n",
       "\n",
       "    .dataframe thead th {\n",
       "        text-align: right;\n",
       "    }\n",
       "</style>\n",
       "<table border=\"1\" class=\"dataframe\">\n",
       "  <thead>\n",
       "    <tr style=\"text-align: right;\">\n",
       "      <th></th>\n",
       "      <th>UNITID</th>\n",
       "      <th>INSTNM</th>\n",
       "      <th>STABBR</th>\n",
       "      <th>REGION</th>\n",
       "      <th>ADM_RATE</th>\n",
       "      <th>TUITIONFEE_IN</th>\n",
       "      <th>Year</th>\n",
       "    </tr>\n",
       "  </thead>\n",
       "  <tbody>\n",
       "    <tr>\n",
       "      <th>2</th>\n",
       "      <td>100690</td>\n",
       "      <td>Amridge University</td>\n",
       "      <td>AL</td>\n",
       "      <td>5.0</td>\n",
       "      <td>NaN</td>\n",
       "      <td>8720.0</td>\n",
       "      <td>2011</td>\n",
       "    </tr>\n",
       "    <tr>\n",
       "      <th>6</th>\n",
       "      <td>100760</td>\n",
       "      <td>Central Alabama Community College</td>\n",
       "      <td>AL</td>\n",
       "      <td>5.0</td>\n",
       "      <td>NaN</td>\n",
       "      <td>2700.0</td>\n",
       "      <td>2011</td>\n",
       "    </tr>\n",
       "    <tr>\n",
       "      <th>7</th>\n",
       "      <td>100812</td>\n",
       "      <td>Athens State University</td>\n",
       "      <td>AL</td>\n",
       "      <td>5.0</td>\n",
       "      <td>NaN</td>\n",
       "      <td>NaN</td>\n",
       "      <td>2011</td>\n",
       "    </tr>\n",
       "    <tr>\n",
       "      <th>11</th>\n",
       "      <td>101028</td>\n",
       "      <td>Chattahoochee Valley Community College</td>\n",
       "      <td>AL</td>\n",
       "      <td>5.0</td>\n",
       "      <td>NaN</td>\n",
       "      <td>4140.0</td>\n",
       "      <td>2011</td>\n",
       "    </tr>\n",
       "    <tr>\n",
       "      <th>12</th>\n",
       "      <td>101073</td>\n",
       "      <td>Concordia College Alabama</td>\n",
       "      <td>AL</td>\n",
       "      <td>5.0</td>\n",
       "      <td>NaN</td>\n",
       "      <td>8090.0</td>\n",
       "      <td>2011</td>\n",
       "    </tr>\n",
       "    <tr>\n",
       "      <th>14</th>\n",
       "      <td>101143</td>\n",
       "      <td>Enterprise State Community College</td>\n",
       "      <td>AL</td>\n",
       "      <td>5.0</td>\n",
       "      <td>NaN</td>\n",
       "      <td>3668.0</td>\n",
       "      <td>2011</td>\n",
       "    </tr>\n",
       "    <tr>\n",
       "      <th>15</th>\n",
       "      <td>101161</td>\n",
       "      <td>Coastal Alabama Community College</td>\n",
       "      <td>AL</td>\n",
       "      <td>5.0</td>\n",
       "      <td>NaN</td>\n",
       "      <td>4080.0</td>\n",
       "      <td>2011</td>\n",
       "    </tr>\n",
       "    <tr>\n",
       "      <th>17</th>\n",
       "      <td>101240</td>\n",
       "      <td>Gadsden State Community College</td>\n",
       "      <td>AL</td>\n",
       "      <td>5.0</td>\n",
       "      <td>NaN</td>\n",
       "      <td>3780.0</td>\n",
       "      <td>2011</td>\n",
       "    </tr>\n",
       "    <tr>\n",
       "      <th>18</th>\n",
       "      <td>101277</td>\n",
       "      <td>New Beginning College of Cosmetology</td>\n",
       "      <td>AL</td>\n",
       "      <td>5.0</td>\n",
       "      <td>NaN</td>\n",
       "      <td>NaN</td>\n",
       "      <td>2011</td>\n",
       "    </tr>\n",
       "    <tr>\n",
       "      <th>19</th>\n",
       "      <td>101286</td>\n",
       "      <td>George C Wallace Community College-Dothan</td>\n",
       "      <td>AL</td>\n",
       "      <td>5.0</td>\n",
       "      <td>NaN</td>\n",
       "      <td>3330.0</td>\n",
       "      <td>2011</td>\n",
       "    </tr>\n",
       "  </tbody>\n",
       "</table>\n",
       "</div>"
      ],
      "text/plain": [
       "    UNITID                                     INSTNM STABBR  REGION  \\\n",
       "2   100690                         Amridge University     AL     5.0   \n",
       "6   100760          Central Alabama Community College     AL     5.0   \n",
       "7   100812                    Athens State University     AL     5.0   \n",
       "11  101028     Chattahoochee Valley Community College     AL     5.0   \n",
       "12  101073                  Concordia College Alabama     AL     5.0   \n",
       "14  101143         Enterprise State Community College     AL     5.0   \n",
       "15  101161          Coastal Alabama Community College     AL     5.0   \n",
       "17  101240            Gadsden State Community College     AL     5.0   \n",
       "18  101277       New Beginning College of Cosmetology     AL     5.0   \n",
       "19  101286  George C Wallace Community College-Dothan     AL     5.0   \n",
       "\n",
       "    ADM_RATE  TUITIONFEE_IN  Year  \n",
       "2        NaN         8720.0  2011  \n",
       "6        NaN         2700.0  2011  \n",
       "7        NaN            NaN  2011  \n",
       "11       NaN         4140.0  2011  \n",
       "12       NaN         8090.0  2011  \n",
       "14       NaN         3668.0  2011  \n",
       "15       NaN         4080.0  2011  \n",
       "17       NaN         3780.0  2011  \n",
       "18       NaN            NaN  2011  \n",
       "19       NaN         3330.0  2011  "
      ]
     },
     "execution_count": 67,
     "metadata": {},
     "output_type": "execute_result"
    }
   ],
   "source": [
    "# Finding the first 10 rows of Final-df that have a missing value in the column 'ADM_RATE'. \n",
    "\n",
    "Final_df[Final_df['ADM_RATE'].isna()==True][:10]"
   ]
  },
  {
   "cell_type": "code",
   "execution_count": 63,
   "metadata": {},
   "outputs": [
    {
     "data": {
      "text/html": [
       "<div>\n",
       "<style scoped>\n",
       "    .dataframe tbody tr th:only-of-type {\n",
       "        vertical-align: middle;\n",
       "    }\n",
       "\n",
       "    .dataframe tbody tr th {\n",
       "        vertical-align: top;\n",
       "    }\n",
       "\n",
       "    .dataframe thead th {\n",
       "        text-align: right;\n",
       "    }\n",
       "</style>\n",
       "<table border=\"1\" class=\"dataframe\">\n",
       "  <thead>\n",
       "    <tr style=\"text-align: right;\">\n",
       "      <th></th>\n",
       "      <th>UNITID</th>\n",
       "      <th>REGION</th>\n",
       "      <th>ADM_RATE</th>\n",
       "      <th>TUITIONFEE_IN</th>\n",
       "      <th>Year</th>\n",
       "    </tr>\n",
       "  </thead>\n",
       "  <tbody>\n",
       "    <tr>\n",
       "      <th>count</th>\n",
       "      <td>1.633310e+05</td>\n",
       "      <td>163330.000000</td>\n",
       "      <td>44911.000000</td>\n",
       "      <td>79194.000000</td>\n",
       "      <td>163331.000000</td>\n",
       "    </tr>\n",
       "    <tr>\n",
       "      <th>mean</th>\n",
       "      <td>9.432395e+05</td>\n",
       "      <td>4.554693</td>\n",
       "      <td>0.692946</td>\n",
       "      <td>11665.505367</td>\n",
       "      <td>2007.249481</td>\n",
       "    </tr>\n",
       "    <tr>\n",
       "      <th>std</th>\n",
       "      <td>4.571721e+06</td>\n",
       "      <td>2.189217</td>\n",
       "      <td>0.217062</td>\n",
       "      <td>9985.998016</td>\n",
       "      <td>6.608266</td>\n",
       "    </tr>\n",
       "    <tr>\n",
       "      <th>min</th>\n",
       "      <td>1.006360e+05</td>\n",
       "      <td>0.000000</td>\n",
       "      <td>0.000000</td>\n",
       "      <td>0.000000</td>\n",
       "      <td>1996.000000</td>\n",
       "    </tr>\n",
       "    <tr>\n",
       "      <th>25%</th>\n",
       "      <td>1.633380e+05</td>\n",
       "      <td>3.000000</td>\n",
       "      <td>0.555000</td>\n",
       "      <td>3776.000000</td>\n",
       "      <td>2002.000000</td>\n",
       "    </tr>\n",
       "    <tr>\n",
       "      <th>50%</th>\n",
       "      <td>2.127800e+05</td>\n",
       "      <td>5.000000</td>\n",
       "      <td>0.717500</td>\n",
       "      <td>9285.000000</td>\n",
       "      <td>2008.000000</td>\n",
       "    </tr>\n",
       "    <tr>\n",
       "      <th>75%</th>\n",
       "      <td>4.075680e+05</td>\n",
       "      <td>6.000000</td>\n",
       "      <td>0.857100</td>\n",
       "      <td>16146.000000</td>\n",
       "      <td>2013.000000</td>\n",
       "    </tr>\n",
       "    <tr>\n",
       "      <th>max</th>\n",
       "      <td>4.914640e+07</td>\n",
       "      <td>9.000000</td>\n",
       "      <td>1.000000</td>\n",
       "      <td>74787.000000</td>\n",
       "      <td>2018.000000</td>\n",
       "    </tr>\n",
       "  </tbody>\n",
       "</table>\n",
       "</div>"
      ],
      "text/plain": [
       "             UNITID         REGION      ADM_RATE  TUITIONFEE_IN           Year\n",
       "count  1.633310e+05  163330.000000  44911.000000   79194.000000  163331.000000\n",
       "mean   9.432395e+05       4.554693      0.692946   11665.505367    2007.249481\n",
       "std    4.571721e+06       2.189217      0.217062    9985.998016       6.608266\n",
       "min    1.006360e+05       0.000000      0.000000       0.000000    1996.000000\n",
       "25%    1.633380e+05       3.000000      0.555000    3776.000000    2002.000000\n",
       "50%    2.127800e+05       5.000000      0.717500    9285.000000    2008.000000\n",
       "75%    4.075680e+05       6.000000      0.857100   16146.000000    2013.000000\n",
       "max    4.914640e+07       9.000000      1.000000   74787.000000    2018.000000"
      ]
     },
     "execution_count": 63,
     "metadata": {},
     "output_type": "execute_result"
    }
   ],
   "source": [
    "Final_df.describe()"
   ]
  },
  {
   "cell_type": "markdown",
   "metadata": {},
   "source": [
    "## Section 7"
   ]
  },
  {
   "cell_type": "code",
   "execution_count": 75,
   "metadata": {},
   "outputs": [],
   "source": [
    "# <7>\n",
    "# the dataframe contains many years of data of all U.S. colleges.\n",
    "# let's just look at UMBC\n",
    "# filter/query the dataframe to retrieve only rows that belong to UMBC\n",
    "# save the UMNC data to a new data frame. using a new variable \n",
    "# so that the old big data frame is still available for later use.\n",
    "\n",
    "UMBC_df=Final_df[Final_df['INSTNM'].str.contains('University of Maryland-Baltimore County')]"
   ]
  },
  {
   "cell_type": "markdown",
   "metadata": {},
   "source": [
    "## Section 8"
   ]
  },
  {
   "cell_type": "code",
   "execution_count": 77,
   "metadata": {},
   "outputs": [
    {
     "data": {
      "text/plain": [
       "(23, 7)"
      ]
     },
     "execution_count": 77,
     "metadata": {},
     "output_type": "execute_result"
    }
   ],
   "source": [
    "# <8>\n",
    "# Explore this UMBC dataframe (# of observations, varibles, head, tail, sample, missing values, statistics,etc.)\n",
    "\n",
    "UMBC_df.shape"
   ]
  },
  {
   "cell_type": "code",
   "execution_count": 78,
   "metadata": {},
   "outputs": [
    {
     "data": {
      "text/plain": [
       "Index(['UNITID', 'INSTNM', 'STABBR', 'REGION', 'ADM_RATE', 'TUITIONFEE_IN',\n",
       "       'Year'],\n",
       "      dtype='object')"
      ]
     },
     "execution_count": 78,
     "metadata": {},
     "output_type": "execute_result"
    }
   ],
   "source": [
    "UMBC_df.columns"
   ]
  },
  {
   "cell_type": "code",
   "execution_count": 79,
   "metadata": {},
   "outputs": [
    {
     "data": {
      "text/html": [
       "<div>\n",
       "<style scoped>\n",
       "    .dataframe tbody tr th:only-of-type {\n",
       "        vertical-align: middle;\n",
       "    }\n",
       "\n",
       "    .dataframe tbody tr th {\n",
       "        vertical-align: top;\n",
       "    }\n",
       "\n",
       "    .dataframe thead th {\n",
       "        text-align: right;\n",
       "    }\n",
       "</style>\n",
       "<table border=\"1\" class=\"dataframe\">\n",
       "  <thead>\n",
       "    <tr style=\"text-align: right;\">\n",
       "      <th></th>\n",
       "      <th>UNITID</th>\n",
       "      <th>INSTNM</th>\n",
       "      <th>STABBR</th>\n",
       "      <th>REGION</th>\n",
       "      <th>ADM_RATE</th>\n",
       "      <th>TUITIONFEE_IN</th>\n",
       "      <th>Year</th>\n",
       "    </tr>\n",
       "  </thead>\n",
       "  <tbody>\n",
       "    <tr>\n",
       "      <th>1694</th>\n",
       "      <td>163268</td>\n",
       "      <td>University of Maryland-Baltimore County</td>\n",
       "      <td>MD</td>\n",
       "      <td>2.0</td>\n",
       "      <td>0.6081</td>\n",
       "      <td>9467.0</td>\n",
       "      <td>2011</td>\n",
       "    </tr>\n",
       "    <tr>\n",
       "      <th>1955</th>\n",
       "      <td>163268</td>\n",
       "      <td>University of Maryland-Baltimore County</td>\n",
       "      <td>MD</td>\n",
       "      <td>2.0</td>\n",
       "      <td>NaN</td>\n",
       "      <td>NaN</td>\n",
       "      <td>1999</td>\n",
       "    </tr>\n",
       "    <tr>\n",
       "      <th>1799</th>\n",
       "      <td>163268</td>\n",
       "      <td>University of Maryland-Baltimore County</td>\n",
       "      <td>MD</td>\n",
       "      <td>2.0</td>\n",
       "      <td>0.7153</td>\n",
       "      <td>8622.0</td>\n",
       "      <td>2006</td>\n",
       "    </tr>\n",
       "    <tr>\n",
       "      <th>1610</th>\n",
       "      <td>163268</td>\n",
       "      <td>University of Maryland-Baltimore County</td>\n",
       "      <td>MD</td>\n",
       "      <td>2.0</td>\n",
       "      <td>0.5961</td>\n",
       "      <td>10384.0</td>\n",
       "      <td>2014</td>\n",
       "    </tr>\n",
       "    <tr>\n",
       "      <th>1873</th>\n",
       "      <td>163268</td>\n",
       "      <td>University of Maryland-Baltimore County</td>\n",
       "      <td>MD</td>\n",
       "      <td>2.0</td>\n",
       "      <td>0.5757</td>\n",
       "      <td>7388.0</td>\n",
       "      <td>2003</td>\n",
       "    </tr>\n",
       "  </tbody>\n",
       "</table>\n",
       "</div>"
      ],
      "text/plain": [
       "      UNITID                                   INSTNM STABBR  REGION  \\\n",
       "1694  163268  University of Maryland-Baltimore County     MD     2.0   \n",
       "1955  163268  University of Maryland-Baltimore County     MD     2.0   \n",
       "1799  163268  University of Maryland-Baltimore County     MD     2.0   \n",
       "1610  163268  University of Maryland-Baltimore County     MD     2.0   \n",
       "1873  163268  University of Maryland-Baltimore County     MD     2.0   \n",
       "\n",
       "      ADM_RATE  TUITIONFEE_IN  Year  \n",
       "1694    0.6081         9467.0  2011  \n",
       "1955       NaN            NaN  1999  \n",
       "1799    0.7153         8622.0  2006  \n",
       "1610    0.5961        10384.0  2014  \n",
       "1873    0.5757         7388.0  2003  "
      ]
     },
     "execution_count": 79,
     "metadata": {},
     "output_type": "execute_result"
    }
   ],
   "source": [
    "UMBC_df.head()"
   ]
  },
  {
   "cell_type": "code",
   "execution_count": 80,
   "metadata": {},
   "outputs": [
    {
     "data": {
      "text/html": [
       "<div>\n",
       "<style scoped>\n",
       "    .dataframe tbody tr th:only-of-type {\n",
       "        vertical-align: middle;\n",
       "    }\n",
       "\n",
       "    .dataframe tbody tr th {\n",
       "        vertical-align: top;\n",
       "    }\n",
       "\n",
       "    .dataframe thead th {\n",
       "        text-align: right;\n",
       "    }\n",
       "</style>\n",
       "<table border=\"1\" class=\"dataframe\">\n",
       "  <thead>\n",
       "    <tr style=\"text-align: right;\">\n",
       "      <th></th>\n",
       "      <th>UNITID</th>\n",
       "      <th>INSTNM</th>\n",
       "      <th>STABBR</th>\n",
       "      <th>REGION</th>\n",
       "      <th>ADM_RATE</th>\n",
       "      <th>TUITIONFEE_IN</th>\n",
       "      <th>Year</th>\n",
       "    </tr>\n",
       "  </thead>\n",
       "  <tbody>\n",
       "    <tr>\n",
       "      <th>1555</th>\n",
       "      <td>163268</td>\n",
       "      <td>University of Maryland-Baltimore County</td>\n",
       "      <td>MD</td>\n",
       "      <td>2.0</td>\n",
       "      <td>0.5942</td>\n",
       "      <td>11006.0</td>\n",
       "      <td>2015</td>\n",
       "    </tr>\n",
       "    <tr>\n",
       "      <th>1629</th>\n",
       "      <td>163268</td>\n",
       "      <td>University of Maryland-Baltimore County</td>\n",
       "      <td>MD</td>\n",
       "      <td>2.0</td>\n",
       "      <td>0.6315</td>\n",
       "      <td>10068.0</td>\n",
       "      <td>2013</td>\n",
       "    </tr>\n",
       "    <tr>\n",
       "      <th>1779</th>\n",
       "      <td>163268</td>\n",
       "      <td>University of Maryland-Baltimore County</td>\n",
       "      <td>MD</td>\n",
       "      <td>2.0</td>\n",
       "      <td>0.6895</td>\n",
       "      <td>8708.0</td>\n",
       "      <td>2007</td>\n",
       "    </tr>\n",
       "    <tr>\n",
       "      <th>1767</th>\n",
       "      <td>163268</td>\n",
       "      <td>University of Maryland-Baltimore County</td>\n",
       "      <td>MD</td>\n",
       "      <td>2.0</td>\n",
       "      <td>0.7174</td>\n",
       "      <td>8780.0</td>\n",
       "      <td>2008</td>\n",
       "    </tr>\n",
       "    <tr>\n",
       "      <th>1710</th>\n",
       "      <td>163268</td>\n",
       "      <td>University of Maryland-Baltimore County</td>\n",
       "      <td>MD</td>\n",
       "      <td>2.0</td>\n",
       "      <td>0.6589</td>\n",
       "      <td>9171.0</td>\n",
       "      <td>2010</td>\n",
       "    </tr>\n",
       "  </tbody>\n",
       "</table>\n",
       "</div>"
      ],
      "text/plain": [
       "      UNITID                                   INSTNM STABBR  REGION  \\\n",
       "1555  163268  University of Maryland-Baltimore County     MD     2.0   \n",
       "1629  163268  University of Maryland-Baltimore County     MD     2.0   \n",
       "1779  163268  University of Maryland-Baltimore County     MD     2.0   \n",
       "1767  163268  University of Maryland-Baltimore County     MD     2.0   \n",
       "1710  163268  University of Maryland-Baltimore County     MD     2.0   \n",
       "\n",
       "      ADM_RATE  TUITIONFEE_IN  Year  \n",
       "1555    0.5942        11006.0  2015  \n",
       "1629    0.6315        10068.0  2013  \n",
       "1779    0.6895         8708.0  2007  \n",
       "1767    0.7174         8780.0  2008  \n",
       "1710    0.6589         9171.0  2010  "
      ]
     },
     "execution_count": 80,
     "metadata": {},
     "output_type": "execute_result"
    }
   ],
   "source": [
    "UMBC_df.tail()"
   ]
  },
  {
   "cell_type": "code",
   "execution_count": 81,
   "metadata": {},
   "outputs": [
    {
     "data": {
      "text/html": [
       "<div>\n",
       "<style scoped>\n",
       "    .dataframe tbody tr th:only-of-type {\n",
       "        vertical-align: middle;\n",
       "    }\n",
       "\n",
       "    .dataframe tbody tr th {\n",
       "        vertical-align: top;\n",
       "    }\n",
       "\n",
       "    .dataframe thead th {\n",
       "        text-align: right;\n",
       "    }\n",
       "</style>\n",
       "<table border=\"1\" class=\"dataframe\">\n",
       "  <thead>\n",
       "    <tr style=\"text-align: right;\">\n",
       "      <th></th>\n",
       "      <th>UNITID</th>\n",
       "      <th>INSTNM</th>\n",
       "      <th>STABBR</th>\n",
       "      <th>REGION</th>\n",
       "      <th>ADM_RATE</th>\n",
       "      <th>TUITIONFEE_IN</th>\n",
       "      <th>Year</th>\n",
       "    </tr>\n",
       "  </thead>\n",
       "  <tbody>\n",
       "    <tr>\n",
       "      <th>1415</th>\n",
       "      <td>163268</td>\n",
       "      <td>University of Maryland-Baltimore County</td>\n",
       "      <td>MD</td>\n",
       "      <td>2.0</td>\n",
       "      <td>0.5794</td>\n",
       "      <td>11778.0</td>\n",
       "      <td>2018</td>\n",
       "    </tr>\n",
       "    <tr>\n",
       "      <th>1915</th>\n",
       "      <td>163268</td>\n",
       "      <td>University of Maryland-Baltimore County</td>\n",
       "      <td>MD</td>\n",
       "      <td>2.0</td>\n",
       "      <td>0.6551</td>\n",
       "      <td>5910.0</td>\n",
       "      <td>2001</td>\n",
       "    </tr>\n",
       "    <tr>\n",
       "      <th>1745</th>\n",
       "      <td>163268</td>\n",
       "      <td>University of Maryland-Baltimore County</td>\n",
       "      <td>MD</td>\n",
       "      <td>2.0</td>\n",
       "      <td>0.6890</td>\n",
       "      <td>8872.0</td>\n",
       "      <td>2009</td>\n",
       "    </tr>\n",
       "    <tr>\n",
       "      <th>1799</th>\n",
       "      <td>163268</td>\n",
       "      <td>University of Maryland-Baltimore County</td>\n",
       "      <td>MD</td>\n",
       "      <td>2.0</td>\n",
       "      <td>0.7153</td>\n",
       "      <td>8622.0</td>\n",
       "      <td>2006</td>\n",
       "    </tr>\n",
       "    <tr>\n",
       "      <th>1610</th>\n",
       "      <td>163268</td>\n",
       "      <td>University of Maryland-Baltimore County</td>\n",
       "      <td>MD</td>\n",
       "      <td>2.0</td>\n",
       "      <td>0.5961</td>\n",
       "      <td>10384.0</td>\n",
       "      <td>2014</td>\n",
       "    </tr>\n",
       "  </tbody>\n",
       "</table>\n",
       "</div>"
      ],
      "text/plain": [
       "      UNITID                                   INSTNM STABBR  REGION  \\\n",
       "1415  163268  University of Maryland-Baltimore County     MD     2.0   \n",
       "1915  163268  University of Maryland-Baltimore County     MD     2.0   \n",
       "1745  163268  University of Maryland-Baltimore County     MD     2.0   \n",
       "1799  163268  University of Maryland-Baltimore County     MD     2.0   \n",
       "1610  163268  University of Maryland-Baltimore County     MD     2.0   \n",
       "\n",
       "      ADM_RATE  TUITIONFEE_IN  Year  \n",
       "1415    0.5794        11778.0  2018  \n",
       "1915    0.6551         5910.0  2001  \n",
       "1745    0.6890         8872.0  2009  \n",
       "1799    0.7153         8622.0  2006  \n",
       "1610    0.5961        10384.0  2014  "
      ]
     },
     "execution_count": 81,
     "metadata": {},
     "output_type": "execute_result"
    }
   ],
   "source": [
    "UMBC_df.sample(5)"
   ]
  },
  {
   "cell_type": "code",
   "execution_count": 83,
   "metadata": {},
   "outputs": [
    {
     "data": {
      "text/html": [
       "<div>\n",
       "<style scoped>\n",
       "    .dataframe tbody tr th:only-of-type {\n",
       "        vertical-align: middle;\n",
       "    }\n",
       "\n",
       "    .dataframe tbody tr th {\n",
       "        vertical-align: top;\n",
       "    }\n",
       "\n",
       "    .dataframe thead th {\n",
       "        text-align: right;\n",
       "    }\n",
       "</style>\n",
       "<table border=\"1\" class=\"dataframe\">\n",
       "  <thead>\n",
       "    <tr style=\"text-align: right;\">\n",
       "      <th></th>\n",
       "      <th>UNITID</th>\n",
       "      <th>INSTNM</th>\n",
       "      <th>STABBR</th>\n",
       "      <th>REGION</th>\n",
       "      <th>ADM_RATE</th>\n",
       "      <th>TUITIONFEE_IN</th>\n",
       "      <th>Year</th>\n",
       "    </tr>\n",
       "  </thead>\n",
       "  <tbody>\n",
       "    <tr>\n",
       "      <th>1955</th>\n",
       "      <td>163268</td>\n",
       "      <td>University of Maryland-Baltimore County</td>\n",
       "      <td>MD</td>\n",
       "      <td>2.0</td>\n",
       "      <td>NaN</td>\n",
       "      <td>NaN</td>\n",
       "      <td>1999</td>\n",
       "    </tr>\n",
       "    <tr>\n",
       "      <th>2151</th>\n",
       "      <td>163268</td>\n",
       "      <td>University of Maryland-Baltimore County</td>\n",
       "      <td>MD</td>\n",
       "      <td>2.0</td>\n",
       "      <td>NaN</td>\n",
       "      <td>NaN</td>\n",
       "      <td>1996</td>\n",
       "    </tr>\n",
       "    <tr>\n",
       "      <th>1926</th>\n",
       "      <td>163268</td>\n",
       "      <td>University of Maryland-Baltimore County</td>\n",
       "      <td>MD</td>\n",
       "      <td>2.0</td>\n",
       "      <td>NaN</td>\n",
       "      <td>5490.0</td>\n",
       "      <td>2000</td>\n",
       "    </tr>\n",
       "    <tr>\n",
       "      <th>2049</th>\n",
       "      <td>163268</td>\n",
       "      <td>University of Maryland-Baltimore County</td>\n",
       "      <td>MD</td>\n",
       "      <td>2.0</td>\n",
       "      <td>NaN</td>\n",
       "      <td>NaN</td>\n",
       "      <td>1997</td>\n",
       "    </tr>\n",
       "    <tr>\n",
       "      <th>1982</th>\n",
       "      <td>163268</td>\n",
       "      <td>University of Maryland-Baltimore County</td>\n",
       "      <td>MD</td>\n",
       "      <td>2.0</td>\n",
       "      <td>NaN</td>\n",
       "      <td>NaN</td>\n",
       "      <td>1998</td>\n",
       "    </tr>\n",
       "  </tbody>\n",
       "</table>\n",
       "</div>"
      ],
      "text/plain": [
       "      UNITID                                   INSTNM STABBR  REGION  \\\n",
       "1955  163268  University of Maryland-Baltimore County     MD     2.0   \n",
       "2151  163268  University of Maryland-Baltimore County     MD     2.0   \n",
       "1926  163268  University of Maryland-Baltimore County     MD     2.0   \n",
       "2049  163268  University of Maryland-Baltimore County     MD     2.0   \n",
       "1982  163268  University of Maryland-Baltimore County     MD     2.0   \n",
       "\n",
       "      ADM_RATE  TUITIONFEE_IN  Year  \n",
       "1955       NaN            NaN  1999  \n",
       "2151       NaN            NaN  1996  \n",
       "1926       NaN         5490.0  2000  \n",
       "2049       NaN            NaN  1997  \n",
       "1982       NaN            NaN  1998  "
      ]
     },
     "execution_count": 83,
     "metadata": {},
     "output_type": "execute_result"
    }
   ],
   "source": [
    "# Finding all missing values in the column of 'ADM_RATE' in UMBC dataframe.\n",
    "\n",
    "UMBC_df[UMBC_df.ADM_RATE.isna()==True]"
   ]
  },
  {
   "cell_type": "code",
   "execution_count": 85,
   "metadata": {},
   "outputs": [
    {
     "data": {
      "text/html": [
       "<div>\n",
       "<style scoped>\n",
       "    .dataframe tbody tr th:only-of-type {\n",
       "        vertical-align: middle;\n",
       "    }\n",
       "\n",
       "    .dataframe tbody tr th {\n",
       "        vertical-align: top;\n",
       "    }\n",
       "\n",
       "    .dataframe thead th {\n",
       "        text-align: right;\n",
       "    }\n",
       "</style>\n",
       "<table border=\"1\" class=\"dataframe\">\n",
       "  <thead>\n",
       "    <tr style=\"text-align: right;\">\n",
       "      <th></th>\n",
       "      <th>UNITID</th>\n",
       "      <th>REGION</th>\n",
       "      <th>ADM_RATE</th>\n",
       "      <th>TUITIONFEE_IN</th>\n",
       "      <th>Year</th>\n",
       "    </tr>\n",
       "  </thead>\n",
       "  <tbody>\n",
       "    <tr>\n",
       "      <th>count</th>\n",
       "      <td>23.0</td>\n",
       "      <td>23.0</td>\n",
       "      <td>18.000000</td>\n",
       "      <td>19.000000</td>\n",
       "      <td>23.00000</td>\n",
       "    </tr>\n",
       "    <tr>\n",
       "      <th>mean</th>\n",
       "      <td>163268.0</td>\n",
       "      <td>2.0</td>\n",
       "      <td>0.640694</td>\n",
       "      <td>9004.842105</td>\n",
       "      <td>2007.00000</td>\n",
       "    </tr>\n",
       "    <tr>\n",
       "      <th>std</th>\n",
       "      <td>0.0</td>\n",
       "      <td>0.0</td>\n",
       "      <td>0.052728</td>\n",
       "      <td>1825.795421</td>\n",
       "      <td>6.78233</td>\n",
       "    </tr>\n",
       "    <tr>\n",
       "      <th>min</th>\n",
       "      <td>163268.0</td>\n",
       "      <td>2.0</td>\n",
       "      <td>0.568300</td>\n",
       "      <td>5490.000000</td>\n",
       "      <td>1996.00000</td>\n",
       "    </tr>\n",
       "    <tr>\n",
       "      <th>25%</th>\n",
       "      <td>163268.0</td>\n",
       "      <td>2.0</td>\n",
       "      <td>0.597600</td>\n",
       "      <td>8270.000000</td>\n",
       "      <td>2001.50000</td>\n",
       "    </tr>\n",
       "    <tr>\n",
       "      <th>50%</th>\n",
       "      <td>163268.0</td>\n",
       "      <td>2.0</td>\n",
       "      <td>0.632100</td>\n",
       "      <td>8872.000000</td>\n",
       "      <td>2007.00000</td>\n",
       "    </tr>\n",
       "    <tr>\n",
       "      <th>75%</th>\n",
       "      <td>163268.0</td>\n",
       "      <td>2.0</td>\n",
       "      <td>0.689375</td>\n",
       "      <td>10226.000000</td>\n",
       "      <td>2012.50000</td>\n",
       "    </tr>\n",
       "    <tr>\n",
       "      <th>max</th>\n",
       "      <td>163268.0</td>\n",
       "      <td>2.0</td>\n",
       "      <td>0.717400</td>\n",
       "      <td>11778.000000</td>\n",
       "      <td>2018.00000</td>\n",
       "    </tr>\n",
       "  </tbody>\n",
       "</table>\n",
       "</div>"
      ],
      "text/plain": [
       "         UNITID  REGION   ADM_RATE  TUITIONFEE_IN        Year\n",
       "count      23.0    23.0  18.000000      19.000000    23.00000\n",
       "mean   163268.0     2.0   0.640694    9004.842105  2007.00000\n",
       "std         0.0     0.0   0.052728    1825.795421     6.78233\n",
       "min    163268.0     2.0   0.568300    5490.000000  1996.00000\n",
       "25%    163268.0     2.0   0.597600    8270.000000  2001.50000\n",
       "50%    163268.0     2.0   0.632100    8872.000000  2007.00000\n",
       "75%    163268.0     2.0   0.689375   10226.000000  2012.50000\n",
       "max    163268.0     2.0   0.717400   11778.000000  2018.00000"
      ]
     },
     "execution_count": 85,
     "metadata": {},
     "output_type": "execute_result"
    }
   ],
   "source": [
    "UMBC_df.describe()"
   ]
  },
  {
   "cell_type": "markdown",
   "metadata": {},
   "source": [
    "## Section 9"
   ]
  },
  {
   "cell_type": "code",
   "execution_count": 119,
   "metadata": {},
   "outputs": [
    {
     "data": {
      "text/plain": [
       "Text(0, 0.5, 'In-state Tuition (USD)')"
      ]
     },
     "execution_count": 119,
     "metadata": {},
     "output_type": "execute_result"
    },
    {
     "data": {
      "image/png": "[encoded data removed]",
      "text/plain": [
       "<Figure size 936x432 with 1 Axes>"
      ]
     },
     "metadata": {
      "needs_background": "light"
     },
     "output_type": "display_data"
    }
   ],
   "source": [
    "# <9> \n",
    "# Plot UMBC's in-state tution overtime from 1996 to 2019 using Bar Chart\n",
    "\n",
    "# For convenience, we first sort the rows of UMBC dataframe by year.\n",
    "\n",
    "UMBC_df=UMBC_df.sort_values(by='Year',ascending=True)\n",
    "\n",
    "# We transform the 'Year' and 'TUITIONFEE_IN' columns UMBC dataframe into lists.\n",
    "\n",
    "UMBC_x_list=UMBC_df.Year.apply(str).tolist()\n",
    "UMBC_y_list=UMBC_df.TUITIONFEE_IN.tolist()\n",
    "\n",
    "# We now construct the bar chart of UMBC In-state tuition over time. Notice that the first 4 years (1996-1999) are\n",
    "# not presented in the bar chart as we have a missing (NaN) value for them.\n",
    "\n",
    "fig, ax = plt.subplots(figsize=(13,6))\n",
    "\n",
    "ax.bar(UMBC_x_list, UMBC_y_list,color='g')\n",
    "ax.set_title(\"Bar Chart of UMBC In-state Tuition\")\n",
    "ax.set_xlabel(\"Academic Year\")\n",
    "ax.set_ylabel(\"In-state Tuition (USD)\")\n"
   ]
  },
  {
   "cell_type": "markdown",
   "metadata": {},
   "source": [
    "## Section 10"
   ]
  },
  {
   "cell_type": "code",
   "execution_count": 109,
   "metadata": {},
   "outputs": [
    {
     "data": {
      "text/plain": [
       "Text(0, 0.5, 'In-state Tuition (USD)')"
      ]
     },
     "execution_count": 109,
     "metadata": {},
     "output_type": "execute_result"
    },
    {
     "data": {
      "image/png": "[encoded data removed]",
      "text/plain": [
       "<Figure size 864x432 with 1 Axes>"
      ]
     },
     "metadata": {
      "needs_background": "light"
     },
     "output_type": "display_data"
    }
   ],
   "source": [
    "# <10> \n",
    "# Plot UMBC's in-state tution overtime from 1996 to 2019 using Line Chart\n",
    "\n",
    "fig, ax = plt.subplots(figsize=(12,6))\n",
    "\n",
    "ax.plot(UMBC_df.Year,UMBC_df.TUITIONFEE_IN,color='r')\n",
    "ax.set_title(\"Line Chart of UMBC In-state Tuition\")\n",
    "ax.set_xlabel(\"Academic Year\")\n",
    "ax.set_ylabel(\"In-state Tuition (USD)\")"
   ]
  },
  {
   "cell_type": "markdown",
   "metadata": {},
   "source": [
    "## Section 11"
   ]
  },
  {
   "cell_type": "code",
   "execution_count": 146,
   "metadata": {},
   "outputs": [],
   "source": [
    "# <11>\n",
    "# Now let's look at the tuition growth rate year over year\n",
    "# We need to calculate UMBC tuition change percentage each year\n",
    "# First convert the TUITIONFEE_IN column to a Python List\n",
    "\n",
    "UMBC_Tuition_list = UMBC_df.TUITIONFEE_IN.tolist()"
   ]
  },
  {
   "cell_type": "code",
   "execution_count": 159,
   "metadata": {},
   "outputs": [
    {
     "name": "stdout",
     "output_type": "stream",
     "text": [
      "[nan, nan, nan, nan, 7.65, 7.65, 16.13, 8.55, 6.23, 1.2, 1.0, 0.83, 1.05, 3.37, 3.23, 3.14, 3.11, 3.14, 5.99, 2.34, 2.25, 2.26, nan]\n"
     ]
    }
   ],
   "source": [
    "# Loop through the list and calculate the % change each year over the prior year\n",
    "# This takes some effort. Not hard, just some abstract/logical thinking and some experiments\n",
    "# Have fun on this one\n",
    "\n",
    "# Note that the percentage for the very last year cannot be calculated, so we add a nan at the end of the list.\n",
    "\n",
    "UMBC_tuition_PCT=[round((UMBC_Tuition_list[k+1]-UMBC_Tuition_list[k])*100/UMBC_Tuition_list[k],2) \n",
    "                      for k in range(len(UMBC_Tuition_list)-1)] + [np.nan]\n",
    "\n",
    "print(UMBC_tuition_PCT)"
   ]
  },
  {
   "cell_type": "code",
   "execution_count": null,
   "metadata": {},
   "outputs": [],
   "source": [
    "# The resulting number has many decimal points which are unnecessary and not visually appealing.\n",
    "# Round up the percentage to two decimal points\n",
    "# You can use for loop. Or better, use list comprehension for simplicity/brevity\n",
    "\n",
    "# Already implemented above!"
   ]
  },
  {
   "cell_type": "code",
   "execution_count": 161,
   "metadata": {},
   "outputs": [
    {
     "data": {
      "text/html": [
       "<div>\n",
       "<style scoped>\n",
       "    .dataframe tbody tr th:only-of-type {\n",
       "        vertical-align: middle;\n",
       "    }\n",
       "\n",
       "    .dataframe tbody tr th {\n",
       "        vertical-align: top;\n",
       "    }\n",
       "\n",
       "    .dataframe thead th {\n",
       "        text-align: right;\n",
       "    }\n",
       "</style>\n",
       "<table border=\"1\" class=\"dataframe\">\n",
       "  <thead>\n",
       "    <tr style=\"text-align: right;\">\n",
       "      <th></th>\n",
       "      <th>UNITID</th>\n",
       "      <th>INSTNM</th>\n",
       "      <th>STABBR</th>\n",
       "      <th>REGION</th>\n",
       "      <th>ADM_RATE</th>\n",
       "      <th>TUITIONFEE_IN</th>\n",
       "      <th>Year</th>\n",
       "      <th>PCT_CHANGE</th>\n",
       "    </tr>\n",
       "  </thead>\n",
       "  <tbody>\n",
       "    <tr>\n",
       "      <th>2151</th>\n",
       "      <td>163268</td>\n",
       "      <td>University of Maryland-Baltimore County</td>\n",
       "      <td>MD</td>\n",
       "      <td>2.0</td>\n",
       "      <td>NaN</td>\n",
       "      <td>NaN</td>\n",
       "      <td>1996</td>\n",
       "      <td>NaN</td>\n",
       "    </tr>\n",
       "    <tr>\n",
       "      <th>2049</th>\n",
       "      <td>163268</td>\n",
       "      <td>University of Maryland-Baltimore County</td>\n",
       "      <td>MD</td>\n",
       "      <td>2.0</td>\n",
       "      <td>NaN</td>\n",
       "      <td>NaN</td>\n",
       "      <td>1997</td>\n",
       "      <td>NaN</td>\n",
       "    </tr>\n",
       "    <tr>\n",
       "      <th>1982</th>\n",
       "      <td>163268</td>\n",
       "      <td>University of Maryland-Baltimore County</td>\n",
       "      <td>MD</td>\n",
       "      <td>2.0</td>\n",
       "      <td>NaN</td>\n",
       "      <td>NaN</td>\n",
       "      <td>1998</td>\n",
       "      <td>NaN</td>\n",
       "    </tr>\n",
       "    <tr>\n",
       "      <th>1955</th>\n",
       "      <td>163268</td>\n",
       "      <td>University of Maryland-Baltimore County</td>\n",
       "      <td>MD</td>\n",
       "      <td>2.0</td>\n",
       "      <td>NaN</td>\n",
       "      <td>NaN</td>\n",
       "      <td>1999</td>\n",
       "      <td>NaN</td>\n",
       "    </tr>\n",
       "    <tr>\n",
       "      <th>1926</th>\n",
       "      <td>163268</td>\n",
       "      <td>University of Maryland-Baltimore County</td>\n",
       "      <td>MD</td>\n",
       "      <td>2.0</td>\n",
       "      <td>NaN</td>\n",
       "      <td>5490.0</td>\n",
       "      <td>2000</td>\n",
       "      <td>7.65</td>\n",
       "    </tr>\n",
       "  </tbody>\n",
       "</table>\n",
       "</div>"
      ],
      "text/plain": [
       "      UNITID                                   INSTNM STABBR  REGION  \\\n",
       "2151  163268  University of Maryland-Baltimore County     MD     2.0   \n",
       "2049  163268  University of Maryland-Baltimore County     MD     2.0   \n",
       "1982  163268  University of Maryland-Baltimore County     MD     2.0   \n",
       "1955  163268  University of Maryland-Baltimore County     MD     2.0   \n",
       "1926  163268  University of Maryland-Baltimore County     MD     2.0   \n",
       "\n",
       "      ADM_RATE  TUITIONFEE_IN  Year  PCT_CHANGE  \n",
       "2151       NaN            NaN  1996         NaN  \n",
       "2049       NaN            NaN  1997         NaN  \n",
       "1982       NaN            NaN  1998         NaN  \n",
       "1955       NaN            NaN  1999         NaN  \n",
       "1926       NaN         5490.0  2000        7.65  "
      ]
     },
     "execution_count": 161,
     "metadata": {},
     "output_type": "execute_result"
    }
   ],
   "source": [
    "# Add the list of the percentages to the dataframe as a new column (\"PCT_CHANGE\")\n",
    "# Not as hard as you may think. If you get stuck, you think too hard. \n",
    "# Google it and you will find the answer.\n",
    "\n",
    "UMBC_df['PCT_CHANGE']=UMBC_tuition_PCT\n",
    "UMBC_df.head()"
   ]
  },
  {
   "cell_type": "code",
   "execution_count": 166,
   "metadata": {},
   "outputs": [
    {
     "data": {
      "text/plain": [
       "Text(0, 0.5, 'Tuition Growth Rate (%)')"
      ]
     },
     "execution_count": 166,
     "metadata": {},
     "output_type": "execute_result"
    },
    {
     "data": {
      "image/png": "[encoded data removed]",
      "text/plain": [
       "<Figure size 1008x720 with 2 Axes>"
      ]
     },
     "metadata": {
      "needs_background": "light"
     },
     "output_type": "display_data"
    }
   ],
   "source": [
    "# Finaly, we can make the plot tuition growth rate year over year - bar first, then line chart\n",
    "\n",
    "UMBC_x_list=UMBC_df.Year.apply(str).tolist()\n",
    "UMBC_y_list=UMBC_df.PCT_CHANGE.tolist()\n",
    "\n",
    "fig, ax_list = plt.subplots(2,1,figsize=(14,10))\n",
    "\n",
    "ax_list[0].bar(UMBC_x_list,UMBC_y_list,color=(0.75,0.35,0.95))\n",
    "ax_list[0].set_title(\"Bar Chart of UMBC Tuition Growth Rate\")\n",
    "ax_list[0].set_xlabel(\"Academic Year\")\n",
    "ax_list[0].set_ylabel(\"Tuition Growth Rate (%)\")\n",
    "ax_list[1].plot(UMBC_df.Year,UMBC_df.PCT_CHANGE,color=(0.25,0.85,0.15))\n",
    "ax_list[1].set_title(\"Line Chart of UMBC Tuition Growth Rate\")\n",
    "ax_list[1].set_xlabel(\"Academic Year\")\n",
    "ax_list[1].set_ylabel(\"Tuition Growth Rate (%)\")"
   ]
  },
  {
   "cell_type": "code",
   "execution_count": 237,
   "metadata": {},
   "outputs": [
    {
     "data": {
      "text/plain": [
       "Text(0, 0.5, 'Tuition Growth Rate (%)')"
      ]
     },
     "execution_count": 237,
     "metadata": {},
     "output_type": "execute_result"
    },
    {
     "data": {
      "image/png": "[encoded data removed]",
      "text/plain": [
       "<Figure size 1008x504 with 1 Axes>"
      ]
     },
     "metadata": {
      "needs_background": "light"
     },
     "output_type": "display_data"
    }
   ],
   "source": [
    "# I was not quite sure how meant by having them in the same plot. Just in case if the plot below is what is asked \n",
    "# by the problem.\n",
    "\n",
    "fig, ax = plt.subplots(figsize=(14,7))\n",
    "\n",
    "ax.bar(UMBC_df.Year,UMBC_df.PCT_CHANGE,color=(0.55,0.45,0.65))\n",
    "ax.plot(UMBC_df.Year,UMBC_df.PCT_CHANGE,color=(0.85,0.05,0.15))\n",
    "ax.set_title(\"Line Chart of UMBC Tuition Growth Rate\")\n",
    "ax.set_xlabel(\"Academic Year\")\n",
    "ax.set_ylabel(\"Tuition Growth Rate (%)\")"
   ]
  },
  {
   "cell_type": "markdown",
   "metadata": {},
   "source": [
    "## Section 12"
   ]
  },
  {
   "cell_type": "code",
   "execution_count": 178,
   "metadata": {},
   "outputs": [],
   "source": [
    "# <12>\n",
    "# Since we want to do the same calculation for JHU. \n",
    "# Instead of doing it piecemeal as we did for UMBC\n",
    "# Let's create a function which can be reused for any college.\n",
    "# This function takes a list of tuitions and return a list of percentage changes year over year\n",
    "# This function can be used later \n",
    "\n",
    "def PCT_list(tuition):\n",
    "    outcome=[]\n",
    "    for k in range(len(tuition)-1):\n",
    "        aux=round((tuition[k+1]-tuition[k])*100/tuition[k],2)\n",
    "        outcome.append(aux)\n",
    "    outcome.append(np.nan)\n",
    "    return outcome"
   ]
  },
  {
   "cell_type": "code",
   "execution_count": 180,
   "metadata": {},
   "outputs": [
    {
     "name": "stdout",
     "output_type": "stream",
     "text": [
      "[nan, nan, nan, nan, 0.0, 0.0, 0.0, 0.0, 0.0, 0.0, 0.0, 0.0, 0.0, 0.0, 0.0, 0.0, 0.0, 0.0, 0.0, 0.0, 0.0, 0.0, nan]\n"
     ]
    }
   ],
   "source": [
    "# Checking that the function works properly. We subtract the results obtained in two ways (i.e. without use of\n",
    "# the function and with the use of the function) and we get zero wherever we have an entry different from nan. \n",
    "\n",
    "print([UMBC_df.PCT_CHANGE.tolist()[k]-PCT_list(UMBC_df.TUITIONFEE_IN.tolist())[k] \n",
    " for k in range(len(UMBC_df.PCT_CHANGE.tolist()))])"
   ]
  },
  {
   "cell_type": "markdown",
   "metadata": {},
   "source": [
    "## Section 13"
   ]
  },
  {
   "cell_type": "code",
   "execution_count": 118,
   "metadata": {},
   "outputs": [
    {
     "data": {
      "text/html": [
       "<div>\n",
       "<style scoped>\n",
       "    .dataframe tbody tr th:only-of-type {\n",
       "        vertical-align: middle;\n",
       "    }\n",
       "\n",
       "    .dataframe tbody tr th {\n",
       "        vertical-align: top;\n",
       "    }\n",
       "\n",
       "    .dataframe thead th {\n",
       "        text-align: right;\n",
       "    }\n",
       "</style>\n",
       "<table border=\"1\" class=\"dataframe\">\n",
       "  <thead>\n",
       "    <tr style=\"text-align: right;\">\n",
       "      <th></th>\n",
       "      <th>UNITID</th>\n",
       "      <th>INSTNM</th>\n",
       "      <th>STABBR</th>\n",
       "      <th>REGION</th>\n",
       "      <th>ADM_RATE</th>\n",
       "      <th>TUITIONFEE_IN</th>\n",
       "      <th>Year</th>\n",
       "    </tr>\n",
       "  </thead>\n",
       "  <tbody>\n",
       "    <tr>\n",
       "      <th>1603</th>\n",
       "      <td>162928</td>\n",
       "      <td>Johns Hopkins University</td>\n",
       "      <td>MD</td>\n",
       "      <td>2.0</td>\n",
       "      <td>0.1608</td>\n",
       "      <td>47060.0</td>\n",
       "      <td>2014</td>\n",
       "    </tr>\n",
       "    <tr>\n",
       "      <th>1548</th>\n",
       "      <td>162928</td>\n",
       "      <td>Johns Hopkins University</td>\n",
       "      <td>MD</td>\n",
       "      <td>2.0</td>\n",
       "      <td>0.1412</td>\n",
       "      <td>48710.0</td>\n",
       "      <td>2015</td>\n",
       "    </tr>\n",
       "    <tr>\n",
       "      <th>1503</th>\n",
       "      <td>162928</td>\n",
       "      <td>Johns Hopkins University</td>\n",
       "      <td>MD</td>\n",
       "      <td>2.0</td>\n",
       "      <td>0.1284</td>\n",
       "      <td>50410.0</td>\n",
       "      <td>2016</td>\n",
       "    </tr>\n",
       "    <tr>\n",
       "      <th>1473</th>\n",
       "      <td>162928</td>\n",
       "      <td>Johns Hopkins University</td>\n",
       "      <td>MD</td>\n",
       "      <td>2.0</td>\n",
       "      <td>0.1254</td>\n",
       "      <td>52170.0</td>\n",
       "      <td>2017</td>\n",
       "    </tr>\n",
       "    <tr>\n",
       "      <th>1410</th>\n",
       "      <td>162928</td>\n",
       "      <td>Johns Hopkins University</td>\n",
       "      <td>MD</td>\n",
       "      <td>2.0</td>\n",
       "      <td>0.1148</td>\n",
       "      <td>53740.0</td>\n",
       "      <td>2018</td>\n",
       "    </tr>\n",
       "  </tbody>\n",
       "</table>\n",
       "</div>"
      ],
      "text/plain": [
       "      UNITID                    INSTNM STABBR  REGION  ADM_RATE  \\\n",
       "1603  162928  Johns Hopkins University     MD     2.0    0.1608   \n",
       "1548  162928  Johns Hopkins University     MD     2.0    0.1412   \n",
       "1503  162928  Johns Hopkins University     MD     2.0    0.1284   \n",
       "1473  162928  Johns Hopkins University     MD     2.0    0.1254   \n",
       "1410  162928  Johns Hopkins University     MD     2.0    0.1148   \n",
       "\n",
       "      TUITIONFEE_IN  Year  \n",
       "1603        47060.0  2014  \n",
       "1548        48710.0  2015  \n",
       "1503        50410.0  2016  \n",
       "1473        52170.0  2017  \n",
       "1410        53740.0  2018  "
      ]
     },
     "execution_count": 118,
     "metadata": {},
     "output_type": "execute_result"
    }
   ],
   "source": [
    "# <13>\n",
    "# the dataframe contains many years of data of all U.S. colleges.\n",
    "# let's just look at JHU\n",
    "# filter/query the dataframe to retrieve only rows that belong to JHU\n",
    "# save the JHU data to a new data frame. using a new variable \n",
    "# so that the old big data frame is still available for later use.\n",
    "\n",
    "JHU_df=Final_df[Final_df['INSTNM'].str.contains('Johns Hopkins University')].sort_values(by='Year',ascending=True)\n",
    "JHU_df.tail()"
   ]
  },
  {
   "cell_type": "markdown",
   "metadata": {},
   "source": [
    "## Section 14"
   ]
  },
  {
   "cell_type": "code",
   "execution_count": 140,
   "metadata": {},
   "outputs": [
    {
     "data": {
      "text/plain": [
       "Text(0, 0.5, 'In-state Tuition (USD)')"
      ]
     },
     "execution_count": 140,
     "metadata": {},
     "output_type": "execute_result"
    },
    {
     "data": {
      "image/png": "[encoded data removed]",
      "text/plain": [
       "<Figure size 1008x720 with 2 Axes>"
      ]
     },
     "metadata": {
      "needs_background": "light"
     },
     "output_type": "display_data"
    }
   ],
   "source": [
    "# <14> \n",
    "# Plot JHU's in-state tuition overtime from 1996 to 2019. \n",
    "# Let's plot bar and line chart together\n",
    "\n",
    "JHU_x_list=JHU_df.Year.apply(str).tolist()\n",
    "JHU_y_list=JHU_df.TUITIONFEE_IN.tolist()\n",
    "\n",
    "fig, ax_list = plt.subplots(2,1,figsize=(14,10))\n",
    "\n",
    "ax_list[0].bar(JHU_x_list,JHU_y_list,color='b')\n",
    "ax_list[0].set_title(\"Bar Chart of JHU In-state Tuition\")\n",
    "ax_list[0].set_xlabel(\"Academic Year\")\n",
    "ax_list[0].set_ylabel(\"In-state Tuition (USD)\")\n",
    "ax_list[1].plot(JHU_df.Year,JHU_df.TUITIONFEE_IN,color='k')\n",
    "ax_list[1].set_title(\"Line Chart of JHU In-state Tuition\")\n",
    "ax_list[1].set_xlabel(\"Academic Year\")\n",
    "ax_list[1].set_ylabel(\"In-state Tuition (USD)\")"
   ]
  },
  {
   "cell_type": "code",
   "execution_count": 253,
   "metadata": {},
   "outputs": [
    {
     "data": {
      "text/plain": [
       "Text(0, 0.5, 'In-state Tuition (USD)')"
      ]
     },
     "execution_count": 253,
     "metadata": {},
     "output_type": "execute_result"
    },
    {
     "data": {
      "image/png": "[encoded data removed]",
      "text/plain": [
       "<Figure size 1008x432 with 1 Axes>"
      ]
     },
     "metadata": {
      "needs_background": "light"
     },
     "output_type": "display_data"
    }
   ],
   "source": [
    "# I was not quite sure how meant by having them in the same plot. Just in case if the plot below is what is asked \n",
    "# by the problem.\n",
    "\n",
    "fig, ax = plt.subplots(figsize=(14,6))\n",
    "\n",
    "ax.bar(JHU_df.Year,JHU_df.TUITIONFEE_IN,color=(0.62,0.45,0.65))\n",
    "ax.plot(JHU_df.Year,JHU_df.TUITIONFEE_IN,color=(0.05,0.95,0.35))\n",
    "ax.set_title(\"Line/Bar Charts of JHU In-state Tuition\")\n",
    "ax.set_xlabel(\"Academic Year\")\n",
    "ax.set_ylabel(\"In-state Tuition (USD)\")"
   ]
  },
  {
   "cell_type": "markdown",
   "metadata": {},
   "source": [
    "## Section 15"
   ]
  },
  {
   "cell_type": "code",
   "execution_count": 182,
   "metadata": {},
   "outputs": [
    {
     "name": "stdout",
     "output_type": "stream",
     "text": [
      "[nan, nan, nan, nan, 5.13, 4.5, 4.89, 4.91, 4.91, 7.21, 5.9, 5.01, 3.85, 3.91, 3.93, 2.63, 4.79, 3.5, 3.51, 3.49, 3.49, 3.01, nan]\n"
     ]
    }
   ],
   "source": [
    "# <15>\n",
    "# Let's calculate the JHU tuition percentge growth using the function defined earlier\n",
    "\n",
    "print(PCT_list(JHU_df.TUITIONFEE_IN.tolist()))"
   ]
  },
  {
   "cell_type": "markdown",
   "metadata": {},
   "source": [
    "## Section 16"
   ]
  },
  {
   "cell_type": "code",
   "execution_count": 185,
   "metadata": {},
   "outputs": [
    {
     "data": {
      "text/html": [
       "<div>\n",
       "<style scoped>\n",
       "    .dataframe tbody tr th:only-of-type {\n",
       "        vertical-align: middle;\n",
       "    }\n",
       "\n",
       "    .dataframe tbody tr th {\n",
       "        vertical-align: top;\n",
       "    }\n",
       "\n",
       "    .dataframe thead th {\n",
       "        text-align: right;\n",
       "    }\n",
       "</style>\n",
       "<table border=\"1\" class=\"dataframe\">\n",
       "  <thead>\n",
       "    <tr style=\"text-align: right;\">\n",
       "      <th></th>\n",
       "      <th>UNITID</th>\n",
       "      <th>INSTNM</th>\n",
       "      <th>STABBR</th>\n",
       "      <th>REGION</th>\n",
       "      <th>ADM_RATE</th>\n",
       "      <th>TUITIONFEE_IN</th>\n",
       "      <th>Year</th>\n",
       "      <th>PCT_CHANGE</th>\n",
       "    </tr>\n",
       "  </thead>\n",
       "  <tbody>\n",
       "    <tr>\n",
       "      <th>1603</th>\n",
       "      <td>162928</td>\n",
       "      <td>Johns Hopkins University</td>\n",
       "      <td>MD</td>\n",
       "      <td>2.0</td>\n",
       "      <td>0.1608</td>\n",
       "      <td>47060.0</td>\n",
       "      <td>2014</td>\n",
       "      <td>3.51</td>\n",
       "    </tr>\n",
       "    <tr>\n",
       "      <th>1548</th>\n",
       "      <td>162928</td>\n",
       "      <td>Johns Hopkins University</td>\n",
       "      <td>MD</td>\n",
       "      <td>2.0</td>\n",
       "      <td>0.1412</td>\n",
       "      <td>48710.0</td>\n",
       "      <td>2015</td>\n",
       "      <td>3.49</td>\n",
       "    </tr>\n",
       "    <tr>\n",
       "      <th>1503</th>\n",
       "      <td>162928</td>\n",
       "      <td>Johns Hopkins University</td>\n",
       "      <td>MD</td>\n",
       "      <td>2.0</td>\n",
       "      <td>0.1284</td>\n",
       "      <td>50410.0</td>\n",
       "      <td>2016</td>\n",
       "      <td>3.49</td>\n",
       "    </tr>\n",
       "    <tr>\n",
       "      <th>1473</th>\n",
       "      <td>162928</td>\n",
       "      <td>Johns Hopkins University</td>\n",
       "      <td>MD</td>\n",
       "      <td>2.0</td>\n",
       "      <td>0.1254</td>\n",
       "      <td>52170.0</td>\n",
       "      <td>2017</td>\n",
       "      <td>3.01</td>\n",
       "    </tr>\n",
       "    <tr>\n",
       "      <th>1410</th>\n",
       "      <td>162928</td>\n",
       "      <td>Johns Hopkins University</td>\n",
       "      <td>MD</td>\n",
       "      <td>2.0</td>\n",
       "      <td>0.1148</td>\n",
       "      <td>53740.0</td>\n",
       "      <td>2018</td>\n",
       "      <td>NaN</td>\n",
       "    </tr>\n",
       "  </tbody>\n",
       "</table>\n",
       "</div>"
      ],
      "text/plain": [
       "      UNITID                    INSTNM STABBR  REGION  ADM_RATE  \\\n",
       "1603  162928  Johns Hopkins University     MD     2.0    0.1608   \n",
       "1548  162928  Johns Hopkins University     MD     2.0    0.1412   \n",
       "1503  162928  Johns Hopkins University     MD     2.0    0.1284   \n",
       "1473  162928  Johns Hopkins University     MD     2.0    0.1254   \n",
       "1410  162928  Johns Hopkins University     MD     2.0    0.1148   \n",
       "\n",
       "      TUITIONFEE_IN  Year  PCT_CHANGE  \n",
       "1603        47060.0  2014        3.51  \n",
       "1548        48710.0  2015        3.49  \n",
       "1503        50410.0  2016        3.49  \n",
       "1473        52170.0  2017        3.01  \n",
       "1410        53740.0  2018         NaN  "
      ]
     },
     "execution_count": 185,
     "metadata": {},
     "output_type": "execute_result"
    }
   ],
   "source": [
    "# <16>\n",
    "# Add the list of percentage changes to the dataframe as a new column (\"PCT_CHANGE\")\n",
    "\n",
    "JHU_df['PCT_CHANGE']=PCT_list(JHU_df.TUITIONFEE_IN.tolist())\n",
    "JHU_df.tail()"
   ]
  },
  {
   "cell_type": "markdown",
   "metadata": {},
   "source": [
    "## Section 17"
   ]
  },
  {
   "cell_type": "code",
   "execution_count": 212,
   "metadata": {},
   "outputs": [
    {
     "data": {
      "text/plain": [
       "Text(0, 0.5, 'Tuition Growth Rate (%)')"
      ]
     },
     "execution_count": 212,
     "metadata": {},
     "output_type": "execute_result"
    },
    {
     "data": {
      "image/png": "[encoded data removed]",
      "text/plain": [
       "<Figure size 1008x432 with 1 Axes>"
      ]
     },
     "metadata": {
      "needs_background": "light"
     },
     "output_type": "display_data"
    }
   ],
   "source": [
    "# <17> \n",
    "# Make a bar plot of the JHU percentage changes tuitions over time\n",
    "\n",
    "JHU_x_list=JHU_df.Year.apply(str).tolist()\n",
    "\n",
    "fig, ax = plt.subplots(figsize=(14,6))\n",
    "\n",
    "ax.bar(JHU_x_list,JHU_df.PCT_CHANGE,color=(0.55,0.05,0.25))\n",
    "ax.set_title(\"Bar Chart of JHU Tuition Growth Rate\")\n",
    "ax.set_xlabel(\"Academic Year\")\n",
    "ax.set_ylabel(\"Tuition Growth Rate (%)\")"
   ]
  },
  {
   "cell_type": "code",
   "execution_count": 231,
   "metadata": {},
   "outputs": [
    {
     "data": {
      "text/plain": [
       "Text(0, 0.5, 'Tuition Growth Rate (%)')"
      ]
     },
     "execution_count": 231,
     "metadata": {},
     "output_type": "execute_result"
    },
    {
     "data": {
      "image/png": "[encoded data removed]",
      "text/plain": [
       "<Figure size 1008x432 with 1 Axes>"
      ]
     },
     "metadata": {
      "needs_background": "light"
     },
     "output_type": "display_data"
    }
   ],
   "source": [
    "# Doing the same job directly through pandas:\n",
    "\n",
    "JHU_df.plot.bar('Year','PCT_CHANGE',figsize=(14,6),title=\"Bar Chart of JHU Tuition Growth Rate\")\n",
    "plt.xlabel(\"Academic Year\")\n",
    "plt.ylabel(\"Tuition Growth Rate (%)\")"
   ]
  },
  {
   "cell_type": "markdown",
   "metadata": {},
   "source": [
    "## Section 18"
   ]
  },
  {
   "cell_type": "code",
   "execution_count": 198,
   "metadata": {},
   "outputs": [
    {
     "data": {
      "text/html": [
       "<div>\n",
       "<style scoped>\n",
       "    .dataframe tbody tr th:only-of-type {\n",
       "        vertical-align: middle;\n",
       "    }\n",
       "\n",
       "    .dataframe tbody tr th {\n",
       "        vertical-align: top;\n",
       "    }\n",
       "\n",
       "    .dataframe thead th {\n",
       "        text-align: right;\n",
       "    }\n",
       "</style>\n",
       "<table border=\"1\" class=\"dataframe\">\n",
       "  <thead>\n",
       "    <tr style=\"text-align: right;\">\n",
       "      <th></th>\n",
       "      <th>Year</th>\n",
       "      <th>UMBC_PCT</th>\n",
       "    </tr>\n",
       "  </thead>\n",
       "  <tbody>\n",
       "    <tr>\n",
       "      <th>1610</th>\n",
       "      <td>2014</td>\n",
       "      <td>5.99</td>\n",
       "    </tr>\n",
       "    <tr>\n",
       "      <th>1555</th>\n",
       "      <td>2015</td>\n",
       "      <td>2.34</td>\n",
       "    </tr>\n",
       "    <tr>\n",
       "      <th>1510</th>\n",
       "      <td>2016</td>\n",
       "      <td>2.25</td>\n",
       "    </tr>\n",
       "    <tr>\n",
       "      <th>1478</th>\n",
       "      <td>2017</td>\n",
       "      <td>2.26</td>\n",
       "    </tr>\n",
       "    <tr>\n",
       "      <th>1415</th>\n",
       "      <td>2018</td>\n",
       "      <td>NaN</td>\n",
       "    </tr>\n",
       "  </tbody>\n",
       "</table>\n",
       "</div>"
      ],
      "text/plain": [
       "      Year  UMBC_PCT\n",
       "1610  2014      5.99\n",
       "1555  2015      2.34\n",
       "1510  2016      2.25\n",
       "1478  2017      2.26\n",
       "1415  2018       NaN"
      ]
     },
     "execution_count": 198,
     "metadata": {},
     "output_type": "execute_result"
    }
   ],
   "source": [
    "# <18>\n",
    "# In order to plot both UMBC and JHU tuition change over time in the same plot,\n",
    "# we need to combine the two datasets using the common key of YEAR \n",
    "# First make a umbc2 dataframe with only two columns needed. WE don't need other columns.\n",
    "# Also change the column name from \"PCT_CHANGE\" to \"UMBC_PCT\" in preparation for the merge.\n",
    "# This is because both umbc and jhu dataframe have the same column name \"PCT_CHANGE\",\n",
    "# We rename them to there is no collision during the merge. BTW, Pandas handles collision gracefully,\n",
    "# Feel free to try it without changing the column names.\n",
    "\n",
    "UMBC2_df=UMBC_df[['Year','PCT_CHANGE']]\n",
    "UMBC2_df.rename(columns={'PCT_CHANGE':'UMBC_PCT'}, inplace=True)\n",
    "UMBC2_df.tail()"
   ]
  },
  {
   "cell_type": "code",
   "execution_count": 201,
   "metadata": {},
   "outputs": [
    {
     "data": {
      "text/html": [
       "<div>\n",
       "<style scoped>\n",
       "    .dataframe tbody tr th:only-of-type {\n",
       "        vertical-align: middle;\n",
       "    }\n",
       "\n",
       "    .dataframe tbody tr th {\n",
       "        vertical-align: top;\n",
       "    }\n",
       "\n",
       "    .dataframe thead th {\n",
       "        text-align: right;\n",
       "    }\n",
       "</style>\n",
       "<table border=\"1\" class=\"dataframe\">\n",
       "  <thead>\n",
       "    <tr style=\"text-align: right;\">\n",
       "      <th></th>\n",
       "      <th>Year</th>\n",
       "      <th>JHU_PCT</th>\n",
       "    </tr>\n",
       "  </thead>\n",
       "  <tbody>\n",
       "    <tr>\n",
       "      <th>1603</th>\n",
       "      <td>2014</td>\n",
       "      <td>3.51</td>\n",
       "    </tr>\n",
       "    <tr>\n",
       "      <th>1548</th>\n",
       "      <td>2015</td>\n",
       "      <td>3.49</td>\n",
       "    </tr>\n",
       "    <tr>\n",
       "      <th>1503</th>\n",
       "      <td>2016</td>\n",
       "      <td>3.49</td>\n",
       "    </tr>\n",
       "    <tr>\n",
       "      <th>1473</th>\n",
       "      <td>2017</td>\n",
       "      <td>3.01</td>\n",
       "    </tr>\n",
       "    <tr>\n",
       "      <th>1410</th>\n",
       "      <td>2018</td>\n",
       "      <td>NaN</td>\n",
       "    </tr>\n",
       "  </tbody>\n",
       "</table>\n",
       "</div>"
      ],
      "text/plain": [
       "      Year  JHU_PCT\n",
       "1603  2014     3.51\n",
       "1548  2015     3.49\n",
       "1503  2016     3.49\n",
       "1473  2017     3.01\n",
       "1410  2018      NaN"
      ]
     },
     "execution_count": 201,
     "metadata": {},
     "output_type": "execute_result"
    }
   ],
   "source": [
    "# Then make a jhu2 dataframe with only two columns needed. WE don't need other columns.\n",
    "# Also change the column name from \"PCT_CHANGE\" to \"JHU_PCT\"  in preparation for the merge\n",
    "\n",
    "JHU2_df=JHU_df[['Year','PCT_CHANGE']]\n",
    "JHU2_df.rename(columns={'PCT_CHANGE':'JHU_PCT'}, inplace=True)\n",
    "JHU2_df.tail()"
   ]
  },
  {
   "cell_type": "code",
   "execution_count": 203,
   "metadata": {},
   "outputs": [
    {
     "data": {
      "text/html": [
       "<div>\n",
       "<style scoped>\n",
       "    .dataframe tbody tr th:only-of-type {\n",
       "        vertical-align: middle;\n",
       "    }\n",
       "\n",
       "    .dataframe tbody tr th {\n",
       "        vertical-align: top;\n",
       "    }\n",
       "\n",
       "    .dataframe thead th {\n",
       "        text-align: right;\n",
       "    }\n",
       "</style>\n",
       "<table border=\"1\" class=\"dataframe\">\n",
       "  <thead>\n",
       "    <tr style=\"text-align: right;\">\n",
       "      <th></th>\n",
       "      <th>Year</th>\n",
       "      <th>UMBC_PCT</th>\n",
       "      <th>JHU_PCT</th>\n",
       "    </tr>\n",
       "  </thead>\n",
       "  <tbody>\n",
       "    <tr>\n",
       "      <th>0</th>\n",
       "      <td>1996</td>\n",
       "      <td>NaN</td>\n",
       "      <td>NaN</td>\n",
       "    </tr>\n",
       "    <tr>\n",
       "      <th>1</th>\n",
       "      <td>1997</td>\n",
       "      <td>NaN</td>\n",
       "      <td>NaN</td>\n",
       "    </tr>\n",
       "    <tr>\n",
       "      <th>2</th>\n",
       "      <td>1998</td>\n",
       "      <td>NaN</td>\n",
       "      <td>NaN</td>\n",
       "    </tr>\n",
       "    <tr>\n",
       "      <th>3</th>\n",
       "      <td>1999</td>\n",
       "      <td>NaN</td>\n",
       "      <td>NaN</td>\n",
       "    </tr>\n",
       "    <tr>\n",
       "      <th>4</th>\n",
       "      <td>2000</td>\n",
       "      <td>7.65</td>\n",
       "      <td>5.13</td>\n",
       "    </tr>\n",
       "    <tr>\n",
       "      <th>5</th>\n",
       "      <td>2001</td>\n",
       "      <td>7.65</td>\n",
       "      <td>4.50</td>\n",
       "    </tr>\n",
       "    <tr>\n",
       "      <th>6</th>\n",
       "      <td>2002</td>\n",
       "      <td>16.13</td>\n",
       "      <td>4.89</td>\n",
       "    </tr>\n",
       "    <tr>\n",
       "      <th>7</th>\n",
       "      <td>2003</td>\n",
       "      <td>8.55</td>\n",
       "      <td>4.91</td>\n",
       "    </tr>\n",
       "    <tr>\n",
       "      <th>8</th>\n",
       "      <td>2004</td>\n",
       "      <td>6.23</td>\n",
       "      <td>4.91</td>\n",
       "    </tr>\n",
       "    <tr>\n",
       "      <th>9</th>\n",
       "      <td>2005</td>\n",
       "      <td>1.20</td>\n",
       "      <td>7.21</td>\n",
       "    </tr>\n",
       "    <tr>\n",
       "      <th>10</th>\n",
       "      <td>2006</td>\n",
       "      <td>1.00</td>\n",
       "      <td>5.90</td>\n",
       "    </tr>\n",
       "    <tr>\n",
       "      <th>11</th>\n",
       "      <td>2007</td>\n",
       "      <td>0.83</td>\n",
       "      <td>5.01</td>\n",
       "    </tr>\n",
       "    <tr>\n",
       "      <th>12</th>\n",
       "      <td>2008</td>\n",
       "      <td>1.05</td>\n",
       "      <td>3.85</td>\n",
       "    </tr>\n",
       "    <tr>\n",
       "      <th>13</th>\n",
       "      <td>2009</td>\n",
       "      <td>3.37</td>\n",
       "      <td>3.91</td>\n",
       "    </tr>\n",
       "    <tr>\n",
       "      <th>14</th>\n",
       "      <td>2010</td>\n",
       "      <td>3.23</td>\n",
       "      <td>3.93</td>\n",
       "    </tr>\n",
       "    <tr>\n",
       "      <th>15</th>\n",
       "      <td>2011</td>\n",
       "      <td>3.14</td>\n",
       "      <td>2.63</td>\n",
       "    </tr>\n",
       "    <tr>\n",
       "      <th>16</th>\n",
       "      <td>2012</td>\n",
       "      <td>3.11</td>\n",
       "      <td>4.79</td>\n",
       "    </tr>\n",
       "    <tr>\n",
       "      <th>17</th>\n",
       "      <td>2013</td>\n",
       "      <td>3.14</td>\n",
       "      <td>3.50</td>\n",
       "    </tr>\n",
       "    <tr>\n",
       "      <th>18</th>\n",
       "      <td>2014</td>\n",
       "      <td>5.99</td>\n",
       "      <td>3.51</td>\n",
       "    </tr>\n",
       "    <tr>\n",
       "      <th>19</th>\n",
       "      <td>2015</td>\n",
       "      <td>2.34</td>\n",
       "      <td>3.49</td>\n",
       "    </tr>\n",
       "    <tr>\n",
       "      <th>20</th>\n",
       "      <td>2016</td>\n",
       "      <td>2.25</td>\n",
       "      <td>3.49</td>\n",
       "    </tr>\n",
       "    <tr>\n",
       "      <th>21</th>\n",
       "      <td>2017</td>\n",
       "      <td>2.26</td>\n",
       "      <td>3.01</td>\n",
       "    </tr>\n",
       "    <tr>\n",
       "      <th>22</th>\n",
       "      <td>2018</td>\n",
       "      <td>NaN</td>\n",
       "      <td>NaN</td>\n",
       "    </tr>\n",
       "  </tbody>\n",
       "</table>\n",
       "</div>"
      ],
      "text/plain": [
       "    Year  UMBC_PCT  JHU_PCT\n",
       "0   1996       NaN      NaN\n",
       "1   1997       NaN      NaN\n",
       "2   1998       NaN      NaN\n",
       "3   1999       NaN      NaN\n",
       "4   2000      7.65     5.13\n",
       "5   2001      7.65     4.50\n",
       "6   2002     16.13     4.89\n",
       "7   2003      8.55     4.91\n",
       "8   2004      6.23     4.91\n",
       "9   2005      1.20     7.21\n",
       "10  2006      1.00     5.90\n",
       "11  2007      0.83     5.01\n",
       "12  2008      1.05     3.85\n",
       "13  2009      3.37     3.91\n",
       "14  2010      3.23     3.93\n",
       "15  2011      3.14     2.63\n",
       "16  2012      3.11     4.79\n",
       "17  2013      3.14     3.50\n",
       "18  2014      5.99     3.51\n",
       "19  2015      2.34     3.49\n",
       "20  2016      2.25     3.49\n",
       "21  2017      2.26     3.01\n",
       "22  2018       NaN      NaN"
      ]
     },
     "execution_count": 203,
     "metadata": {},
     "output_type": "execute_result"
    }
   ],
   "source": [
    "# Now, merger the two data frames\n",
    "# and display the new dataframe\n",
    "\n",
    "UMBC_JHU_df=pd.merge(UMBC2_df,JHU2_df,on='Year')\n",
    "UMBC_JHU_df"
   ]
  },
  {
   "cell_type": "code",
   "execution_count": 218,
   "metadata": {},
   "outputs": [
    {
     "data": {
      "text/plain": [
       "Text(0, 0.5, 'Tuition Growth Rate (%)')"
      ]
     },
     "execution_count": 218,
     "metadata": {},
     "output_type": "execute_result"
    },
    {
     "data": {
      "image/png": "[encoded data removed]",
      "text/plain": [
       "<Figure size 1008x432 with 1 Axes>"
      ]
     },
     "metadata": {
      "needs_background": "light"
     },
     "output_type": "display_data"
    }
   ],
   "source": [
    "# Plot UMBC and JHU separately on the same plot \n",
    "# However, this does not work since the bars overlap.\n",
    "\n",
    "x_list=UMBC_JHU_df.Year.apply(str).tolist()\n",
    "\n",
    "fig, ax = plt.subplots(figsize=(14,6))\n",
    "\n",
    "ax.bar(x_list,UMBC_JHU_df.UMBC_PCT,color='b')\n",
    "ax.bar(x_list,UMBC_JHU_df.JHU_PCT,color='r')\n",
    "ax.set_title(\"Bar Chart of UMBC/JHU Tuition Growth Rate\")\n",
    "ax.set_xlabel(\"Academic Year\")\n",
    "ax.set_ylabel(\"Tuition Growth Rate (%)\")\n",
    "\n",
    "# As predicted, this does not work!"
   ]
  },
  {
   "cell_type": "code",
   "execution_count": 228,
   "metadata": {},
   "outputs": [
    {
     "data": {
      "text/plain": [
       "Text(0, 0.5, 'Rate of Tuition Growth (%)')"
      ]
     },
     "execution_count": 228,
     "metadata": {},
     "output_type": "execute_result"
    },
    {
     "data": {
      "image/png": "[encoded data removed]",
      "text/plain": [
       "<Figure size 1080x504 with 1 Axes>"
      ]
     },
     "metadata": {
      "needs_background": "light"
     },
     "output_type": "display_data"
    }
   ],
   "source": [
    "# Plot them together using y=[\"UMBC_PCT\",\"JHU_PCT\"] option of bar plot\n",
    "\n",
    "UMBC_JHU_df.plot.bar('Year',y=['UMBC_PCT','JHU_PCT'], figsize=(15,7), \n",
    "                     title='Bar Chart of UMBC/JHU Tuition Growth Rate')\n",
    "plt.xlabel('Academic Year')\n",
    "plt.ylabel('Rate of Tuition Growth (%)')"
   ]
  },
  {
   "cell_type": "code",
   "execution_count": 229,
   "metadata": {},
   "outputs": [
    {
     "data": {
      "text/plain": [
       "Text(0, 0.5, 'Rate of Tuition Growth (%)')"
      ]
     },
     "execution_count": 229,
     "metadata": {},
     "output_type": "execute_result"
    },
    {
     "data": {
      "image/png": "[encoded data removed]",
      "text/plain": [
       "<Figure size 1080x504 with 1 Axes>"
      ]
     },
     "metadata": {
      "needs_background": "light"
     },
     "output_type": "display_data"
    }
   ],
   "source": [
    "# Plot them together using y=[\"UMBC_PCT\",\"JHU_PCT\"] option of line plot\n",
    "\n",
    "UMBC_JHU_df.plot('Year',y=['UMBC_PCT','JHU_PCT'], figsize=(15,7), \n",
    "                     title='Line Chart of UMBC/JHU Tuition Growth Rate')\n",
    "plt.xlabel('Academic Year')\n",
    "plt.ylabel('Rate of Tuition Growth (%)')"
   ]
  },
  {
   "cell_type": "markdown",
   "metadata": {},
   "source": [
    "## Section 19"
   ]
  },
  {
   "cell_type": "code",
   "execution_count": null,
   "metadata": {},
   "outputs": [],
   "source": [
    "# <19> \n",
    "# document your observation/conclusion of the comparison plots (bar/line)\n",
    "# use the following Markdown cell\n"
   ]
  },
  {
   "cell_type": "markdown",
   "metadata": {},
   "source": [
    "The following conclusions can be drawn from the above charts:\n",
    "\n",
    "  1. Both the bar charts and the line charts of the in-state tuition for both UMBC and JHU show a *steady growth*        over the period 1996-2019. \n",
    "  \n",
    "  \n",
    "  2. The rate of the in-state tuition growth in the two schools are however different. \n",
    "  \n",
    "     2.1. The rate of growth in in-state tuition at UMBC experiences a steep increase from 2001 to 2002 (16%     incearse). However, through 2002-2005 the rate of growth in UMBC in-state tuition drops by about 15%. Through      2005 to 2007, the rate of the in-state tuition growth at UMBC approximately stays constant. From 2007 to 2009      the rate of the growth at UMBC experiences an increase by about 2%. From 2009 to 2013, the rate of the growth      at UMBC stays constant, and after a slight increase around 2013 and about the same amount decrease in 2015,  \n",
    "     the rate of the in-state tuition at UMBC has stayed constant up to date.\n",
    "     \n",
    "     2.2. The rate of in-state tuition growth at JHU has been roughly a constant till 2004. From 2004 to 2005, the  rate of tuition growth experiences an increase by about 2 percent, but then the rate of the growth decreases by about the same value till 2007. Since 2007, the rate of the in-state tuition growth at JHU has fluctuated by small amounts, but overall the rate of the in-state tuition growth has been more stable than UMBC.  \n",
    "    \n",
    "  \n",
    "  3. Although the rate of the growth in tuition at JHU has been more stable than UMBC, it is worth noticing that the tuitions at JHU are considerably higher than the tuitions at UMBC. For instance, the in-state tuition at UMBC in the year 2018-2019 academic year has been close to 12000 USD. However, the in-state tuition at JHU during the same academic year has exceeded 50000 USD. This means that higher education at JHU during the year 2018-2019 has been 4 times more expensive than higher education at UMBC during the same academic year. "
   ]
  },
  {
   "cell_type": "code",
   "execution_count": null,
   "metadata": {},
   "outputs": [],
   "source": []
  }
 ],
 "metadata": {
  "kernelspec": {
   "display_name": "Python 3",
   "language": "python",
   "name": "python3"
  },
  "language_info": {
   "codemirror_mode": {
    "name": "ipython",
    "version": 3
   },
   "file_extension": ".py",
   "mimetype": "text/x-python",
   "name": "python",
   "nbconvert_exporter": "python",
   "pygments_lexer": "ipython3",
   "version": "3.7.2"
  }
 },
 "nbformat": 4,
 "nbformat_minor": 2
}
