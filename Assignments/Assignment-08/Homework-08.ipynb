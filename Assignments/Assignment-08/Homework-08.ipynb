{
 "cells": [
  {
   "cell_type": "markdown",
   "metadata": {},
   "source": [
    "# Assignment 8\n",
    "\n",
    "For this assignment , we will use the college scorecard dataset. \n",
    "<pre>\n",
    "From the 22 individual school year data files, randomly (using Python) select one file. \n",
    "Only read the column \"TUITIONFEE_IN\" frm this file into a data frame.\n",
    "Find out how many observations this data frame has.\n",
    "Find out how many observations that have missing value. Drop those observations.\n",
    "Find out how many observations that have value of zero. Drop those observations.\n",
    "Calculate the mean of the tuition.\n",
    "Randomly select one observation, find out the tuition of that observation.\n",
    "Calculate the different between the tuition of this observation and the average tuition (mean) off all observations above.\n",
    "Randomly select another observation and repeat the above.\n",
    "Randomly select another observation and repeat the above.\n",
    "Randomly select 5 observations, display the tuition of these observation.\n",
    "Calculate the average of these 5 observations\n",
    "Calculate the different between the average tuition of thes 5 observations and the average tuition (mean) off all observations above.\n",
    "Randomly select another 5 observations and repeat the above.\n",
    "Randomly select another 5 observation and repeat the above.\n",
    "\n",
    "Randomly select 10 observations, display the tuition of these observation.\n",
    "Calculate the average of these 10 observations\n",
    "Calculate the different between the average tuition of thes 10 observations and the average tuition (mean) off all observations above.\n",
    "Randomly select another 10 observations and repeat the above.\n",
    "Randomly select another 10 observation and repeat the above.\n"
   ]
  },
  {
   "cell_type": "markdown",
   "metadata": {},
   "source": [
    "## Section 1"
   ]
  },
  {
   "cell_type": "code",
   "execution_count": 1,
   "metadata": {},
   "outputs": [],
   "source": [
    "# 1 - Import necessary libraries\n",
    "\n",
    "import os\n",
    "import random\n",
    "import numpy as np\n",
    "import pandas as pd\n",
    "import matplotlib.pyplot as plt\n",
    "%matplotlib inline\n",
    "import seaborn as sns"
   ]
  },
  {
   "cell_type": "markdown",
   "metadata": {},
   "source": [
    "## Section 2"
   ]
  },
  {
   "cell_type": "code",
   "execution_count": 2,
   "metadata": {},
   "outputs": [
    {
     "data": {
      "text/plain": [
       "['MERGED2011_12_PP.csv',\n",
       " 'MERGED1999_00_PP.csv',\n",
       " 'MERGED2006_07_PP.csv',\n",
       " 'MERGED2014_15_PP.csv',\n",
       " 'MERGED2003_04_PP.csv',\n",
       " 'MERGED1996_97_PP.csv',\n",
       " 'MERGED2012_13_PP.csv',\n",
       " 'MERGED2005_06_PP.csv',\n",
       " 'MERGED2009_10_PP.csv',\n",
       " 'MERGED2018_19_PP.csv',\n",
       " 'MERGED2017_18_PP.csv',\n",
       " 'MERGED2000_01_PP.csv',\n",
       " 'MERGED2001_02_PP.csv',\n",
       " 'MERGED2016_17_PP.csv',\n",
       " 'MERGED1997_98_PP.csv',\n",
       " 'MERGED1998_99_PP.csv',\n",
       " 'MERGED2004_05_PP.csv',\n",
       " 'MERGED2002_03_PP.csv',\n",
       " 'MERGED2015_16_PP.csv',\n",
       " 'MERGED2013_14_PP.csv',\n",
       " 'MERGED2007_08_PP.csv',\n",
       " 'MERGED2008_09_PP.csv',\n",
       " 'MERGED2010_11_PP.csv']"
      ]
     },
     "execution_count": 2,
     "metadata": {},
     "output_type": "execute_result"
    }
   ],
   "source": [
    "# 2 - Retrieve the names of the 22 files and assign them to a List variable\n",
    "# You would need to filter out other files\n",
    "# Display the names of these 22 files\n",
    "\n",
    "path='/Users/masoud/Documents/CollegeScorecard_Raw_Data/'\n",
    "file_names=os.listdir(path)\n",
    "cleansed_file_names=[k for k in file_names if k.find('MERGED') != -1]\n",
    "cleansed_file_names"
   ]
  },
  {
   "cell_type": "markdown",
   "metadata": {},
   "source": [
    "## Section 3"
   ]
  },
  {
   "cell_type": "code",
   "execution_count": 4,
   "metadata": {},
   "outputs": [
    {
     "name": "stdout",
     "output_type": "stream",
     "text": [
      "Total number of files = 23\n",
      "The name of the randomly chosen file is  MERGED2003_04_PP.csv\n"
     ]
    }
   ],
   "source": [
    "# 3 - Write code to randomly select one file name out of the 22 files names. \n",
    "# Hint: generate a random integer between 0 and 21 first\n",
    "# Display the file name\n",
    "\n",
    "print('Total number of files =',len(cleansed_file_names))\n",
    "\n",
    "file_name = cleansed_file_names[random.randint(0,22)]\n",
    "\n",
    "print('The name of the randomly chosen file is ',file_name)"
   ]
  },
  {
   "cell_type": "markdown",
   "metadata": {},
   "source": [
    "## Section 4"
   ]
  },
  {
   "cell_type": "code",
   "execution_count": 5,
   "metadata": {},
   "outputs": [
    {
     "name": "stdout",
     "output_type": "stream",
     "text": [
      "<class 'pandas.core.frame.DataFrame'>\n",
      "RangeIndex: 6673 entries, 0 to 6672\n",
      "Data columns (total 2 columns):\n",
      " #   Column         Non-Null Count  Dtype  \n",
      "---  ------         --------------  -----  \n",
      " 0   INSTNM         6673 non-null   object \n",
      " 1   TUITIONFEE_IN  4149 non-null   float64\n",
      "dtypes: float64(1), object(1)\n",
      "memory usage: 104.4+ KB\n"
     ]
    }
   ],
   "source": [
    "# 4 - Only read the two columns: college name (INSTNM) and in state tution (\"TUITIONFEE_IN\")\n",
    "# from this file into a data frame aand display use info() function to display a summary information\n",
    "\n",
    "cols = ['INSTNM','TUITIONFEE_IN']\n",
    "df=pd.read_csv(path+file_name, usecols=cols)\n",
    "\n",
    "df.info()"
   ]
  },
  {
   "cell_type": "markdown",
   "metadata": {},
   "source": [
    "## Section 5"
   ]
  },
  {
   "cell_type": "code",
   "execution_count": 6,
   "metadata": {},
   "outputs": [
    {
     "data": {
      "text/html": [
       "<div>\n",
       "<style scoped>\n",
       "    .dataframe tbody tr th:only-of-type {\n",
       "        vertical-align: middle;\n",
       "    }\n",
       "\n",
       "    .dataframe tbody tr th {\n",
       "        vertical-align: top;\n",
       "    }\n",
       "\n",
       "    .dataframe thead th {\n",
       "        text-align: right;\n",
       "    }\n",
       "</style>\n",
       "<table border=\"1\" class=\"dataframe\">\n",
       "  <thead>\n",
       "    <tr style=\"text-align: right;\">\n",
       "      <th></th>\n",
       "      <th>INSTNM</th>\n",
       "      <th>TUITIONFEE_IN</th>\n",
       "    </tr>\n",
       "  </thead>\n",
       "  <tbody>\n",
       "  </tbody>\n",
       "</table>\n",
       "</div>"
      ],
      "text/plain": [
       "Empty DataFrame\n",
       "Columns: [INSTNM, TUITIONFEE_IN]\n",
       "Index: []"
      ]
     },
     "execution_count": 6,
     "metadata": {},
     "output_type": "execute_result"
    }
   ],
   "source": [
    "# 5 - Find out how many observations have missing value.\n",
    "\n",
    "df[df.INSTNM.isna()==True]"
   ]
  },
  {
   "cell_type": "code",
   "execution_count": 7,
   "metadata": {},
   "outputs": [
    {
     "data": {
      "text/html": [
       "<div>\n",
       "<style scoped>\n",
       "    .dataframe tbody tr th:only-of-type {\n",
       "        vertical-align: middle;\n",
       "    }\n",
       "\n",
       "    .dataframe tbody tr th {\n",
       "        vertical-align: top;\n",
       "    }\n",
       "\n",
       "    .dataframe thead th {\n",
       "        text-align: right;\n",
       "    }\n",
       "</style>\n",
       "<table border=\"1\" class=\"dataframe\">\n",
       "  <thead>\n",
       "    <tr style=\"text-align: right;\">\n",
       "      <th></th>\n",
       "      <th>INSTNM</th>\n",
       "      <th>TUITIONFEE_IN</th>\n",
       "    </tr>\n",
       "  </thead>\n",
       "  <tbody>\n",
       "    <tr>\n",
       "      <th>0</th>\n",
       "      <td>Community College of the Air Force</td>\n",
       "      <td>NaN</td>\n",
       "    </tr>\n",
       "    <tr>\n",
       "      <th>8</th>\n",
       "      <td>Athens State University</td>\n",
       "      <td>NaN</td>\n",
       "    </tr>\n",
       "    <tr>\n",
       "      <th>25</th>\n",
       "      <td>GADSDEN BUSINESS COLLEGE-ANNISTON</td>\n",
       "      <td>NaN</td>\n",
       "    </tr>\n",
       "    <tr>\n",
       "      <th>67</th>\n",
       "      <td>TROY STATE UNIVERSITY-PHENIX CITY</td>\n",
       "      <td>NaN</td>\n",
       "    </tr>\n",
       "    <tr>\n",
       "      <th>71</th>\n",
       "      <td>United States Sports Academy</td>\n",
       "      <td>NaN</td>\n",
       "    </tr>\n",
       "    <tr>\n",
       "      <th>...</th>\n",
       "      <td>...</td>\n",
       "      <td>...</td>\n",
       "    </tr>\n",
       "    <tr>\n",
       "      <th>6666</th>\n",
       "      <td>Altierus Career College-Tacoma</td>\n",
       "      <td>NaN</td>\n",
       "    </tr>\n",
       "    <tr>\n",
       "      <th>6667</th>\n",
       "      <td>DeVry University-Oregon</td>\n",
       "      <td>NaN</td>\n",
       "    </tr>\n",
       "    <tr>\n",
       "      <th>6669</th>\n",
       "      <td>Creative Images Institute of Cosmetology-South...</td>\n",
       "      <td>NaN</td>\n",
       "    </tr>\n",
       "    <tr>\n",
       "      <th>6671</th>\n",
       "      <td>Fortis Institute-Jacksonville</td>\n",
       "      <td>NaN</td>\n",
       "    </tr>\n",
       "    <tr>\n",
       "      <th>6672</th>\n",
       "      <td>Brookline College-Albuquerque</td>\n",
       "      <td>NaN</td>\n",
       "    </tr>\n",
       "  </tbody>\n",
       "</table>\n",
       "<p>2524 rows × 2 columns</p>\n",
       "</div>"
      ],
      "text/plain": [
       "                                                 INSTNM  TUITIONFEE_IN\n",
       "0                    Community College of the Air Force            NaN\n",
       "8                               Athens State University            NaN\n",
       "25                    GADSDEN BUSINESS COLLEGE-ANNISTON            NaN\n",
       "67                    TROY STATE UNIVERSITY-PHENIX CITY            NaN\n",
       "71                         United States Sports Academy            NaN\n",
       "...                                                 ...            ...\n",
       "6666                     Altierus Career College-Tacoma            NaN\n",
       "6667                            DeVry University-Oregon            NaN\n",
       "6669  Creative Images Institute of Cosmetology-South...            NaN\n",
       "6671                      Fortis Institute-Jacksonville            NaN\n",
       "6672                      Brookline College-Albuquerque            NaN\n",
       "\n",
       "[2524 rows x 2 columns]"
      ]
     },
     "execution_count": 7,
     "metadata": {},
     "output_type": "execute_result"
    }
   ],
   "source": [
    "df[df.TUITIONFEE_IN.isna()==True]"
   ]
  },
  {
   "cell_type": "code",
   "execution_count": 8,
   "metadata": {},
   "outputs": [
    {
     "name": "stdout",
     "output_type": "stream",
     "text": [
      "The total number of rows with a missing value is 2524\n"
     ]
    }
   ],
   "source": [
    "print('The total number of rows with a missing value is', len(df[df.TUITIONFEE_IN.isna()==True]))"
   ]
  },
  {
   "cell_type": "markdown",
   "metadata": {},
   "source": [
    "## Section 6"
   ]
  },
  {
   "cell_type": "code",
   "execution_count": 9,
   "metadata": {},
   "outputs": [
    {
     "data": {
      "text/plain": [
       "(4149, 2)"
      ]
     },
     "execution_count": 9,
     "metadata": {},
     "output_type": "execute_result"
    }
   ],
   "source": [
    "# 6 - Drop those observations with missing value\n",
    "# Disaply the number of observations afterward\n",
    "\n",
    "df.dropna(axis=0, inplace=True)\n",
    "df.shape"
   ]
  },
  {
   "cell_type": "markdown",
   "metadata": {},
   "source": [
    "## Section 7"
   ]
  },
  {
   "cell_type": "code",
   "execution_count": 10,
   "metadata": {},
   "outputs": [
    {
     "data": {
      "text/html": [
       "<div>\n",
       "<style scoped>\n",
       "    .dataframe tbody tr th:only-of-type {\n",
       "        vertical-align: middle;\n",
       "    }\n",
       "\n",
       "    .dataframe tbody tr th {\n",
       "        vertical-align: top;\n",
       "    }\n",
       "\n",
       "    .dataframe thead th {\n",
       "        text-align: right;\n",
       "    }\n",
       "</style>\n",
       "<table border=\"1\" class=\"dataframe\">\n",
       "  <thead>\n",
       "    <tr style=\"text-align: right;\">\n",
       "      <th></th>\n",
       "      <th>INSTNM</th>\n",
       "      <th>TUITIONFEE_IN</th>\n",
       "    </tr>\n",
       "  </thead>\n",
       "  <tbody>\n",
       "    <tr>\n",
       "      <th>448</th>\n",
       "      <td>Harbor-UCLA Medical Center</td>\n",
       "      <td>0.0</td>\n",
       "    </tr>\n",
       "    <tr>\n",
       "      <th>721</th>\n",
       "      <td>United States Air Force Academy</td>\n",
       "      <td>0.0</td>\n",
       "    </tr>\n",
       "    <tr>\n",
       "      <th>1899</th>\n",
       "      <td>United States Naval Academy</td>\n",
       "      <td>0.0</td>\n",
       "    </tr>\n",
       "    <tr>\n",
       "      <th>2474</th>\n",
       "      <td>Benefis Healthcare School of Radiologic Techno...</td>\n",
       "      <td>0.0</td>\n",
       "    </tr>\n",
       "    <tr>\n",
       "      <th>3042</th>\n",
       "      <td>United States Merchant Marine Academy</td>\n",
       "      <td>0.0</td>\n",
       "    </tr>\n",
       "    <tr>\n",
       "      <th>3043</th>\n",
       "      <td>United States Military Academy</td>\n",
       "      <td>0.0</td>\n",
       "    </tr>\n",
       "    <tr>\n",
       "      <th>3050</th>\n",
       "      <td>Webb Institute</td>\n",
       "      <td>0.0</td>\n",
       "    </tr>\n",
       "    <tr>\n",
       "      <th>5815</th>\n",
       "      <td>Charles H McCann Technical School</td>\n",
       "      <td>0.0</td>\n",
       "    </tr>\n",
       "  </tbody>\n",
       "</table>\n",
       "</div>"
      ],
      "text/plain": [
       "                                                 INSTNM  TUITIONFEE_IN\n",
       "448                          Harbor-UCLA Medical Center            0.0\n",
       "721                     United States Air Force Academy            0.0\n",
       "1899                        United States Naval Academy            0.0\n",
       "2474  Benefis Healthcare School of Radiologic Techno...            0.0\n",
       "3042              United States Merchant Marine Academy            0.0\n",
       "3043                     United States Military Academy            0.0\n",
       "3050                                     Webb Institute            0.0\n",
       "5815                  Charles H McCann Technical School            0.0"
      ]
     },
     "execution_count": 10,
     "metadata": {},
     "output_type": "execute_result"
    }
   ],
   "source": [
    "# 7 - Find out how many observations have 0 tution. \n",
    "\n",
    "df[df.TUITIONFEE_IN==0]"
   ]
  },
  {
   "cell_type": "code",
   "execution_count": 11,
   "metadata": {},
   "outputs": [
    {
     "name": "stdout",
     "output_type": "stream",
     "text": [
      "The total number of observations with 0 tuition is 8\n"
     ]
    }
   ],
   "source": [
    "print('The total number of observations with 0 tuition is', len(df[df.TUITIONFEE_IN==0]))"
   ]
  },
  {
   "cell_type": "markdown",
   "metadata": {},
   "source": [
    "## Section 8"
   ]
  },
  {
   "cell_type": "code",
   "execution_count": 12,
   "metadata": {},
   "outputs": [
    {
     "name": "stdout",
     "output_type": "stream",
     "text": [
      "The total number of observation after droping 0 tuition is 4141\n"
     ]
    }
   ],
   "source": [
    "# 8 - Drop those observations with 0 tuition\n",
    "# Disaply the number of observations afterward\n",
    "\n",
    "df=df[df.TUITIONFEE_IN != 0]\n",
    "\n",
    "print('The total number of observation after droping 0 tuition is',df.shape[0])"
   ]
  },
  {
   "cell_type": "markdown",
   "metadata": {},
   "source": [
    "## Section 9"
   ]
  },
  {
   "cell_type": "code",
   "execution_count": 13,
   "metadata": {},
   "outputs": [
    {
     "name": "stdout",
     "output_type": "stream",
     "text": [
      "The average tuition of colleges is 8397.23 dollars\n"
     ]
    }
   ],
   "source": [
    "# 9 - Calculate and display the mean (average) of the tuitions of all the remaining observations \n",
    "\n",
    "average_tuition = df.TUITIONFEE_IN.mean()\n",
    "\n",
    "print('The average tuition of colleges is', round(average_tuition,2), 'dollars')"
   ]
  },
  {
   "cell_type": "markdown",
   "metadata": {},
   "source": [
    "## Section 10"
   ]
  },
  {
   "cell_type": "code",
   "execution_count": 14,
   "metadata": {},
   "outputs": [],
   "source": [
    "# 10 - Randomly select just 1 observation from the data frame.\n",
    "# Display the tuition of that observation. \n",
    "\n",
    "df.insert(0,'Index',range(1,len(df)+1))\n",
    "df.set_index('Index', inplace=True)"
   ]
  },
  {
   "cell_type": "code",
   "execution_count": 15,
   "metadata": {},
   "outputs": [
    {
     "data": {
      "text/plain": [
       "INSTNM           Aiken Technical College\n",
       "TUITIONFEE_IN                       2600\n",
       "Name: 2803, dtype: object"
      ]
     },
     "execution_count": 15,
     "metadata": {},
     "output_type": "execute_result"
    }
   ],
   "source": [
    "random_obs = df.iloc[random.randint(1,len(df))]\n",
    "random_obs"
   ]
  },
  {
   "cell_type": "markdown",
   "metadata": {},
   "source": [
    "## Section 11"
   ]
  },
  {
   "cell_type": "code",
   "execution_count": 16,
   "metadata": {},
   "outputs": [
    {
     "name": "stdout",
     "output_type": "stream",
     "text": [
      "Tuition difference between Aiken Technical College and the mean is -5797.23 dollars\n"
     ]
    }
   ],
   "source": [
    "# 11 - Calculate the different between the tuition of this observation and \n",
    "# the mean tuition off all observations calculated earlier.\n",
    "# Display the difference\n",
    "\n",
    "difference = random_obs[1] - average_tuition\n",
    "print('Tuition difference between {} and the mean is'.\n",
    "      format(random_obs[0]),round(difference,2),'dollars')"
   ]
  },
  {
   "cell_type": "markdown",
   "metadata": {},
   "source": [
    "## Section 12"
   ]
  },
  {
   "cell_type": "code",
   "execution_count": 17,
   "metadata": {},
   "outputs": [
    {
     "name": "stdout",
     "output_type": "stream",
     "text": [
      "Tuition difference between Bloomsburg University of Pennsylvania and the mean is -2553.23 dollars\n",
      "Tuition difference between Ralph R Willis Career and Technical Center and the mean is -7047.23 dollars\n",
      "Tuition difference between Texas State Technical College-Marshall and the mean is -5211.23 dollars\n",
      "Tuition difference between Ozarka College and the mean is -6412.23 dollars\n",
      "Tuition difference between Santiago Canyon College and the mean is -7965.23 dollars\n"
     ]
    }
   ],
   "source": [
    "# 12 - Repeat 10 to 11 several times get the feel of the size of the difference in means\n",
    "\n",
    "for i in range(1,6):\n",
    "    random_obs = df.iloc[random.randint(1,len(df))]\n",
    "    difference = random_obs[1] - average_tuition\n",
    "    print('Tuition difference between {} and the mean is'.\n",
    "      format(random_obs[0]),round(difference,2),'dollars')"
   ]
  },
  {
   "cell_type": "markdown",
   "metadata": {},
   "source": [
    "## Section 13"
   ]
  },
  {
   "cell_type": "code",
   "execution_count": 18,
   "metadata": {},
   "outputs": [
    {
     "data": {
      "text/plain": [
       "[['Neosho County Community College', 1760.0],\n",
       " ['Holy Name Medical Center-Sister Claire Tynan School of Nursing', 10850.0],\n",
       " ['Lake Superior State University', 5454.0],\n",
       " ['Durham Technical Community College', 1136.0],\n",
       " ['Millersville University of Pennsylvania', 5819.0],\n",
       " ['Olean Business Institute', 8000.0],\n",
       " ['Gainesville State College', 1556.0],\n",
       " ['Kapiolani Community College', 1140.0],\n",
       " ['University of Phoenix-Philadelphia Campus', 11400.0],\n",
       " ['DeVry University-Colorado', 10590.0],\n",
       " ['Missouri College', 10045.0],\n",
       " ['Cottey College', 10000.0],\n",
       " ['Harrison College-Anderson', 8025.0],\n",
       " ['College of Southern Idaho', 1650.0],\n",
       " ['New Hope Christian College-Eugene', 7506.0],\n",
       " ['Heartland Community College', 1650.0],\n",
       " ['Southeastern Baptist Theological Seminary', 3620.0],\n",
       " ['Holy Family University', 15490.0],\n",
       " [\"Tohono O'odham Community College\", 1008.0],\n",
       " ['University of California-Irvine', 6165.0]]"
      ]
     },
     "execution_count": 18,
     "metadata": {},
     "output_type": "execute_result"
    }
   ],
   "source": [
    "# 13 - Randomly select 20 observations, display the tuition of these observation. \n",
    "\n",
    "random_list = random.sample(range(1,len(df)),20)\n",
    "\n",
    "random_sample=[[df.iloc[i][0],df.iloc[i][1]] for i in random_list]\n",
    "random_sample"
   ]
  },
  {
   "cell_type": "markdown",
   "metadata": {},
   "source": [
    "## Section 14"
   ]
  },
  {
   "cell_type": "code",
   "execution_count": 19,
   "metadata": {},
   "outputs": [
    {
     "name": "stdout",
     "output_type": "stream",
     "text": [
      "The mean tuition of the sample is 6143.2 dollars\n"
     ]
    }
   ],
   "source": [
    "# 14 - Calculate and display the mean tuition of these 20 observations\n",
    "\n",
    "sample_ave_tuition = sum([random_sample[i][1] for i in range(20)])/20\n",
    "print('The mean tuition of the sample is',round(sample_ave_tuition,2),'dollars')"
   ]
  },
  {
   "cell_type": "markdown",
   "metadata": {},
   "source": [
    "## Section 15"
   ]
  },
  {
   "cell_type": "code",
   "execution_count": 20,
   "metadata": {},
   "outputs": [
    {
     "name": "stdout",
     "output_type": "stream",
     "text": [
      "Difference between the sample and the population means in tuition is -2254.03 dollars\n"
     ]
    }
   ],
   "source": [
    "# 15 - Calculate  the different between the average tuition of these 20 observations \n",
    "# and the mean tuition off all observations calculated earlier.\n",
    "# Display the difference\n",
    "\n",
    "diff_sample_pop = sample_ave_tuition - average_tuition\n",
    "print('Difference between the sample and the population means in tuition is',round(diff_sample_pop,2),'dollars')"
   ]
  },
  {
   "cell_type": "markdown",
   "metadata": {},
   "source": [
    "## Section 16"
   ]
  },
  {
   "cell_type": "code",
   "execution_count": 21,
   "metadata": {},
   "outputs": [
    {
     "name": "stdout",
     "output_type": "stream",
     "text": [
      "Difference between the sample and the population means in tuition is -1370.48 dollars\n",
      "Difference between the sample and the population means in tuition is -472.13 dollars\n",
      "Difference between the sample and the population means in tuition is 1439.12 dollars\n",
      "Difference between the sample and the population means in tuition is 1293.97 dollars\n",
      "Difference between the sample and the population means in tuition is 1621.32 dollars\n"
     ]
    }
   ],
   "source": [
    "# 16 - Repeat 13 to 15 several times and get the feel of the size of the difference in means \n",
    "# Compare these differences with the differences calculated earlier with just 1 observation\n",
    "# Describe your hunch/conclusion\n",
    "\n",
    "for k in range(1,6):\n",
    "    random_list = random.sample(range(1,len(df)),20)\n",
    "    random_sample=[df.iloc[i][1] for i in random_list]\n",
    "    sample_ave_tuition = sum([random_sample[i] for i in range(20)])/20\n",
    "    diff_sample_pop = sample_ave_tuition - average_tuition\n",
    "    print('Difference between the sample and the population means in tuition is',round(diff_sample_pop,2)\n",
    "          ,'dollars')"
   ]
  },
  {
   "cell_type": "markdown",
   "metadata": {},
   "source": [
    "## Section 17\n",
    "\n",
    "Write a function that take two input parameters:\n",
    "- x (number of observations) \n",
    "- y (the name of the dataframe). \n",
    "\n",
    "The function will perform the following: \n",
    "- Randomly select x observations from y\n",
    "- Calculate the mean of these x observations \n",
    "- Calculate the mean of all observations\n",
    "- Calculate the difference between the two means \n",
    "- Return the difference"
   ]
  },
  {
   "cell_type": "code",
   "execution_count": 22,
   "metadata": {},
   "outputs": [],
   "source": [
    "# 17 - write function Code here\n",
    "\n",
    "def difference(x,y):\n",
    "    average_tuition = y.TUITIONFEE_IN.mean()\n",
    "    random_list = random.sample(range(1,len(y)),x)\n",
    "    random_sample = [y.iloc[i][1] for i in random_list]\n",
    "    sample_ave_tuition = sum([random_sample[i] for i in range(x)])/x\n",
    "    diff_sample_pop = sample_ave_tuition - average_tuition\n",
    "    return diff_sample_pop"
   ]
  },
  {
   "cell_type": "markdown",
   "metadata": {},
   "source": [
    "## Section 18"
   ]
  },
  {
   "cell_type": "code",
   "execution_count": 23,
   "metadata": {},
   "outputs": [
    {
     "data": {
      "text/plain": [
       "-56.876032359332385"
      ]
     },
     "execution_count": 23,
     "metadata": {},
     "output_type": "execute_result"
    }
   ],
   "source": [
    "# 18 - test the function by passing a sample size and the name of the dataframe\n",
    "# Dsplay the return of the function\n",
    "\n",
    "difference(100,df)"
   ]
  },
  {
   "cell_type": "markdown",
   "metadata": {},
   "source": [
    "## Section 19"
   ]
  },
  {
   "cell_type": "code",
   "execution_count": 24,
   "metadata": {},
   "outputs": [
    {
     "name": "stdout",
     "output_type": "stream",
     "text": [
      "[1, 2, 3, 4, 5, 6, 7, 8, 9, 10, 11, 12, 13, 14, 15, 16, 17, 18, 19, 20, 21, 22, 23, 24, 25, 26, 27, 28, 29, 30, 31, 32, 33, 34, 35, 36, 37, 38, 39, 40, 41, 42, 43, 44, 45, 46, 47, 48, 49, 50]\n"
     ]
    }
   ],
   "source": [
    "# 19 - Create a list of sequence numbers from 1 to 50, name it \"sample_sizes\";\n",
    "# display it to make sure its members are from 1 to 50\n",
    "\n",
    "sample_sizes = [i for i in range(1,51)]\n",
    "print(sample_sizes)"
   ]
  },
  {
   "cell_type": "markdown",
   "metadata": {},
   "source": [
    "## Section 20"
   ]
  },
  {
   "cell_type": "code",
   "execution_count": 25,
   "metadata": {},
   "outputs": [],
   "source": [
    "# 20 - Create an empty list and name it \"means_diff\" for differences of population mean and sample means;\n",
    "# Loop through the list sample_sizes:\n",
    "# For each element in the sample size list, obtain a random sample of that size from the data frame;\n",
    "# Calculate the sample mean \n",
    "# Calculate the difference between the population mean and the sample mean\n",
    "# Append the difference to the list \"means_diff\"\n",
    "# Display the list \"means_diff\" after the loop is completed\n",
    "\n",
    "means_diff = []\n",
    "for i in sample_sizes:\n",
    "    means_diff.append(round(difference(i,df),2))"
   ]
  },
  {
   "cell_type": "code",
   "execution_count": 26,
   "metadata": {},
   "outputs": [
    {
     "name": "stdout",
     "output_type": "stream",
     "text": [
      "[-2627.23, 1586.77, -595.23, 804.27, -2683.43, -335.73, -5507.23, -391.48, 2141.11, -2553.53, 125.05, -438.89, 1898.47, -976.23, 383.97, 90.15, -2108.34, 1250.94, 1006.04, 2493.92, 1217.96, -545.5, 417.56, -976.77, -246.71, 2295.62, 989.44, 2438.17, 69.46, 1554.44, 389.84, -2063.1, -681.92, -2232.87, 822.43, 630.55, 516.64, 88.67, 1187.75, -973.53, -1307.08, 1024.61, -205.06, -592.14, 303.91, -1062.7, 366.6, -160.43, -1375.02, -2650.83]\n"
     ]
    }
   ],
   "source": [
    "print(means_diff)"
   ]
  },
  {
   "cell_type": "markdown",
   "metadata": {},
   "source": [
    "## Section 21"
   ]
  },
  {
   "cell_type": "code",
   "execution_count": 27,
   "metadata": {},
   "outputs": [
    {
     "data": {
      "image/png": "[encoded data removed]",
      "text/plain": [
       "<Figure size 1152x504 with 1 Axes>"
      ]
     },
     "metadata": {
      "needs_background": "light"
     },
     "output_type": "display_data"
    }
   ],
   "source": [
    "# 21 - Make a scatter plot with sample size on the x-axs and  mean difference on the y-axis\n",
    "# Observe as the sample size increases, the sample means converge to the population mean.\n",
    "# Make sure you make the plot large enough \n",
    "\n",
    "fig, ax = plt.subplots(figsize=(16,7))\n",
    "\n",
    "ax.scatter(sample_sizes, means_diff,color='r')\n",
    "ax.set_title('Scatter Plot of Sample and Population Tuitions')\n",
    "ax.set_xlabel('Sample Size')\n",
    "ax.set_ylabel('Difference of Sample and Population tuitions (USD)')\n",
    "plt.show()"
   ]
  },
  {
   "cell_type": "markdown",
   "metadata": {},
   "source": [
    "## Section 22"
   ]
  },
  {
   "cell_type": "code",
   "execution_count": 28,
   "metadata": {},
   "outputs": [],
   "source": [
    "# 22 - repeat 18 to 21 by replacing 50 with a larger number. For example, 300, or even 1000.\n",
    "# and see how the plot looks.\n",
    "\n",
    "# sample size = 300\n",
    "\n",
    "sample_sizes = [i for i in range(1,301)]\n",
    "\n",
    "means_diff = []\n",
    "for i in sample_sizes:\n",
    "    means_diff.append(round(difference(i,df),2))"
   ]
  },
  {
   "cell_type": "code",
   "execution_count": 29,
   "metadata": {},
   "outputs": [
    {
     "data": {
      "image/png": "[encoded data removed]",
      "text/plain": [
       "<Figure size 1152x504 with 1 Axes>"
      ]
     },
     "metadata": {
      "needs_background": "light"
     },
     "output_type": "display_data"
    }
   ],
   "source": [
    "fig, ax = plt.subplots(figsize=(16,7))\n",
    "\n",
    "ax.scatter(sample_sizes, means_diff,color='b')\n",
    "ax.set_title('Scatter Plot of Sample and Population Tuitions')\n",
    "ax.set_xlabel('Sample Size')\n",
    "ax.set_ylabel('Difference of Sample and Population tuitions (USD)')\n",
    "plt.show()"
   ]
  },
  {
   "cell_type": "code",
   "execution_count": 30,
   "metadata": {},
   "outputs": [],
   "source": [
    "# sample size = 1000\n",
    "\n",
    "sample_sizes = [i for i in range(1,1001)]\n",
    "\n",
    "means_diff = []\n",
    "for i in sample_sizes:\n",
    "    means_diff.append(round(difference(i,df),2))"
   ]
  },
  {
   "cell_type": "code",
   "execution_count": 31,
   "metadata": {},
   "outputs": [
    {
     "data": {
      "image/png": "[encoded data removed]",
      "text/plain": [
       "<Figure size 1152x504 with 1 Axes>"
      ]
     },
     "metadata": {
      "needs_background": "light"
     },
     "output_type": "display_data"
    }
   ],
   "source": [
    "fig, ax = plt.subplots(figsize=(16,7))\n",
    "\n",
    "ax.scatter(sample_sizes, means_diff,color='g')\n",
    "ax.set_title('Scatter Plot of Sample and Population Tuitions')\n",
    "ax.set_xlabel('Sample Size')\n",
    "ax.set_ylabel('Difference of Sample and Population tuitions (USD)')\n",
    "plt.show()"
   ]
  },
  {
   "cell_type": "markdown",
   "metadata": {},
   "source": [
    "As expected, when the sizes of the samples are increased the difference converges to 0! "
   ]
  },
  {
   "cell_type": "code",
   "execution_count": null,
   "metadata": {},
   "outputs": [],
   "source": []
  }
 ],
 "metadata": {
  "kernelspec": {
   "display_name": "Python 3",
   "language": "python",
   "name": "python3"
  },
  "language_info": {
   "codemirror_mode": {
    "name": "ipython",
    "version": 3
   },
   "file_extension": ".py",
   "mimetype": "text/x-python",
   "name": "python",
   "nbconvert_exporter": "python",
   "pygments_lexer": "ipython3",
   "version": "3.7.2"
  }
 },
 "nbformat": 4,
 "nbformat_minor": 2
}
