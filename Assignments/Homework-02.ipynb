{
 "cells": [
  {
   "cell_type": "markdown",
   "metadata": {},
   "source": [
    "# DATA-690-Homework 02"
   ]
  },
  {
   "cell_type": "markdown",
   "metadata": {},
   "source": [
    "## Necessary Functions Defined for Homework 02"
   ]
  },
  {
   "cell_type": "code",
   "execution_count": 1,
   "metadata": {},
   "outputs": [],
   "source": [
    "# This function calculates the maximum of a list of real numbers.\n",
    "\n",
    "def Max(L):\n",
    "    if len(L)==0:\n",
    "        a='The list is empty!'\n",
    "    else:\n",
    "        a=L[0];\n",
    "        for k in range(len(L)):\n",
    "            if L[k]>a:\n",
    "                a=L[k]\n",
    "    return a"
   ]
  },
  {
   "cell_type": "code",
   "execution_count": 2,
   "metadata": {},
   "outputs": [],
   "source": [
    "# This function calculates the minimum of a list of real numbers.\n",
    "\n",
    "def Min(L):\n",
    "    if len(L)==0:\n",
    "        a='The list is empty!'\n",
    "    else:\n",
    "        a=L[0];\n",
    "        for k in range(len(L)):\n",
    "            if L[k]<a:\n",
    "                a=L[k]          \n",
    "    return a"
   ]
  },
  {
   "cell_type": "code",
   "execution_count": 3,
   "metadata": {},
   "outputs": [],
   "source": [
    "# This function calculates the range of a list of real numbers.\n",
    "\n",
    "def Range(L):\n",
    "    if len(L)==0:\n",
    "        a='The list is empty!'\n",
    "    else:\n",
    "        a=Max(L)-Min(L)\n",
    "    return a"
   ]
  },
  {
   "cell_type": "code",
   "execution_count": 4,
   "metadata": {},
   "outputs": [],
   "source": [
    "# This function calculates the average of a list of real numbers.\n",
    "\n",
    "def Average(L):\n",
    "    if len(L)==0:\n",
    "        a='The list is empty!'\n",
    "    else:\n",
    "        a=0\n",
    "        for k in range(len(L)):\n",
    "            a += L[k]\n",
    "        a /=len(L)\n",
    "    return a"
   ]
  },
  {
   "cell_type": "code",
   "execution_count": 5,
   "metadata": {},
   "outputs": [],
   "source": [
    "# This function calculates the variance of a list of real numbers. The variable Type specifies \n",
    "# whether the data belongs to a population or a sample. \n",
    "\n",
    "def Variance(L,Type):\n",
    "    if len(L)==0:\n",
    "        a='The list is empty!'\n",
    "    else:\n",
    "        a=0\n",
    "        for k in range(len(L)):\n",
    "            a += (L[k]-Average(L))**2\n",
    "        if Type=='P':\n",
    "            a /= len(L)\n",
    "        else:\n",
    "            a /= len(L)-1\n",
    "    return a"
   ]
  },
  {
   "cell_type": "code",
   "execution_count": 6,
   "metadata": {},
   "outputs": [],
   "source": [
    "# This function calculates the standard deviation of a list of real numbers. The variable Type specifies \n",
    "# whether the data belongs to a population or a sample. \n",
    "\n",
    "def StanDev(L,Type):\n",
    "    if len(L)==0:\n",
    "        a='The list is empty!'\n",
    "    else:\n",
    "        a=Variance(L,Type)**(1/2)\n",
    "    return a"
   ]
  },
  {
   "cell_type": "code",
   "execution_count": 7,
   "metadata": {},
   "outputs": [],
   "source": [
    "# This function checks whether a string L is merely composed of digits.\n",
    "\n",
    "def IntCheck(L):\n",
    "    S={'0','1','2','3','4','5','6','7','8','9'}\n",
    "    if L=='':\n",
    "        a=False\n",
    "    else:\n",
    "        for m in range(len(L)):\n",
    "            if L[m] not in S:\n",
    "                a=False\n",
    "                break \n",
    "            else:\n",
    "                a=True\n",
    "    return a"
   ]
  },
  {
   "cell_type": "code",
   "execution_count": 8,
   "metadata": {},
   "outputs": [],
   "source": [
    "# This function checks whether string L is merely composed of digits and the minus sign.\n",
    "\n",
    "def IntCheckPM(L):\n",
    "    S={'-','0','1','2','3','4','5','6','7','8','9'}\n",
    "    if L=='':\n",
    "        a=False\n",
    "    else:\n",
    "        for m in range(len(L)):\n",
    "            if L[m] not in S:\n",
    "                a=False\n",
    "                break \n",
    "            else:\n",
    "                a=True\n",
    "    return a"
   ]
  },
  {
   "cell_type": "markdown",
   "metadata": {},
   "source": [
    "# Constructing the Data Set"
   ]
  },
  {
   "cell_type": "code",
   "execution_count": 9,
   "metadata": {},
   "outputs": [],
   "source": [
    "import time"
   ]
  },
  {
   "cell_type": "code",
   "execution_count": 10,
   "metadata": {},
   "outputs": [
    {
     "name": "stdout",
     "output_type": "stream",
     "text": [
      "Sample or Population? Please enter either S or P: S\n",
      "What is the total number of integers in your data set?10\n",
      "What is the number 1 integer of your data set? 8\n",
      "What is the number 2 integer of your data set? -3\n",
      "What is the number 3 integer of your data set? 91\n",
      "What is the number 4 integer of your data set? 13\n",
      "What is the number 5 integer of your data set? -17\n",
      "What is the number 6 integer of your data set? 19\n",
      "What is the number 7 integer of your data set? -23\n",
      "What is the number 8 integer of your data set? 29\n",
      "What is the number 9 integer of your data set? -31\n",
      "What is the number 10 integer of your data set? 37\n",
      "Your list of integers are [8, -3, 91, 13, -17, 19, -23, 29, -31, 37]\n",
      "Minimum of your data set is:  -31\n",
      "Maximum of your data set is:  91\n",
      "Range of your data set is:  122\n",
      "Mean of your data set is:  12.3\n",
      "Variance of your data set is:  1262.2333333333331\n",
      "Standard deviation of your data set is:  35.52792329046736\n"
     ]
    }
   ],
   "source": [
    "# The code first asks whether the data belongs to a population or to a sample. \n",
    "\n",
    "Type=input('Sample or Population? Please enter either S or P: ')\n",
    "while Type not in {'S','P'}:\n",
    "    print('Please enter either S for sample or P for population!')\n",
    "    Type=input('Sample or Population? Please enter either S or P: ')\n",
    "\n",
    "# The code asks the total number of integer in the data set.\n",
    "\n",
    "xstr=input('What is the total number of integers in your data set?')\n",
    "while IntCheck(xstr)==False:\n",
    "    print('Please enter a positive integer!')\n",
    "    xstr=input('What is the total number of integers in your data set? ')    \n",
    "\n",
    "# The code asks the user to enter the integers one by one.\n",
    "    \n",
    "NN=int(xstr); Y=[];\n",
    "for n in range(1,NN+1):\n",
    "    Gstr=input('What is the number {} integer of your data set? '.format(n))\n",
    "    while IntCheckPM(Gstr)==False:\n",
    "        print('please enter an integer!')\n",
    "        Gstr=input('What is the number {} integer in your data set? '.format(n))\n",
    "    Y.append(int(Gstr))\n",
    "    \n",
    "# The code constructs a list of integers (i.e. Y). Using the functions defined earlier, the code \n",
    "# calculates and spits out the minimum, maximum, range, mean, variance, and the standard deviation of the data set.\n",
    "    \n",
    "print('Your list of integers are',Y)\n",
    "time.sleep(1)\n",
    "print('Minimum of your data set is: ',Min(Y))\n",
    "time.sleep(1)\n",
    "print('Maximum of your data set is: ',Max(Y))\n",
    "time.sleep(1)\n",
    "print('Range of your data set is: ',Range(Y))\n",
    "time.sleep(1)\n",
    "print('Mean of your data set is: ',Average(Y))\n",
    "time.sleep(1)\n",
    "print('Variance of your data set is: ',Variance(Y,Type))\n",
    "time.sleep(1)\n",
    "print('Standard deviation of your data set is: ',StanDev(Y,Type))"
   ]
  }
 ],
 "metadata": {
  "kernelspec": {
   "display_name": "Python 3",
   "language": "python",
   "name": "python3"
  },
  "language_info": {
   "codemirror_mode": {
    "name": "ipython",
    "version": 3
   },
   "file_extension": ".py",
   "mimetype": "text/x-python",
   "name": "python",
   "nbconvert_exporter": "python",
   "pygments_lexer": "ipython3",
   "version": "3.7.2"
  }
 },
 "nbformat": 4,
 "nbformat_minor": 2
}
